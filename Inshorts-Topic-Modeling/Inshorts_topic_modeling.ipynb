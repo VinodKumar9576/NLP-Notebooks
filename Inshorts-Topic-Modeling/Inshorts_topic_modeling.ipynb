{
  "nbformat": 4,
  "nbformat_minor": 0,
  "metadata": {
    "kernelspec": {
      "display_name": "Python 3.7.5 64-bit ('pytorch_env': conda)",
      "language": "python",
      "name": "python37564bitpytorchenvconda1a599ba2df0f415ab16aa82c434e76bb"
    },
    "language_info": {
      "codemirror_mode": {
        "name": "ipython",
        "version": 3
      },
      "file_extension": ".py",
      "mimetype": "text/x-python",
      "name": "python",
      "nbconvert_exporter": "python",
      "pygments_lexer": "ipython3",
      "version": "3.7.5"
    },
    "colab": {
      "name": "Inshorts_topic_modeling.ipynb",
      "provenance": [],
      "include_colab_link": true
    }
  },
  "cells": [
    {
      "cell_type": "markdown",
      "metadata": {
        "id": "view-in-github",
        "colab_type": "text"
      },
      "source": [
        "<a href=\"https://colab.research.google.com/github/biku1998/NLP-Notebooks/blob/master/Inshorts-Topic-Modeling/Inshorts_topic_modeling.ipynb\" target=\"_parent\"><img src=\"https://colab.research.google.com/assets/colab-badge.svg\" alt=\"Open In Colab\"/></a>"
      ]
    },
    {
      "cell_type": "markdown",
      "metadata": {
        "id": "qqHHHswoISqS",
        "colab_type": "text"
      },
      "source": [
        "## Inshort News Topic Modeling Using Gensim\n",
        "---\n",
        "### Notebook Outlines\n",
        "* **Scrape the news data from Inshorts Using `beautifulSoup` and `selenium`**\n",
        "* **Process the collected data**\n",
        "* **Build a topic model**\n",
        "\n",
        "\n",
        "**If you are new to topic modeling check out this** <a href = \"https://colab.research.google.com/github/biku1998/NLP-Notebooks/blob/master/NLP_04_Topic_Modeling_LDA_Gensim.ipynb\"><button>**Notebook**</button>"
      ]
    },
    {
      "cell_type": "markdown",
      "metadata": {
        "id": "U95OQAxoISqT",
        "colab_type": "text"
      },
      "source": [
        "- Data Collection\n",
        "    \n",
        "    For data collection we will use bs4 and selenium as if you look on the inshort website [https://inshorts.com/en/read]. We have to click on the button at the bottom of the page to fetch more news."
      ]
    },
    {
      "cell_type": "code",
      "metadata": {
        "id": "8alwK-V5ISqT",
        "colab_type": "code",
        "colab": {}
      },
      "source": [
        "path_to_selenium_driver = \"C:/chromedriver_win32/chromedriver.exe\""
      ],
      "execution_count": 0,
      "outputs": []
    },
    {
      "cell_type": "code",
      "metadata": {
        "id": "CRcYWYFQISqX",
        "colab_type": "code",
        "colab": {}
      },
      "source": [
        "from selenium import webdriver\n",
        "from selenium.webdriver.support.ui import Select\n",
        "from selenium.webdriver.chrome.options import Options\n",
        "import pandas as pd\n",
        "from tqdm import tqdm\n",
        "import requests\n",
        "from bs4 import BeautifulSoup\n",
        "import time"
      ],
      "execution_count": 0,
      "outputs": []
    },
    {
      "cell_type": "code",
      "metadata": {
        "id": "Ue6kLI-IISqZ",
        "colab_type": "code",
        "colab": {}
      },
      "source": [
        "def news_collector(ntimes,url,path_to_selenium_driver):\n",
        "    \"\"\"\n",
        "    to collect data from inshorts\n",
        "    parameters :\n",
        "    ntime : how many times `load more` button will be clicked ?\n",
        "    url : url of the website\n",
        "    path_to_selenium_driver : path to selenium driver\n",
        "    \"\"\"\n",
        "    driver = webdriver.Chrome(path_to_selenium_driver)\n",
        "    driver.get(url)\n",
        "    \n",
        "    \n",
        "    \n",
        "    # find the button\n",
        "    load_more_button  = driver.find_element_by_xpath(\"//*[@id='load-more-btn']\")\n",
        "    \n",
        "    # click on the button n times\n",
        "    print(\"Performing the click event !!\")\n",
        "    \n",
        "    for i in range(ntimes):\n",
        "        driver.execute_script(\"window.scrollTo(0, document.body.scrollHeight);\")\n",
        "        time.sleep(1) # a great hack\n",
        "        load_more_button.click()\n",
        "    \n",
        "    # get the news blocks\n",
        "    news_page_source = driver.page_source\n",
        "    \n",
        "    driver.close()\n",
        "    \n",
        "    return news_page_source\n",
        "    "
      ],
      "execution_count": 0,
      "outputs": []
    },
    {
      "cell_type": "code",
      "metadata": {
        "id": "MbB5VmvnISqb",
        "colab_type": "code",
        "colab": {}
      },
      "source": [
        "def get_news_from_page_source(page_source):\n",
        "    \"\"\"\n",
        "    to return a clean formated data from a page source provided by selenium\n",
        "    \"\"\"\n",
        "    \n",
        "    soup = BeautifulSoup(page_source)\n",
        "    \n",
        "    news_blocks = soup.find_all(\"div\",\"news-card z-depth-1\")\n",
        "    \n",
        "    print(f\"Total {len(news_blocks)} news blocks found !\")\n",
        "    \n",
        "#     print(news_blocks[0].prettify()) # for debug\n",
        "\n",
        "    # create structure for dataFrame\n",
        "    \n",
        "    df_columns = ['news_title',\"news_text\"]\n",
        "    \n",
        "    rows = []\n",
        "    \n",
        "    print(\"Extracting news from html !\")\n",
        "    for block in news_blocks:\n",
        "        \n",
        "        news_title = block.find(itemprop=\"headline\").text\n",
        "        \n",
        "        news_text = block.find(\"div\",\"news-card-content news-right-box\").text\n",
        "        \n",
        "        # append the data in rows\n",
        "        \n",
        "        rows.append((news_title,news_text))\n",
        "        \n",
        "        # for debug only\n",
        "        \n",
        "#         print(\"-----------------------------------\")\n",
        "        \n",
        "#         print(f\"news title : \",news_title)\n",
        "#         print(f\"news text  :\", news_text)\n",
        "        \n",
        "#         print(\"-----------------------------------\")\n",
        "\n",
        "    return pd.DataFrame(data = rows,columns  = df_columns)    "
      ],
      "execution_count": 0,
      "outputs": []
    },
    {
      "cell_type": "code",
      "metadata": {
        "id": "JKYIjvRgISqd",
        "colab_type": "code",
        "colab": {}
      },
      "source": [
        "def dataloader(ntimes,url,path_to_selenium_driver):\n",
        "    \"\"\"\n",
        "    will use the above functions to fetch and collect data and return a DataFrame\n",
        "    \"\"\"\n",
        "    \n",
        "    news_blocks_page_source = news_collector(ntimes,url,path_to_selenium_driver)\n",
        "    \n",
        "    df = get_news_from_page_source(news_blocks_page_source)\n",
        "    \n",
        "    return df\n",
        "    "
      ],
      "execution_count": 0,
      "outputs": []
    },
    {
      "cell_type": "code",
      "metadata": {
        "id": "4I6VizjxISqg",
        "colab_type": "code",
        "colab": {}
      },
      "source": [
        "df_news = dataloader(20,\"https://inshorts.com/en/read\",path_to_selenium_driver)"
      ],
      "execution_count": 0,
      "outputs": []
    },
    {
      "cell_type": "code",
      "metadata": {
        "id": "FC7yNA4CISqi",
        "colab_type": "code",
        "colab": {}
      },
      "source": [
        "df_news.shape"
      ],
      "execution_count": 0,
      "outputs": []
    },
    {
      "cell_type": "code",
      "metadata": {
        "id": "4nxzva2VISqk",
        "colab_type": "code",
        "colab": {}
      },
      "source": [
        "df_news.head()"
      ],
      "execution_count": 0,
      "outputs": []
    },
    {
      "cell_type": "code",
      "metadata": {
        "id": "hTTBZXzbISqn",
        "colab_type": "code",
        "colab": {}
      },
      "source": [
        "df_news.to_csv(\"./inshorts_news_data.csv\",index = False)"
      ],
      "execution_count": 0,
      "outputs": []
    },
    {
      "cell_type": "code",
      "metadata": {
        "id": "CVivgMgIISqq",
        "colab_type": "code",
        "colab": {}
      },
      "source": [
        "# load the data\n",
        "\n",
        "df_news = pd.read_csv(\"./inshorts_news_data.csv\")"
      ],
      "execution_count": 0,
      "outputs": []
    },
    {
      "cell_type": "code",
      "metadata": {
        "id": "bRQL-p5hISqs",
        "colab_type": "code",
        "colab": {},
        "outputId": "ab650b2c-7507-4fb5-cadf-34697b31ce30"
      },
      "source": [
        "df_news.head()"
      ],
      "execution_count": 0,
      "outputs": [
        {
          "output_type": "execute_result",
          "data": {
            "text/html": [
              "<div>\n",
              "<style scoped>\n",
              "    .dataframe tbody tr th:only-of-type {\n",
              "        vertical-align: middle;\n",
              "    }\n",
              "\n",
              "    .dataframe tbody tr th {\n",
              "        vertical-align: top;\n",
              "    }\n",
              "\n",
              "    .dataframe thead th {\n",
              "        text-align: right;\n",
              "    }\n",
              "</style>\n",
              "<table border=\"1\" class=\"dataframe\">\n",
              "  <thead>\n",
              "    <tr style=\"text-align: right;\">\n",
              "      <th></th>\n",
              "      <th>news_title</th>\n",
              "      <th>news_text</th>\n",
              "    </tr>\n",
              "  </thead>\n",
              "  <tbody>\n",
              "    <tr>\n",
              "      <th>0</th>\n",
              "      <td>Passenger train services to restart from May 1...</td>\n",
              "      <td>\\nThe Indian Railways will gradually restart p...</td>\n",
              "    </tr>\n",
              "    <tr>\n",
              "      <th>1</th>\n",
              "      <td>Former PM Manmohan Singh admitted to AIIMS aft...</td>\n",
              "      <td>\\nFormer Prime Minister Manmohan Singh has bee...</td>\n",
              "    </tr>\n",
              "    <tr>\n",
              "      <th>2</th>\n",
              "      <td>Coronavirus cases rise to 3,814 in Rajasthan, ...</td>\n",
              "      <td>\\nRajasthan on Sunday reported 106 new coronav...</td>\n",
              "    </tr>\n",
              "    <tr>\n",
              "      <th>3</th>\n",
              "      <td>India develops its 1st indigenous antibody det...</td>\n",
              "      <td>\\nThe National Institute of Virology in Pune h...</td>\n",
              "    </tr>\n",
              "    <tr>\n",
              "      <th>4</th>\n",
              "      <td>What are the guidelines for passengers ahead o...</td>\n",
              "      <td>\\nBooking for the special passenger trains tha...</td>\n",
              "    </tr>\n",
              "  </tbody>\n",
              "</table>\n",
              "</div>"
            ],
            "text/plain": [
              "                                          news_title  \\\n",
              "0  Passenger train services to restart from May 1...   \n",
              "1  Former PM Manmohan Singh admitted to AIIMS aft...   \n",
              "2  Coronavirus cases rise to 3,814 in Rajasthan, ...   \n",
              "3  India develops its 1st indigenous antibody det...   \n",
              "4  What are the guidelines for passengers ahead o...   \n",
              "\n",
              "                                           news_text  \n",
              "0  \\nThe Indian Railways will gradually restart p...  \n",
              "1  \\nFormer Prime Minister Manmohan Singh has bee...  \n",
              "2  \\nRajasthan on Sunday reported 106 new coronav...  \n",
              "3  \\nThe National Institute of Virology in Pune h...  \n",
              "4  \\nBooking for the special passenger trains tha...  "
            ]
          },
          "metadata": {
            "tags": []
          },
          "execution_count": 72
        }
      ]
    },
    {
      "cell_type": "code",
      "metadata": {
        "id": "ttYEUPYAISqw",
        "colab_type": "code",
        "colab": {},
        "outputId": "0f4b71bf-48c2-4763-f835-410e4e79bad7"
      },
      "source": [
        "print(df_news['news_title'].values[0])"
      ],
      "execution_count": 0,
      "outputs": [
        {
          "output_type": "stream",
          "text": [
            "Passenger train services to restart from May 12 with 15 pairs of trains: Govt\n"
          ],
          "name": "stdout"
        }
      ]
    },
    {
      "cell_type": "code",
      "metadata": {
        "id": "gL969PzaISqy",
        "colab_type": "code",
        "colab": {},
        "outputId": "30a87c68-2d3e-4485-e329-b4fe3dda6d96"
      },
      "source": [
        "print(df_news['news_text'].values[0])"
      ],
      "execution_count": 0,
      "outputs": [
        {
          "output_type": "stream",
          "text": [
            "\n",
            "The Indian Railways will gradually restart passenger train operations from May 12, initially with 15 pairs of trains (30 return journeys), it announced. These trains will be run as special trains from New Delhi connecting 15 important cities including Bengaluru, Chennai, Mumbai and Ahmedabad, Railways tweeted. Booking for reservation in these trains will start at 4 pm on May 11.\n",
            "\n",
            "short by Anmol Sharma / \n",
            "      09:00 pm on 10 May\n",
            "\n",
            "\n"
          ],
          "name": "stdout"
        }
      ]
    },
    {
      "cell_type": "markdown",
      "metadata": {
        "id": "LOJkFr0qISq0",
        "colab_type": "text"
      },
      "source": [
        "**Note**\n",
        "* we have to remove \"short by Anmol Sharma / 09:00 pm on 10 May\" phrase from the end of the news text, as it contains no information"
      ]
    },
    {
      "cell_type": "code",
      "metadata": {
        "id": "tXzeV8lUISq1",
        "colab_type": "code",
        "colab": {}
      },
      "source": [
        "def remove_text(news_text):\n",
        "    return news_text.strip().split(\"short\")[0].strip()"
      ],
      "execution_count": 0,
      "outputs": []
    },
    {
      "cell_type": "code",
      "metadata": {
        "id": "XC06h__FISq3",
        "colab_type": "code",
        "colab": {}
      },
      "source": [
        "df_news['news_text'] = df_news['news_text'].apply(remove_text)"
      ],
      "execution_count": 0,
      "outputs": []
    },
    {
      "cell_type": "code",
      "metadata": {
        "id": "hYc6eNZGISq4",
        "colab_type": "code",
        "colab": {},
        "outputId": "97e4683f-1fb1-48f8-fa3d-687f7d590b58"
      },
      "source": [
        "print(df_news['news_text'].values[0])"
      ],
      "execution_count": 0,
      "outputs": [
        {
          "output_type": "stream",
          "text": [
            "The Indian Railways will gradually restart passenger train operations from May 12, initially with 15 pairs of trains (30 return journeys), it announced. These trains will be run as special trains from New Delhi connecting 15 important cities including Bengaluru, Chennai, Mumbai and Ahmedabad, Railways tweeted. Booking for reservation in these trains will start at 4 pm on May 11.\n"
          ],
          "name": "stdout"
        }
      ]
    },
    {
      "cell_type": "code",
      "metadata": {
        "id": "sLImHi5cISq7",
        "colab_type": "code",
        "colab": {},
        "outputId": "0d2fa140-e158-496e-8718-2367486a47b8"
      },
      "source": [
        "# pre-process imports\n",
        "\n",
        "import numpy as np\n",
        "import matplotlib.pyplot as plt\n",
        "import os,re\n",
        "from gensim.parsing.preprocessing import remove_stopwords,strip_punctuation\n",
        "import nltk\n",
        "nltk.download(\"wordnet\")\n",
        "\n",
        "from nltk.stem import WordNetLemmatizer"
      ],
      "execution_count": 0,
      "outputs": [
        {
          "output_type": "stream",
          "text": [
            "[nltk_data] Downloading package wordnet to\n",
            "[nltk_data]     C:\\Users\\Sourabh\\AppData\\Roaming\\nltk_data...\n",
            "[nltk_data]   Package wordnet is already up-to-date!\n"
          ],
          "name": "stderr"
        }
      ]
    },
    {
      "cell_type": "code",
      "metadata": {
        "id": "Blw9tU08ISq9",
        "colab_type": "code",
        "colab": {}
      },
      "source": [
        "def pre_process_news(texts):\n",
        "    \n",
        "    # tokenization\n",
        "    \n",
        "    texts = [re.findall(r'\\w+', line.lower()) for line in texts]\n",
        "    \n",
        "    # remove stopwords\n",
        "    \n",
        "    texts = [remove_stopwords(' '.join(line)).split() for line in texts]\n",
        "    \n",
        "    # remove punctuation\n",
        "    \n",
        "    texts = [strip_punctuation(' '.join(line)).split() for line in texts]\n",
        "    \n",
        "    # remove words that are only 1-2 character\n",
        "    texts = [[token for token in line if len(token) > 2] for line in texts]\n",
        "    \n",
        "    # remove numbers\n",
        "    texts = [[token for token in line if not token.isnumeric()] for line in texts]\n",
        "    \n",
        "    # lemmatization \n",
        " \n",
        "    lemmatizer = WordNetLemmatizer()\n",
        "    texts = [[word for word in lemmatizer.lemmatize(' '.join(line), pos='v').split()] for line in texts]\n",
        "    \n",
        "    return texts"
      ],
      "execution_count": 0,
      "outputs": []
    },
    {
      "cell_type": "code",
      "metadata": {
        "id": "rEo_uy52ISq_",
        "colab_type": "code",
        "colab": {}
      },
      "source": [
        "news_cleaned = pre_process_news(df_news['news_text'].values)"
      ],
      "execution_count": 0,
      "outputs": []
    },
    {
      "cell_type": "code",
      "metadata": {
        "id": "IfNAJdTsISrA",
        "colab_type": "code",
        "colab": {},
        "outputId": "4971e6c4-3cbe-4a41-8ff7-d714bccb0a9e"
      },
      "source": [
        "len(news_cleaned)"
      ],
      "execution_count": 0,
      "outputs": [
        {
          "output_type": "execute_result",
          "data": {
            "text/plain": [
              "532"
            ]
          },
          "metadata": {
            "tags": []
          },
          "execution_count": 84
        }
      ]
    },
    {
      "cell_type": "code",
      "metadata": {
        "id": "WRxMWHB8ISrC",
        "colab_type": "code",
        "colab": {},
        "outputId": "e8dee3ea-001f-4264-b67a-21599a7509a1"
      },
      "source": [
        "news_cleaned[0]"
      ],
      "execution_count": 0,
      "outputs": [
        {
          "output_type": "execute_result",
          "data": {
            "text/plain": [
              "['indian',\n",
              " 'railways',\n",
              " 'gradually',\n",
              " 'restart',\n",
              " 'passenger',\n",
              " 'train',\n",
              " 'operations',\n",
              " 'initially',\n",
              " 'pairs',\n",
              " 'trains',\n",
              " 'return',\n",
              " 'journeys',\n",
              " 'announced',\n",
              " 'trains',\n",
              " 'run',\n",
              " 'special',\n",
              " 'trains',\n",
              " 'new',\n",
              " 'delhi',\n",
              " 'connecting',\n",
              " 'important',\n",
              " 'cities',\n",
              " 'including',\n",
              " 'bengaluru',\n",
              " 'chennai',\n",
              " 'mumbai',\n",
              " 'ahmedabad',\n",
              " 'railways',\n",
              " 'tweeted',\n",
              " 'booking',\n",
              " 'reservation',\n",
              " 'trains',\n",
              " 'start']"
            ]
          },
          "metadata": {
            "tags": []
          },
          "execution_count": 85
        }
      ]
    },
    {
      "cell_type": "code",
      "metadata": {
        "id": "2JKQTe91ISrE",
        "colab_type": "code",
        "colab": {}
      },
      "source": [
        "# bi gram collection detection\n",
        "\n",
        "from gensim.models.phrases import Phraser,Phrases\n",
        "\n",
        "# train the bigram det\n",
        "\n",
        "phrases = Phrases(news_cleaned,min_count = 1,threshold = 0.8,scoring = 'npmi')"
      ],
      "execution_count": 0,
      "outputs": []
    },
    {
      "cell_type": "code",
      "metadata": {
        "id": "AJHRg2zMISrG",
        "colab_type": "code",
        "colab": {}
      },
      "source": [
        "# now we create a transformer that will use the above trained model to transform new words\n",
        "\n",
        "bi_gram = Phraser(phrases)"
      ],
      "execution_count": 0,
      "outputs": []
    },
    {
      "cell_type": "code",
      "metadata": {
        "id": "5bQkIlF0ISrI",
        "colab_type": "code",
        "colab": {}
      },
      "source": [
        "# merging detected collocations with data\n",
        "\n",
        "news_cleaned = list(bi_gram[news_cleaned])"
      ],
      "execution_count": 0,
      "outputs": []
    },
    {
      "cell_type": "code",
      "metadata": {
        "id": "mxzx7papISrK",
        "colab_type": "code",
        "colab": {}
      },
      "source": [
        "# creating a numerical mapping for each word\n",
        "\n",
        "from gensim.corpora import Dictionary"
      ],
      "execution_count": 0,
      "outputs": []
    },
    {
      "cell_type": "code",
      "metadata": {
        "id": "VcZoeAd4ISrN",
        "colab_type": "code",
        "colab": {}
      },
      "source": [
        "dictionary = Dictionary(news_cleaned)"
      ],
      "execution_count": 0,
      "outputs": []
    },
    {
      "cell_type": "code",
      "metadata": {
        "id": "m0X0xEsaISrQ",
        "colab_type": "code",
        "colab": {}
      },
      "source": [
        "# remove rare words and most common words to improve our topic modeling\n",
        "\n",
        "# Filter out words that occur less than 10 documents, or more than 60% of the documents.\n",
        "\n",
        "dictionary.filter_extremes(no_below=10, no_above=0.6)"
      ],
      "execution_count": 0,
      "outputs": []
    },
    {
      "cell_type": "code",
      "metadata": {
        "id": "DrkRW9P_ISrS",
        "colab_type": "code",
        "colab": {}
      },
      "source": [
        "#  transform the documents to a vectorized form. We simply compute the frequency of each word, including the bigrams.\n",
        "\n",
        "corpus = [dictionary.doc2bow(text) for text in news_cleaned]"
      ],
      "execution_count": 0,
      "outputs": []
    },
    {
      "cell_type": "code",
      "metadata": {
        "id": "XzS3oLweISrT",
        "colab_type": "code",
        "colab": {},
        "outputId": "4e68f617-06bd-42e7-959e-2e0171cc45ff"
      },
      "source": [
        "doc_number = 0\n",
        "corpus[doc_number] # A document is represented as a list of tuples of (vocab ID, frequency) for each word."
      ],
      "execution_count": 0,
      "outputs": [
        {
          "output_type": "execute_result",
          "data": {
            "text/plain": [
              "[(0, 1),\n",
              " (1, 1),\n",
              " (2, 1),\n",
              " (3, 1),\n",
              " (4, 1),\n",
              " (5, 1),\n",
              " (6, 1),\n",
              " (7, 1),\n",
              " (8, 1),\n",
              " (9, 4),\n",
              " (10, 1)]"
            ]
          },
          "metadata": {
            "tags": []
          },
          "execution_count": 93
        }
      ]
    },
    {
      "cell_type": "code",
      "metadata": {
        "id": "GsSg6BoEISrV",
        "colab_type": "code",
        "colab": {}
      },
      "source": [
        "# train the lda model\n",
        "\n",
        "from gensim.models import LdaModel\n"
      ],
      "execution_count": 0,
      "outputs": []
    },
    {
      "cell_type": "code",
      "metadata": {
        "id": "KnIHS3nFISrX",
        "colab_type": "code",
        "colab": {}
      },
      "source": [
        "lda_model = LdaModel(corpus = corpus, id2word = dictionary, num_topics = 10, \\\n",
        "                      passes = 50, chunksize = 1500,iterations = 200,alpha = \"auto\")"
      ],
      "execution_count": 0,
      "outputs": []
    },
    {
      "cell_type": "code",
      "metadata": {
        "id": "nIhnCOuRISrZ",
        "colab_type": "code",
        "colab": {}
      },
      "source": [
        "# once the model is trained we save the model\n",
        "\n",
        "if os.path.isdir(\"./topic_models\") == False:\n",
        "    os.mkdir(\"./topic_models\")\n",
        "    \n",
        "lda_model.save(\"./topic_models/lda_model\")"
      ],
      "execution_count": 0,
      "outputs": []
    },
    {
      "cell_type": "code",
      "metadata": {
        "id": "3Se9NY_cISrb",
        "colab_type": "code",
        "colab": {}
      },
      "source": [
        "# To load the modal \n",
        "\n",
        "# lda_model  = lda_model.load(\"./topic_models/lda_model\")"
      ],
      "execution_count": 0,
      "outputs": []
    },
    {
      "cell_type": "code",
      "metadata": {
        "id": "E-Lc0QOmISrd",
        "colab_type": "code",
        "colab": {},
        "outputId": "5e8a71c4-4e8b-44bb-e180-ef6fce60a260"
      },
      "source": [
        "lda_model.show_topics(num_topics = 5)"
      ],
      "execution_count": 0,
      "outputs": [
        {
          "output_type": "execute_result",
          "data": {
            "text/plain": [
              "[(5,\n",
              "  '0.100*\"coronavirus\" + 0.082*\"said\" + 0.055*\"country\" + 0.048*\"china\" + 0.041*\"cases\" + 0.041*\"reported\" + 0.037*\"covid\" + 0.033*\"health\" + 0.029*\"ministry\" + 0.027*\"city\"'),\n",
              " (0,\n",
              "  '0.068*\"world\" + 0.055*\"women\" + 0.054*\"million\" + 0.044*\"coronavirus\" + 0.033*\"group\" + 0.033*\"video\" + 0.032*\"app\" + 0.032*\"trump\" + 0.032*\"report\" + 0.030*\"april\"'),\n",
              " (4,\n",
              "  '0.110*\"cases\" + 0.084*\"coronavirus\" + 0.056*\"state\" + 0.043*\"reported\" + 0.036*\"patients\" + 0.034*\"total_number\" + 0.033*\"health\" + 0.029*\"new\" + 0.028*\"taking\" + 0.024*\"covid\"'),\n",
              " (7,\n",
              "  '0.105*\"said\" + 0.062*\"coronavirus\" + 0.050*\"covid\" + 0.049*\"pandemic\" + 0.045*\"added\" + 0.041*\"amid\" + 0.032*\"people\" + 0.031*\"lockdown\" + 0.030*\"government\" + 0.030*\"friday\"'),\n",
              " (9,\n",
              "  '0.150*\"said\" + 0.103*\"india\" + 0.094*\"added\" + 0.032*\"indian\" + 0.030*\"cricket\" + 0.028*\"team\" + 0.028*\"australia\" + 0.025*\"stated\" + 0.024*\"played\" + 0.021*\"years\"')]"
            ]
          },
          "metadata": {
            "tags": []
          },
          "execution_count": 98
        }
      ]
    },
    {
      "cell_type": "code",
      "metadata": {
        "id": "WGdJ8eDpISre",
        "colab_type": "code",
        "colab": {}
      },
      "source": [
        "import pyLDAvis.gensim\n",
        "\n",
        "# set the notebook model\n",
        "pyLDAvis.enable_notebook()"
      ],
      "execution_count": 0,
      "outputs": []
    },
    {
      "cell_type": "code",
      "metadata": {
        "id": "_-J0FkDBISrg",
        "colab_type": "code",
        "colab": {}
      },
      "source": [
        "import warnings\n",
        "warnings.filterwarnings(\"ignore\")"
      ],
      "execution_count": 0,
      "outputs": []
    },
    {
      "cell_type": "markdown",
      "metadata": {
        "id": "Tk3Iwg04ISri",
        "colab_type": "text"
      },
      "source": [
        "**To understand what's going on in this plot refer this** <a href = \"https://colab.research.google.com/github/biku1998/NLP-Notebooks/blob/master/NLP_04_Topic_Modeling_LDA_Gensim.ipynb\"><button>**Notebook**</button>"
      ]
    },
    {
      "cell_type": "code",
      "metadata": {
        "id": "NN0rfBHQISrj",
        "colab_type": "code",
        "colab": {},
        "outputId": "6929fc14-701d-4730-b43c-179af401b83d"
      },
      "source": [
        "pyLDAvis.gensim.prepare(lda_model,corpus,dictionary,sort_topics = False)"
      ],
      "execution_count": 0,
      "outputs": [
        {
          "output_type": "execute_result",
          "data": {
            "text/html": [
              "\n",
              "<link rel=\"stylesheet\" type=\"text/css\" href=\"https://cdn.rawgit.com/bmabey/pyLDAvis/files/ldavis.v1.0.0.css\">\n",
              "\n",
              "\n",
              "<div id=\"ldavis_el2287218523131664087495971356\"></div>\n",
              "<script type=\"text/javascript\">\n",
              "\n",
              "var ldavis_el2287218523131664087495971356_data = {\"mdsDat\": {\"x\": [-0.09017673468268278, 0.07052061594601694, 0.0022065312792430808, 0.23945264679396921, -0.2509846567637757, -0.19947025544005972, -0.035953107798189124, -0.01757376625573895, 0.10689118667534374, 0.17508754024587328], \"y\": [0.029895991813132836, -0.058378258393339044, -0.22089994431215093, 0.09768764445322992, 0.09772264554636781, 0.09131204158968664, -0.2098554773841416, 0.00637273756851511, 0.14477158100918316, 0.021371038109516644], \"topics\": [1, 2, 3, 4, 5, 6, 7, 8, 9, 10], \"cluster\": [1, 1, 1, 1, 1, 1, 1, 1, 1, 1], \"Freq\": [5.927916049957275, 7.144493103027344, 9.117366790771484, 7.017549991607666, 23.171907424926758, 8.493395805358887, 6.733598709106445, 12.983152389526367, 8.200565338134766, 11.210058212280273]}, \"tinfo\": {\"Category\": [\"Default\", \"Default\", \"Default\", \"Default\", \"Default\", \"Default\", \"Default\", \"Default\", \"Default\", \"Default\", \"Default\", \"Default\", \"Default\", \"Default\", \"Default\", \"Default\", \"Default\", \"Default\", \"Default\", \"Default\", \"Default\", \"Default\", \"Default\", \"Default\", \"Default\", \"Default\", \"Default\", \"Default\", \"Default\", \"Default\", \"Topic1\", \"Topic1\", \"Topic1\", \"Topic1\", \"Topic1\", \"Topic1\", \"Topic1\", \"Topic1\", \"Topic1\", \"Topic1\", \"Topic1\", \"Topic1\", \"Topic1\", \"Topic1\", \"Topic1\", \"Topic1\", \"Topic1\", \"Topic1\", \"Topic1\", \"Topic1\", \"Topic1\", \"Topic1\", \"Topic1\", \"Topic1\", \"Topic1\", \"Topic1\", \"Topic1\", \"Topic1\", \"Topic1\", \"Topic1\", \"Topic1\", \"Topic1\", \"Topic1\", \"Topic1\", \"Topic2\", \"Topic2\", \"Topic2\", \"Topic2\", \"Topic2\", \"Topic2\", \"Topic2\", \"Topic2\", \"Topic2\", \"Topic2\", \"Topic2\", \"Topic2\", \"Topic2\", \"Topic2\", \"Topic2\", \"Topic2\", \"Topic2\", \"Topic2\", \"Topic2\", \"Topic2\", \"Topic2\", \"Topic2\", \"Topic2\", \"Topic2\", \"Topic2\", \"Topic2\", \"Topic2\", \"Topic2\", \"Topic2\", \"Topic2\", \"Topic2\", \"Topic2\", \"Topic2\", \"Topic2\", \"Topic2\", \"Topic2\", \"Topic2\", \"Topic2\", \"Topic3\", \"Topic3\", \"Topic3\", \"Topic3\", \"Topic3\", \"Topic3\", \"Topic3\", \"Topic3\", \"Topic3\", \"Topic3\", \"Topic3\", \"Topic3\", \"Topic3\", \"Topic3\", \"Topic3\", \"Topic3\", \"Topic3\", \"Topic3\", \"Topic3\", \"Topic3\", \"Topic3\", \"Topic3\", \"Topic3\", \"Topic3\", \"Topic3\", \"Topic3\", \"Topic3\", \"Topic3\", \"Topic3\", \"Topic3\", \"Topic3\", \"Topic3\", \"Topic3\", \"Topic3\", \"Topic3\", \"Topic3\", \"Topic3\", \"Topic3\", \"Topic4\", \"Topic4\", \"Topic4\", \"Topic4\", \"Topic4\", \"Topic4\", \"Topic4\", \"Topic4\", \"Topic4\", \"Topic4\", \"Topic4\", \"Topic4\", \"Topic4\", \"Topic4\", \"Topic4\", \"Topic4\", \"Topic4\", \"Topic4\", \"Topic4\", \"Topic4\", \"Topic4\", \"Topic4\", \"Topic4\", \"Topic4\", \"Topic4\", \"Topic4\", \"Topic4\", \"Topic4\", \"Topic4\", \"Topic4\", \"Topic4\", \"Topic4\", \"Topic4\", \"Topic5\", \"Topic5\", \"Topic5\", \"Topic5\", \"Topic5\", \"Topic5\", \"Topic5\", \"Topic5\", \"Topic5\", \"Topic5\", \"Topic5\", \"Topic5\", \"Topic5\", \"Topic5\", \"Topic5\", \"Topic5\", \"Topic5\", \"Topic5\", \"Topic5\", \"Topic5\", \"Topic5\", \"Topic5\", \"Topic5\", \"Topic5\", \"Topic5\", \"Topic5\", \"Topic5\", \"Topic5\", \"Topic5\", \"Topic5\", \"Topic5\", \"Topic5\", \"Topic5\", \"Topic5\", \"Topic5\", \"Topic5\", \"Topic5\", \"Topic6\", \"Topic6\", \"Topic6\", \"Topic6\", \"Topic6\", \"Topic6\", \"Topic6\", \"Topic6\", \"Topic6\", \"Topic6\", \"Topic6\", \"Topic6\", \"Topic6\", \"Topic6\", \"Topic6\", \"Topic6\", \"Topic6\", \"Topic6\", \"Topic6\", \"Topic6\", \"Topic6\", \"Topic6\", \"Topic6\", \"Topic6\", \"Topic6\", \"Topic6\", \"Topic6\", \"Topic6\", \"Topic6\", \"Topic6\", \"Topic6\", \"Topic6\", \"Topic6\", \"Topic6\", \"Topic6\", \"Topic6\", \"Topic6\", \"Topic6\", \"Topic6\", \"Topic7\", \"Topic7\", \"Topic7\", \"Topic7\", \"Topic7\", \"Topic7\", \"Topic7\", \"Topic7\", \"Topic7\", \"Topic7\", \"Topic7\", \"Topic7\", \"Topic7\", \"Topic7\", \"Topic7\", \"Topic7\", \"Topic7\", \"Topic7\", \"Topic7\", \"Topic7\", \"Topic7\", \"Topic7\", \"Topic7\", \"Topic7\", \"Topic7\", \"Topic7\", \"Topic7\", \"Topic7\", \"Topic7\", \"Topic7\", \"Topic7\", \"Topic7\", \"Topic7\", \"Topic7\", \"Topic7\", \"Topic7\", \"Topic7\", \"Topic7\", \"Topic8\", \"Topic8\", \"Topic8\", \"Topic8\", \"Topic8\", \"Topic8\", \"Topic8\", \"Topic8\", \"Topic8\", \"Topic8\", \"Topic8\", \"Topic8\", \"Topic8\", \"Topic8\", \"Topic8\", \"Topic8\", \"Topic8\", \"Topic8\", \"Topic8\", \"Topic8\", \"Topic8\", \"Topic8\", \"Topic8\", \"Topic8\", \"Topic8\", \"Topic8\", \"Topic8\", \"Topic8\", \"Topic8\", \"Topic8\", \"Topic8\", \"Topic8\", \"Topic8\", \"Topic8\", \"Topic8\", \"Topic8\", \"Topic8\", \"Topic8\", \"Topic8\", \"Topic8\", \"Topic8\", \"Topic9\", \"Topic9\", \"Topic9\", \"Topic9\", \"Topic9\", \"Topic9\", \"Topic9\", \"Topic9\", \"Topic9\", \"Topic9\", \"Topic9\", \"Topic9\", \"Topic9\", \"Topic9\", \"Topic9\", \"Topic9\", \"Topic9\", \"Topic9\", \"Topic9\", \"Topic9\", \"Topic9\", \"Topic9\", \"Topic9\", \"Topic9\", \"Topic9\", \"Topic9\", \"Topic9\", \"Topic9\", \"Topic9\", \"Topic9\", \"Topic9\", \"Topic9\", \"Topic9\", \"Topic9\", \"Topic9\", \"Topic9\", \"Topic9\", \"Topic10\", \"Topic10\", \"Topic10\", \"Topic10\", \"Topic10\", \"Topic10\", \"Topic10\", \"Topic10\", \"Topic10\", \"Topic10\", \"Topic10\", \"Topic10\", \"Topic10\", \"Topic10\", \"Topic10\", \"Topic10\", \"Topic10\", \"Topic10\", \"Topic10\", \"Topic10\", \"Topic10\", \"Topic10\", \"Topic10\", \"Topic10\", \"Topic10\", \"Topic10\", \"Topic10\", \"Topic10\", \"Topic10\", \"Topic10\", \"Topic10\", \"Topic10\", \"Topic10\", \"Topic10\", \"Topic10\", \"Topic10\"], \"Freq\": [168.0, 80.0, 426.0, 54.0, 56.0, 258.0, 119.0, 156.0, 30.0, 88.0, 35.0, 26.0, 35.0, 64.0, 66.0, 84.0, 30.0, 101.0, 47.0, 31.0, 44.0, 34.0, 45.0, 55.0, 25.0, 24.0, 36.0, 43.0, 19.0, 20.0, 19.05498504638672, 11.469114303588867, 23.48599624633789, 18.596044540405273, 11.182947158813477, 11.092687606811523, 6.502912521362305, 10.871809959411621, 7.576725959777832, 11.401468276977539, 7.2482991218566895, 10.301697731018066, 10.261530876159668, 5.17398738861084, 5.448339462280273, 7.734100818634033, 9.14619255065918, 4.918723106384277, 4.619641304016113, 4.8204851150512695, 5.858461380004883, 3.8869845867156982, 3.2356796264648438, 4.402267932891846, 8.049362182617188, 1.990876317024231, 5.804088592529297, 3.913872480392456, 2.1148149967193604, 3.075960159301758, 6.501922607421875, 15.0940523147583, 7.300497531890869, 3.4483141899108887, 17.467100143432617, 13.288717269897461, 12.4293851852417, 17.96925926208496, 7.754518032073975, 6.5612874031066895, 8.321615219116211, 8.084973335266113, 6.5248003005981445, 5.468630313873291, 8.239267349243164, 7.950674057006836, 6.73370885848999, 9.469141006469727, 4.732696533203125, 6.778323173522949, 3.8334145545959473, 5.850154876708984, 6.824090003967285, 7.952713966369629, 4.2465033531188965, 4.547143936157227, 3.5472071170806885, 3.2945730686187744, 3.7772018909454346, 4.172078609466553, 2.8325705528259277, 3.3618431091308594, 4.595935344696045, 5.7252516746521, 57.958229064941406, 6.622679233551025, 10.854827880859375, 4.40275764465332, 6.924574375152588, 7.4663848876953125, 5.6893310546875, 4.9192962646484375, 15.262237548828125, 10.522713661193848, 21.54784393310547, 9.074299812316895, 18.95347785949707, 9.405716896057129, 9.20004653930664, 10.522284507751465, 9.242353439331055, 8.944930076599121, 26.10938262939453, 18.951435089111328, 7.115423202514648, 7.071409225463867, 5.511765480041504, 7.948626518249512, 9.572250366210938, 34.55658721923828, 5.719686985015869, 7.72261905670166, 15.022706031799316, 5.668717384338379, 9.9163818359375, 5.5568342208862305, 2.9426136016845703, 2.938741683959961, 7.512746334075928, 3.0685198307037354, 8.207134246826172, 4.0740065574646, 15.623661994934082, 12.180760383605957, 22.96010398864746, 10.61897087097168, 32.06895065307617, 11.763022422790527, 7.5622453689575195, 6.106220245361328, 29.564613342285156, 13.403754234313965, 24.247953414916992, 8.650437355041504, 8.650056838989258, 16.191930770874023, 10.962040901184082, 12.243657112121582, 21.22515296936035, 22.646116256713867, 7.308235168457031, 11.521326065063477, 8.3792142868042, 4.848068714141846, 4.798943996429443, 17.50897979736328, 5.138585567474365, 12.742107391357422, 4.81373405456543, 4.804914474487305, 4.705594539642334, 4.204002857208252, 3.898308038711548, 5.764706611633301, 4.588698863983154, 2.4978694915771484, 2.478687047958374, 6.07291841506958, 2.8755667209625244, 3.9230709075927734, 18.131784439086914, 38.029571533203125, 5.448207378387451, 45.083892822265625, 20.634702682495117, 16.722951889038086, 14.76689338684082, 14.766545295715332, 13.788837432861328, 10.85517406463623, 18.529396057128906, 147.70263671875, 48.64992904663086, 37.66705322265625, 26.193029403686523, 27.570924758911133, 21.72161865234375, 27.071640014648438, 8.884261131286621, 19.041688919067383, 43.997379302978516, 19.271224975585938, 58.220489501953125, 13.342369079589844, 20.435821533203125, 75.90811157226562, 38.95979309082031, 12.869714736938477, 19.786800384521484, 7.345989227294922, 23.594406127929688, 11.753189086914062, 10.407567024230957, 113.04039001464844, 32.26361846923828, 12.954977989196777, 21.24478530883789, 15.883309364318848, 31.897502899169922, 15.872148513793945, 23.74750328063965, 13.557906150817871, 27.004858016967773, 7.996072769165039, 13.013710975646973, 7.967073917388916, 6.799350738525391, 14.149643898010254, 10.903252601623535, 4.346112251281738, 13.159815788269043, 9.607013702392578, 6.4441237449646, 2.955045700073242, 10.113883972167969, 16.512550354003906, 2.980198621749878, 9.15686321258545, 20.099346160888672, 5.677029609680176, 6.005060195922852, 6.934515953063965, 3.1298372745513916, 49.13475036621094, 4.7637505531311035, 2.8948006629943848, 18.090429306030273, 4.186825275421143, 11.218724250793457, 2.0197434425354004, 20.354732513427734, 40.551273345947266, 5.2747416496276855, 6.205376625061035, 6.310014247894287, 4.825865268707275, 5.761994361877441, 4.994707107543945, 5.058158874511719, 20.059186935424805, 28.111499786376953, 11.283502578735352, 40.79470443725586, 7.541252613067627, 11.322824478149414, 17.895282745361328, 6.779072284698486, 6.750364780426025, 6.280966281890869, 17.40677833557129, 4.806102275848389, 5.537647247314453, 7.576842308044434, 7.877329349517822, 3.844318151473999, 4.142328262329102, 4.519110202789307, 7.459550380706787, 4.841133117675781, 3.7233877182006836, 6.598301887512207, 3.000589370727539, 9.893549919128418, 3.55596661567688, 5.250167369842529, 2.6580028533935547, 2.0339295864105225, 1.9981088638305664, 2.5632376670837402, 5.630380153656006, 5.874961853027344, 5.9732346534729, 4.724183082580566, 19.05689811706543, 11.337214469909668, 6.913574695587158, 6.108612537384033, 15.765851974487305, 16.46724510192871, 11.71588134765625, 36.805381774902344, 8.421144485473633, 30.998477935791016, 7.999556541442871, 12.468557357788086, 6.464820384979248, 7.279015064239502, 13.89335823059082, 11.79394245147705, 7.196649074554443, 9.020538330078125, 5.6560564041137695, 9.192187309265137, 6.974304676055908, 4.818051338195801, 5.173343658447266, 4.027211666107178, 4.706701755523682, 8.666906356811523, 37.398109436035156, 23.404804229736328, 22.89978790283203, 5.528781890869141, 8.362974166870117, 4.310730457305908, 4.208533763885498, 6.396681308746338, 22.92324447631836, 23.96712875366211, 79.25392150878906, 34.26205825805664, 46.48267364501953, 10.721603393554688, 7.404383182525635, 7.616231441497803, 6.726680278778076, 8.099924087524414, 7.120864391326904, 9.668432235717773, 46.160823822021484, 13.249444961547852, 12.273759841918945, 21.73780632019043, 9.208673477172852, 6.620433330535889, 11.69730281829834, 22.093700408935547, 13.932178497314453, 8.29089641571045, 18.395153045654297, 6.5545125007629395, 7.382350921630859, 4.82689094543457, 10.396639823913574, 13.91311264038086, 4.769599437713623, 18.363323211669922, 23.53046417236328, 4.54252290725708, 6.163136959075928, 5.727993965148926, 3.302157402038574, 5.217604637145996, 5.850331783294678, 6.05552339553833, 2.5592939853668213, 2.1884806156158447, 8.45157241821289, 3.1167104244232178, 14.905471801757812, 27.865867614746094, 17.324220657348633, 6.603700637817383, 5.016930103302002, 4.976848602294922, 15.489063262939453, 67.04934692382812, 9.670836448669434, 18.313379287719727, 12.484102249145508, 19.39491081237793, 11.51850414276123, 18.42514991760254, 10.689451217651367, 13.623517036437988, 11.763657569885254, 8.77476978302002, 9.113896369934082, 20.971399307250977, 8.725135803222656, 7.260441780090332, 7.860979080200195, 7.527093887329102, 11.76422119140625, 16.29846954345703, 5.474607467651367, 8.34455394744873, 61.01301956176758, 7.8067498207092285, 4.7155866622924805, 4.2354960441589355, 3.862489938735962, 3.62573504447937, 9.539833068847656, 4.570741653442383, 97.79549407958984, 7.995920181274414, 7.820519924163818, 8.921012878417969, 10.536606788635254, 6.421783924102783], \"Term\": [\"cases\", \"india\", \"said\", \"crore\", \"police\", \"coronavirus\", \"state\", \"added\", \"mother\", \"reported\", \"year\", \"world\", \"country\", \"lockdown\", \"health\", \"government\", \"day\", \"covid\", \"pandemic\", \"film\", \"amid\", \"like\", \"total_number\", \"patients\", \"china\", \"million\", \"singh\", \"home\", \"women\", \"employees\", \"women\", \"group\", \"world\", \"million\", \"app\", \"trump\", \"weeks\", \"report\", \"end\", \"video\", \"spread\", \"april\", \"according\", \"week\", \"tested\", \"company\", \"president\", \"called\", \"seen\", \"reached\", \"ceo\", \"second\", \"month\", \"instagram\", \"amid\", \"times\", \"announced\", \"cricket\", \"family\", \"australia\", \"pandemic\", \"coronavirus\", \"covid\", \"virus\", \"court\", \"order\", \"adding\", \"high\", \"claimed\", \"elon_musk\", \"online\", \"work\", \"working\", \"run\", \"reports\", \"till\", \"got\", \"going\", \"shops\", \"today\", \"given\", \"allowed\", \"told\", \"liquor\", \"media\", \"came\", \"return\", \"uttar_pradesh\", \"official\", \"spread\", \"directed\", \"end\", \"ceo\", \"workers\", \"said\", \"like\", \"state\", \"chief\", \"people\", \"added\", \"government\", \"health\", \"trains\", \"visakhapatnam\", \"states\", \"killed\", \"migrant_workers\", \"punjab\", \"andhra_pradesh\", \"incident\", \"west_bengal\", \"social_distancing\", \"home\", \"lakh\", \"secretary\", \"return\", \"special\", \"plant\", \"chief\", \"government\", \"karnataka\", \"liquor\", \"minister\", \"tamil_nadu\", \"indian\", \"help\", \"pay\", \"given\", \"earlier\", \"started\", \"ministry\", \"board\", \"friday\", \"crore\", \"state\", \"delhi\", \"said\", \"people\", \"added\", \"thursday\", \"mother\", \"heart\", \"day\", \"shared\", \"life\", \"actor\", \"talking\", \"actress\", \"film\", \"like\", \"developed\", \"instagram\", \"picture\", \"times\", \"directed\", \"year_old\", \"test\", \"wrote\", \"playing\", \"second\", \"got\", \"seen\", \"quarantine\", \"took\", \"confirmed\", \"think\", \"near\", \"time\", \"khan\", \"team\", \"added\", \"said\", \"saturday\", \"total_number\", \"discharged\", \"risen\", \"rajasthan\", \"gujarat\", \"recorded\", \"hospitals\", \"active\", \"cases\", \"patients\", \"taking\", \"death_toll\", \"department\", \"recovered\", \"deaths\", \"far\", \"days\", \"health\", \"tested_positive\", \"reported\", \"district\", \"total\", \"state\", \"new\", \"case\", \"died\", \"passed_away\", \"hours\", \"positive\", \"confirmed\", \"coronavirus\", \"covid\", \"virus\", \"people\", \"delhi\", \"said\", \"friday\", \"china\", \"city\", \"country\", \"outbreak\", \"medical\", \"previous\", \"period\", \"ministry\", \"virus\", \"control\", \"hours\", \"total\", \"pakistan\", \"held\", \"deaths\", \"health\", \"secretary\", \"thursday\", \"reported\", \"president\", \"earlier\", \"lakh\", \"rate\", \"coronavirus\", \"workers\", \"asked\", \"covid\", \"video\", \"lockdown\", \"shops\", \"cases\", \"said\", \"saturday\", \"patients\", \"new\", \"minister\", \"state\", \"friday\", \"people\", \"employees\", \"year\", \"march\", \"crore\", \"private\", \"board\", \"hospital\", \"held\", \"pay\", \"investment\", \"announced\", \"admitted\", \"economic\", \"based\", \"ceo\", \"senior\", \"deal\", \"accused\", \"chief\", \"work\", \"previous\", \"april\", \"comes\", \"year_old\", \"rate\", \"million\", \"end\", \"crisis\", \"life\", \"support\", \"thursday\", \"home\", \"minister\", \"died\", \"said\", \"coronavirus\", \"reported\", \"government\", \"months\", \"need\", \"death\", \"pandemic\", \"near\", \"amid\", \"railway\", \"including\", \"crisis\", \"tested\", \"maharashtra\", \"workers\", \"reports\", \"positive\", \"quarantine\", \"number\", \"help\", \"director\", \"comes\", \"senior\", \"economic\", \"tweeted\", \"covid\", \"lockdown\", \"friday\", \"support\", \"president\", \"official\", \"control\", \"district\", \"government\", \"people\", \"said\", \"added\", \"coronavirus\", \"minister\", \"sunday\", \"earlier\", \"liquor\", \"police\", \"home\", \"social\", \"police\", \"twitter\", \"kumar\", \"mumbai\", \"saying\", \"reportedly\", \"told\", \"singh\", \"tweeted\", \"family\", \"time\", \"media\", \"month\", \"admitted\", \"took\", \"wrote\", \"director\", \"delhi\", \"lockdown\", \"passed_away\", \"picture\", \"pakistan\", \"came\", \"april\", \"hospital\", \"tested_positive\", \"good\", \"started\", \"year_old\", \"actress\", \"added\", \"said\", \"coronavirus\", \"people\", \"amid\", \"new\", \"played\", \"india\", \"international\", \"australia\", \"captain\", \"cricket\", \"play\", \"team\", \"revealed\", \"years\", \"khan\", \"know\", \"data\", \"indian\", \"way\", \"think\", \"playing\", \"test\", \"going\", \"stated\", \"good\", \"company\", \"added\", \"pakistan\", \"comes\", \"working\", \"deal\", \"started\", \"film\", \"plant\", \"said\", \"singh\", \"country\", \"new\", \"people\", \"year\"], \"Total\": [168.0, 80.0, 426.0, 54.0, 56.0, 258.0, 119.0, 156.0, 30.0, 88.0, 35.0, 26.0, 35.0, 64.0, 66.0, 84.0, 30.0, 101.0, 47.0, 31.0, 44.0, 34.0, 45.0, 55.0, 25.0, 24.0, 36.0, 43.0, 19.0, 20.0, 19.92238998413086, 12.33785629272461, 26.59003448486328, 24.681631088256836, 16.212038040161133, 16.279827117919922, 10.50225830078125, 20.1196346282959, 14.274502754211426, 23.82688331604004, 15.309383392333984, 23.868196487426758, 24.027565002441406, 13.490618705749512, 14.488722801208496, 21.056446075439453, 25.030275344848633, 14.422578811645508, 14.355030059814453, 15.433960914611816, 20.011842727661133, 14.388984680175781, 14.481493949890137, 20.02405548095703, 44.81281280517578, 11.446685791015625, 35.254215240478516, 24.079843521118164, 14.469712257385254, 22.163251876831055, 47.78923034667969, 258.4231262207031, 101.22517395019531, 29.0033016204834, 20.11296272277832, 15.310221672058105, 17.273313522338867, 25.92921257019043, 11.566459655761719, 10.528764724731445, 13.40463924407959, 15.306375503540039, 12.48110580444336, 10.548648834228516, 16.46257972717285, 16.40663719177246, 14.368936538696289, 23.082061767578125, 11.55755615234375, 18.337778091430664, 10.525404930114746, 16.368911743164062, 19.290300369262695, 23.07453727722168, 12.531206130981445, 14.490092277526855, 12.401350021362305, 11.661230087280273, 13.554590225219727, 15.309383392333984, 11.459101676940918, 14.274502754211426, 20.011842727661133, 25.192394256591797, 426.54669189453125, 34.32844543457031, 119.236328125, 22.832992553710938, 92.04345703125, 156.6446075439453, 84.6292953491211, 66.1009750366211, 16.129297256469727, 11.389251708984375, 23.75408363342285, 11.393227577209473, 24.837182998657227, 12.384181022644043, 12.408803939819336, 14.261207580566406, 13.385465621948242, 13.323363304138184, 43.96561050415039, 32.54831314086914, 12.377887725830078, 12.401350021362305, 10.54267406463623, 15.337608337402344, 22.832992553710938, 84.6292953491211, 15.430633544921875, 23.07453727722168, 45.23270034790039, 17.329980850219727, 31.693798065185547, 18.27341651916504, 10.464418411254883, 10.525404930114746, 27.88043975830078, 11.52473258972168, 31.76520347595215, 16.168516159057617, 62.98998260498047, 54.20094299316406, 119.236328125, 49.259456634521484, 426.54669189453125, 92.04345703125, 156.6446075439453, 39.457725524902344, 30.430912017822266, 14.270020484924316, 30.542606353759766, 11.412736892700195, 11.419415473937988, 21.943113327026367, 15.267770767211914, 17.21390151977539, 31.53501319885254, 34.32844543457031, 11.432397842407227, 20.02405548095703, 17.231538772583008, 11.446685791015625, 11.459101676940918, 45.07084655761719, 13.440104484558105, 33.61447525024414, 13.445639610290527, 14.388984680175781, 14.368936538696289, 14.355030059814453, 13.542597770690918, 23.081785202026367, 19.37538719177246, 11.568070411682129, 11.687405586242676, 32.792564392089844, 16.371803283691406, 23.123720169067383, 156.6446075439453, 426.54669189453125, 35.777488708496094, 45.94740676879883, 21.49823570251465, 17.586458206176758, 15.63044548034668, 15.630208969116211, 14.652406692504883, 11.718667984008789, 20.489595413208008, 168.82554626464844, 55.62285232543945, 43.88954544067383, 31.207107543945312, 33.10965347290039, 26.352991104125977, 37.95298385620117, 12.661188125610352, 27.205886840820312, 66.1009750366211, 29.17902183532715, 88.36851501464844, 20.548301696777344, 32.05446243286133, 119.236328125, 63.26969909667969, 21.36507797241211, 34.02863311767578, 12.655438423156738, 41.722652435302734, 21.539047241210938, 19.37538719177246, 258.4231262207031, 101.22517395019531, 29.0033016204834, 92.04345703125, 49.259456634521484, 426.54669189453125, 62.98998260498047, 25.008827209472656, 15.37454891204834, 35.61632537841797, 10.611798286437988, 17.30976676940918, 12.461008071899414, 12.537202835083008, 31.76520347595215, 29.0033016204834, 13.503461837768555, 41.722652435302734, 32.05446243286133, 22.230457305908203, 10.504836082458496, 37.95298385620117, 66.1009750366211, 12.377887725830078, 39.457725524902344, 88.36851501464844, 25.030275344848633, 27.88043975830078, 32.54831314086914, 16.417879104614258, 258.4231262207031, 25.192394256591797, 15.403609275817871, 101.22517395019531, 23.82688331604004, 64.1055908203125, 11.55755615234375, 168.82554626464844, 426.54669189453125, 35.777488708496094, 55.62285232543945, 63.26969909667969, 45.23270034790039, 119.236328125, 62.98998260498047, 92.04345703125, 20.939838409423828, 35.30767822265625, 14.282007217407227, 54.20094299316406, 10.467227935791016, 16.168516159057617, 26.812456130981445, 10.504836082458496, 10.464418411254883, 11.43105411529541, 35.254215240478516, 10.56507682800293, 12.517990112304688, 17.203266143798828, 20.011842727661133, 10.622673034667969, 11.538899421691895, 13.377519607543945, 22.832992553710938, 15.306375503540039, 12.461008071899414, 23.868196487426758, 13.560895919799805, 45.07084655761719, 16.417879104614258, 24.681631088256836, 14.274502754211426, 11.61910343170166, 11.419415473937988, 15.480935096740723, 39.457725524902344, 43.96561050415039, 45.23270034790039, 34.02863311767578, 426.54669189453125, 258.4231262207031, 88.36851501464844, 84.6292953491211, 18.612001419067383, 20.52457046508789, 14.675493240356445, 47.78923034667969, 11.687405586242676, 44.81281280517578, 11.676755905151367, 19.486635208129883, 11.61910343170166, 14.488722801208496, 29.213443756103516, 25.192394256591797, 16.46257972717285, 21.539047241210938, 13.542597770690918, 22.425758361816406, 18.27341651916504, 12.628799438476562, 13.560895919799805, 10.622673034667969, 12.517990112304688, 23.365394592285156, 101.22517395019531, 64.1055908203125, 62.98998260498047, 15.480935096740723, 25.030275344848633, 13.554590225219727, 13.503461837768555, 20.548301696777344, 84.6292953491211, 92.04345703125, 426.54669189453125, 156.6446075439453, 258.4231262207031, 45.23270034790039, 26.311601638793945, 27.88043975830078, 23.07453727722168, 56.28631591796875, 43.96561050415039, 11.599308013916016, 56.28631591796875, 16.484039306640625, 16.402263641357422, 29.117807388305664, 13.553508758544922, 10.694778442382812, 19.290300369262695, 36.66374969482422, 23.365394592285156, 14.469712257385254, 32.792564392089844, 12.531206130981445, 14.481493949890137, 10.56507682800293, 23.081785202026367, 33.61447525024414, 12.628799438476562, 49.259456634521484, 64.1055908203125, 12.655438423156738, 17.231538772583008, 22.230457305908203, 14.490092277526855, 23.868196487426758, 26.812456130981445, 29.17902183532715, 13.458684921264648, 11.52473258972168, 45.07084655761719, 17.21390151977539, 156.6446075439453, 426.54669189453125, 258.4231262207031, 92.04345703125, 44.81281280517578, 63.26969909667969, 17.406171798706055, 80.28916931152344, 11.581060409545898, 22.163251876831055, 15.416259765625, 24.079843521118164, 14.455737113952637, 23.123720169067383, 13.529012680053711, 18.32391357421875, 16.371803283691406, 12.602639198303223, 13.48324966430664, 31.693798065185547, 13.462060928344727, 11.568070411682129, 13.445639610290527, 13.440104484558105, 23.082061767578125, 32.9746208190918, 13.458684921264648, 21.056446075439453, 156.6446075439453, 22.230457305908203, 13.560895919799805, 12.48110580444336, 11.538899421691895, 11.52473258972168, 31.53501319885254, 15.337608337402344, 426.54669189453125, 36.66374969482422, 35.61632537841797, 63.26969909667969, 92.04345703125, 35.30767822265625], \"loglift\": [30.0, 29.0, 28.0, 27.0, 26.0, 25.0, 24.0, 23.0, 22.0, 21.0, 20.0, 19.0, 18.0, 17.0, 16.0, 15.0, 14.0, 13.0, 12.0, 11.0, 10.0, 9.0, 8.0, 7.0, 6.0, 5.0, 4.0, 3.0, 2.0, 1.0, 2.7809998989105225, 2.752500057220459, 2.7014000415802, 2.5423998832702637, 2.4540998935699463, 2.4419000148773193, 2.3461999893188477, 2.2100000381469727, 2.1921000480651855, 2.088399887084961, 2.0778000354766846, 1.9852999448776245, 1.9746999740600586, 1.8671000003814697, 1.8473999500274658, 1.8238999843597412, 1.8186999559402466, 1.7497999668121338, 1.6916999816894531, 1.6618000268936157, 1.597100019454956, 1.516700029373169, 1.3269000053405762, 1.3107000589370728, 1.1086000204086304, 1.0764000415802002, 1.0214999914169312, 1.0085999965667725, 0.902400016784668, 0.8507000207901001, 0.8307999968528748, -0.014800000004470348, 0.19609999656677246, 0.6959999799728394, 2.49780011177063, 2.4972000122070312, 2.3097000122070312, 2.2720999717712402, 2.239000082015991, 2.1658999919891357, 2.162100076675415, 2.0006000995635986, 1.9902000427246094, 1.9818999767303467, 1.9465999603271484, 1.9143999814987183, 1.8809000253677368, 1.7477999925613403, 1.746000051498413, 1.6435999870300293, 1.6288000345230103, 1.6098999977111816, 1.5996999740600586, 1.5736000537872314, 1.5566999912261963, 1.4799000024795532, 1.3871999979019165, 1.3747999668121338, 1.3610999584197998, 1.3387999534606934, 1.2411999702453613, 1.1928000450134277, 1.1677000522613525, 1.1571999788284302, 0.642799973487854, 0.993399977684021, 0.24230000376701355, 0.992900013923645, 0.051600001752376556, -0.40470001101493835, -0.0608999989926815, 0.040800001472234726, 2.3396999835968018, 2.3159000873565674, 2.297499895095825, 2.1673998832702637, 2.1245999336242676, 2.1198999881744385, 2.0957999229431152, 2.09089994430542, 2.024600028991699, 1.9966000318527222, 1.873900055885315, 1.854099988937378, 1.8413000106811523, 1.8331999778747559, 1.746399998664856, 1.7376999855041504, 1.5256999731063843, 1.4993000030517578, 1.402500033378601, 1.3004000186920166, 1.2927000522613525, 1.277500033378601, 1.2331000566482544, 1.2045999765396118, 1.1262999773025513, 1.1191999912261963, 1.0836999416351318, 1.0716999769210815, 1.041599988937378, 1.0166000127792358, 1.0008000135421753, 0.9021000266075134, 0.7476000189781189, 0.8604999780654907, -0.19280000030994415, 0.3377000093460083, -0.6358000040054321, 0.5291000008583069, 2.6278998851776123, 2.594099998474121, 2.4260001182556152, 2.3796000480651855, 2.378999948501587, 2.352799892425537, 2.325500011444092, 2.315999984741211, 2.2607998847961426, 2.240799903869629, 2.2093000411987305, 2.1040000915527344, 1.9357999563217163, 1.7976000308990479, 1.7863999605178833, 1.7111999988555908, 1.6952999830245972, 1.6866999864578247, 1.6296000480651855, 1.5599000453948975, 1.5404000282287598, 1.4286999702453613, 1.4114999771118164, 1.2695000171661377, 1.2163000106811523, 1.123900055885315, 1.1059999465942383, 0.9703999757766724, 0.9174000024795532, 0.8827999830245972, 0.5004000067710876, 0.2393999993801117, 0.7746999859809875, 1.4433000087738037, 1.4212000370025635, 1.4119000434875488, 1.405400037765503, 1.405400037765503, 1.4014999866485596, 1.385699987411499, 1.3617000579833984, 1.3286000490188599, 1.3282999992370605, 1.3092999458312988, 1.2870999574661255, 1.2791999578475952, 1.2690000534057617, 1.124400019645691, 1.1080000400543213, 1.1053999662399292, 1.0551999807357788, 1.0473999977111816, 1.0449999570846558, 1.030400037765503, 1.0120999813079834, 1.010599970817566, 0.977400004863739, 0.955299973487854, 0.9200000166893005, 0.9182999730110168, 0.8921999931335449, 0.8565000295639038, 0.8407999873161316, 0.6353999972343445, 0.3188000023365021, 0.6563000082969666, -0.0038999998942017555, 0.3303999900817871, -1.13100004196167, 0.08380000293254852, 2.414099931716919, 2.340100049972534, 2.1891000270843506, 2.1828999519348145, 2.1805999279022217, 2.0185999870300293, 1.8539999723434448, 1.6571999788284302, 1.4874999523162842, 1.332200050354004, 1.312000036239624, 1.2609000205993652, 1.2275999784469604, 1.19760000705719, 1.143399953842163, 1.0787999629974365, 1.0420000553131104, 1.0052000284194946, 0.9850999712944031, 0.982200026512146, 0.9305999875068665, 0.919700026512146, 0.8084999918937683, 0.8058000206947327, 0.8004000186920166, 0.7942000031471252, 0.7439000010490417, 0.7269999980926514, 0.7228999733924866, 0.7214999794960022, 0.35030001401901245, 0.11270000040531158, 0.5515000224113464, 0.2727000117301941, 0.16060000658035278, 0.2281000018119812, -0.5638999938964844, -0.06870000064373016, -0.43540000915527344, 2.655100107192993, 2.470099925994873, 2.462399959564209, 2.4138998985290527, 2.3701999187469482, 2.3417999744415283, 2.2936999797821045, 2.2600998878479004, 2.259700059890747, 2.099299907684326, 1.992300033569336, 1.9104000329971313, 1.8825000524520874, 1.878100037574768, 1.7656999826431274, 1.6816999912261963, 1.6735999584197998, 1.6128000020980835, 1.579300045967102, 1.5469000339508057, 1.4901000261306763, 1.4122999906539917, 1.1897000074386597, 1.1816999912261963, 1.1683000326156616, 1.1503000259399414, 1.017199993133545, 0.9553999900817871, 0.9549000263214111, 0.8996999859809875, 0.7509999871253967, 0.6854000091552734, 0.6735000014305115, 0.7235999703407288, -0.41019999980926514, -0.4284000098705292, 0.15000000596046448, 0.06949999928474426, 1.875599980354309, 1.8213000297546387, 1.8163000345230103, 1.780400037765503, 1.7137999534606934, 1.6729999780654907, 1.6633000373840332, 1.5950000286102295, 1.455199956893921, 1.3530999422073364, 1.29830002784729, 1.2826000452041626, 1.2139999866485596, 1.1712000370025635, 1.1684000492095947, 1.1497000455856323, 1.0782999992370605, 1.0779000520706177, 1.0778000354766846, 1.0715999603271484, 1.0633000135421753, 1.0498000383377075, 1.045799970626831, 1.0339000225067139, 1.0297000408172607, 1.0118999481201172, 0.9452000260353088, 0.8959000110626221, 0.8756999969482422, 0.8744999766349792, 0.7354000210762024, 0.695900022983551, 0.35850000381469727, 0.5216000080108643, 0.32600000500679016, 0.6019999980926514, 0.7735999822616577, 0.7439000010490417, 0.808899998664856, 0.10289999842643738, 0.22110000252723694, 2.3189001083374023, 2.3025999069213867, 2.2825000286102295, 2.2109999656677246, 2.208699941635132, 2.114500045776367, 2.021399974822998, 2.000699996948242, 1.9945000410079956, 1.9838999509811401, 1.944100022315979, 1.9228999614715576, 1.8529000282287598, 1.8272000551223755, 1.7175999879837036, 1.7034000158309937, 1.6188000440597534, 1.5271999835968018, 1.51419997215271, 1.4987000226974487, 1.4764000177383423, 1.4728000164031982, 1.1448999643325806, 1.0220999717712402, 0.9804999828338623, 0.978600025177002, 0.9284999966621399, 0.8410999774932861, 0.8396999835968018, 0.8270999789237976, 0.7919999957084656, 0.14869999885559082, -0.227400004863739, -0.20149999856948853, -0.13369999825954437, 0.31130000948905945, -0.041600000113248825, 2.071700096130371, 2.00819993019104, 2.0081000328063965, 1.9975999593734741, 1.9773999452590942, 1.972000002861023, 1.9611999988555908, 1.9611999988555908, 1.9528000354766846, 1.8918999433517456, 1.857800006866455, 1.826300024986267, 1.7967000007629395, 1.7754000425338745, 1.754699945449829, 1.722599983215332, 1.6516000032424927, 1.6086000204086304, 1.5144000053405762, 1.4837000370025635, 1.2889000177383423, 1.2627999782562256, 1.2454999685287476, 1.1418999433517456, 1.1319999694824219, 1.1075999736785889, 1.0938999652862549, 1.0319000482559204, 0.9926999807357788, 0.9776999950408936, 0.715499997138977, 0.6654999852180481, 0.6722999811172485, 0.22939999401569366, 0.020999999716877937, 0.48399999737739563], \"logprob\": [30.0, 29.0, 28.0, 27.0, 26.0, 25.0, 24.0, 23.0, 22.0, 21.0, 20.0, 19.0, 18.0, 17.0, 16.0, 15.0, 14.0, 13.0, 12.0, 11.0, 10.0, 9.0, 8.0, 7.0, 6.0, 5.0, 4.0, 3.0, 2.0, 1.0, -2.8940000534057617, -3.401700019836426, -2.6849000453948975, -2.9184000492095947, -3.4268999099731445, -3.434999942779541, -3.969099998474121, -3.4551000595092773, -3.816200017929077, -3.407599925994873, -3.860599994659424, -3.509000062942505, -3.5129001140594482, -4.197700023651123, -4.145999908447266, -3.7957000732421875, -3.628000020980835, -4.248300075531006, -4.310999870300293, -4.268400192260742, -4.073400020599365, -4.483699798583984, -4.667099952697754, -4.3592000007629395, -3.75570011138916, -5.152699947357178, -4.082799911499023, -4.476799964904785, -5.092400074005127, -4.717700004577637, -3.9691998958587646, -3.127000093460083, -3.8533999919891357, -4.603400230407715, -3.1677000522613525, -3.4410998821258545, -3.5078999996185303, -3.1393001079559326, -3.9797000885009766, -4.1468000411987305, -3.90910005569458, -3.937999963760376, -4.152400016784668, -4.328999996185303, -3.919100046157837, -3.954699993133545, -4.1209001541137695, -3.7799999713897705, -4.473499774932861, -4.114299774169922, -4.684199810028076, -4.261499881744385, -4.107500076293945, -3.9544999599456787, -4.581900119781494, -4.513500213623047, -4.7617998123168945, -4.835700035095215, -4.698999881744385, -4.599599838256836, -4.986800193786621, -4.815499782562256, -4.502799987792969, -4.283100128173828, -1.9682999849319458, -4.137499809265137, -3.643399953842163, -4.54580020904541, -4.092899799346924, -4.017600059509277, -4.289400100708008, -4.434800148010254, -3.5464000701904297, -3.918299913406372, -3.2016000747680664, -4.066400051116943, -3.3297998905181885, -4.0304999351501465, -4.052599906921387, -3.918299913406372, -4.047999858856201, -4.080699920654297, -3.009500026702881, -3.3299999237060547, -4.309599876403809, -4.315800189971924, -4.564899921417236, -4.198800086975098, -4.013000011444092, -2.7291998863220215, -4.527900218963623, -4.227700233459473, -3.562299966812134, -4.536900043487549, -3.97760009765625, -4.55679988861084, -5.192500114440918, -5.19379997253418, -4.255199909210205, -5.150599956512451, -4.166800022125244, -4.867199897766113, -3.5230000019073486, -3.7720000743865967, -3.1380999088287354, -3.9091999530792236, -2.8039000034332275, -3.8069000244140625, -4.248700141906738, -4.462500095367432, -2.623500108718872, -3.4144999980926514, -2.821700096130371, -3.8524999618530273, -3.8524999618530273, -3.2255001068115234, -3.615600109100342, -3.5051000118255615, -2.954900026321411, -2.8901000022888184, -4.021100044250488, -3.5659000873565674, -3.8842999935150146, -4.43149995803833, -4.441699981689453, -3.1473000049591064, -4.373300075531006, -3.4651999473571777, -4.438600063323975, -4.440400123596191, -4.461299896240234, -4.573999881744385, -4.649499893188477, -4.258299827575684, -4.486499786376953, -5.094600200653076, -5.10230016708374, -4.206200122833252, -4.953800201416016, -4.643199920654297, -3.1124000549316406, -2.3717000484466553, -4.314799785614014, -3.3961000442504883, -4.177599906921387, -4.387800216674805, -4.512199878692627, -4.512199878692627, -4.580699920654297, -4.819900035858154, -4.285200119018555, -2.209399938583374, -3.3199000358581543, -3.5757999420166016, -3.9391000270843506, -3.8877999782562256, -4.126299858093262, -3.906100034713745, -5.020299911499023, -4.257999897003174, -3.4205000400543213, -4.245999813079834, -3.140399932861328, -4.61359977722168, -4.187300205230713, -2.8750998973846436, -3.542099952697754, -4.649700164794922, -4.219600200653076, -5.210400104522705, -4.043600082397461, -4.740499973297119, -4.862100124359131, -2.476799964904785, -3.730600118637085, -4.643099784851074, -4.148499965667725, -4.439300060272217, -3.7421000003814697, -4.440000057220459, -3.0334999561309814, -3.5940001010894775, -2.904900074005127, -4.122000217437744, -3.6349000930786133, -4.1255998611450195, -4.28410005569458, -3.5511999130249023, -3.8118999004364014, -4.7316999435424805, -3.623800039291382, -3.9384000301361084, -4.337800025939941, -5.117400169372559, -3.88700008392334, -3.3968000411987305, -5.10890007019043, -3.9863998889923096, -3.2002999782562256, -4.4644999504089355, -4.408299922943115, -4.264400005340576, -5.059999942779541, -2.3064000606536865, -4.639900207519531, -5.138000011444092, -3.3055999279022217, -4.769000053405762, -3.783400058746338, -5.498000144958496, -3.1875998973846436, -2.4983999729156494, -4.538000106811523, -4.375500202178955, -4.358799934387207, -4.6269001960754395, -4.449699878692627, -4.592599868774414, -4.579899787902832, -2.970099925994873, -2.6326000690460205, -3.5453999042510986, -2.260200023651123, -3.9484000205993652, -3.5418999195098877, -3.084199905395508, -4.054900169372559, -4.059199810028076, -4.131199836730957, -3.1119000911712646, -4.398900032043457, -4.257199764251709, -3.943700075149536, -3.9047999382019043, -4.622200012207031, -4.547500133514404, -4.460400104522705, -3.9593000411987305, -4.391600131988525, -4.654099941253662, -4.081900119781494, -4.869999885559082, -3.6768999099731445, -4.700099945068359, -4.310500144958496, -4.991199970245361, -5.258800029754639, -5.276599884033203, -5.027500152587891, -4.240600109100342, -4.1981000900268555, -4.18149995803833, -4.416100025177002, -3.0213000774383545, -3.5406999588012695, -4.035299777984619, -4.15910005569458, -3.867500066757202, -3.823899984359741, -4.164400100708008, -3.019700050354004, -4.49459981918335, -3.1914000511169434, -4.545899868011475, -4.102099895477295, -4.758900165557861, -4.6402997970581055, -3.9939000606536865, -4.157700061798096, -4.651700019836426, -4.42579984664917, -4.892600059509277, -4.406899929046631, -4.68310022354126, -5.0528998374938965, -4.981800079345703, -5.2322001457214355, -5.076300144195557, -4.465799808502197, -3.003700017929077, -3.472399950027466, -3.4941999912261963, -4.915299892425537, -4.501500129699707, -5.1641998291015625, -5.188199996948242, -4.769499778747559, -3.4930999279022217, -3.4486000537872314, -2.2525999546051025, -3.0913000106811523, -2.7862000465393066, -4.252999782562256, -4.623199939727783, -4.59499979019165, -4.719200134277344, -4.533400058746338, -4.662300109863281, -3.8970000743865967, -2.333699941635132, -3.581899881362915, -3.658400058746338, -3.0868000984191895, -3.94569993019104, -4.275700092315674, -3.7065000534057617, -3.0706000328063965, -3.5316998958587646, -4.0507001876831055, -3.2537999153137207, -4.285699844360352, -4.166800022125244, -4.591599941253662, -3.824399948120117, -3.5329999923706055, -4.603600025177002, -3.255500078201294, -3.0076000690460205, -4.652400016784668, -4.347300052642822, -4.420499801635742, -4.97130012512207, -4.513800144195557, -4.399400234222412, -4.3649001121521, -5.226099967956543, -5.382599830627441, -4.031499862670898, -5.029099941253662, -3.464099884033203, -2.838399887084961, -3.313699960708618, -4.278200149536133, -4.552999973297119, -4.561100006103516, -3.738300085067749, -2.2730000019073486, -4.2093000411987305, -3.5708000659942627, -3.9539999961853027, -3.513400077819824, -4.0345001220703125, -3.56469988822937, -4.1092000007629395, -3.8666999340057373, -4.013400077819824, -4.306600093841553, -4.268700122833252, -3.43530011177063, -4.312300205230713, -4.495999813079834, -4.416500091552734, -4.460000038146973, -4.013400077819824, -3.6874001026153564, -4.778299808502197, -4.356900215148926, -2.3673999309539795, -4.423500061035156, -4.927599906921387, -5.034999847412109, -5.127099990844727, -5.190400123596191, -4.2230000495910645, -4.958799839019775, -1.8955999612808228, -4.399499893188477, -4.4217000007629395, -4.29010009765625, -4.123600006103516, -4.618800163269043]}, \"token.table\": {\"Topic\": [1, 2, 5, 10, 2, 3, 4, 6, 7, 8, 5, 7, 2, 4, 8, 4, 8, 9, 2, 3, 4, 5, 6, 7, 8, 9, 10, 2, 10, 7, 9, 2, 3, 6, 7, 8, 9, 1, 8, 9, 3, 5, 1, 3, 4, 5, 7, 1, 9, 10, 1, 7, 9, 10, 3, 6, 7, 8, 10, 1, 10, 1, 3, 4, 7, 8, 9, 10, 3, 7, 1, 2, 8, 10, 2, 4, 6, 8, 9, 1, 3, 10, 1, 2, 5, 8, 10, 5, 6, 1, 2, 7, 10, 1, 2, 3, 7, 6, 6, 7, 2, 8, 7, 8, 10, 1, 2, 7, 10, 3, 4, 5, 8, 10, 2, 3, 6, 8, 1, 2, 3, 4, 5, 6, 7, 8, 9, 10, 6, 10, 1, 2, 9, 1, 2, 5, 6, 8, 9, 1, 10, 1, 3, 7, 8, 3, 7, 10, 6, 7, 10, 4, 5, 10, 1, 4, 5, 7, 10, 2, 7, 8, 10, 3, 5, 8, 5, 6, 5, 6, 1, 3, 4, 5, 9, 10, 2, 5, 7, 2, 4, 7, 3, 5, 7, 8, 2, 3, 4, 5, 3, 8, 9, 10, 5, 5, 8, 1, 2, 3, 6, 7, 8, 3, 7, 8, 1, 2, 4, 9, 7, 1, 2, 7, 1, 9, 10, 5, 10, 4, 10, 1, 3, 4, 5, 6, 8, 2, 3, 7, 9, 2, 7, 10, 2, 3, 4, 9, 10, 2, 4, 7, 8, 1, 2, 3, 5, 7, 8, 10, 1, 5, 2, 5, 6, 4, 6, 7, 1, 3, 4, 8, 1, 2, 7, 8, 3, 4, 7, 8, 9, 5, 7, 9, 5, 2, 5, 6, 2, 3, 4, 6, 8, 9, 3, 5, 10, 3, 10, 1, 4, 9, 2, 10, 2, 3, 7, 2, 3, 5, 4, 6, 10, 3, 4, 8, 10, 2, 3, 9, 3, 6, 8, 4, 7, 2, 3, 4, 9, 2, 3, 8, 2, 4, 6, 8, 9, 3, 5, 8, 1, 2, 7, 2, 6, 9, 6, 7, 9, 3, 8, 1, 7, 2, 3, 5, 6, 7, 8, 9, 3, 5, 6, 8, 1, 5, 9, 8, 10, 4, 8, 9, 10, 4, 8, 7, 8, 10, 4, 5, 6, 8, 9, 10, 1, 5, 6, 8, 1, 2, 5, 6, 8, 2, 3, 7, 10, 2, 3, 6, 8, 6, 8, 9, 10, 1, 7, 8, 10, 5, 9, 5, 6, 3, 7, 1, 2, 3, 4, 5, 6, 8, 9, 10, 3, 5, 6, 9, 1, 4, 9, 3, 8, 10, 4, 10, 8, 10, 4, 10, 4, 8, 9, 5, 8, 1, 3, 6, 8, 6, 7, 3, 7, 2, 3, 5, 2, 4, 8, 10, 2, 3, 8, 5, 1, 5, 6, 7, 8, 10, 1, 2, 5, 5, 5, 9, 1, 5, 6, 8, 9, 10, 1, 5, 6, 7, 8, 9, 2, 8, 2, 3, 5, 9, 10, 5, 2, 3, 8, 10, 1, 2, 3, 4, 5, 6, 7, 8, 9, 10, 1, 4, 5, 6, 7, 8, 9, 10, 5, 9, 10, 1, 4, 7, 8, 1, 3, 6, 1, 4, 5, 6, 8, 10, 2, 7, 8, 9, 3, 4, 2, 6, 7, 8, 3, 9, 10, 4, 9, 2, 3, 6, 2, 3, 8, 1, 2, 4, 8, 2, 3, 6, 9, 10, 2, 3, 5, 6, 8, 3, 5, 6, 7, 8, 10, 3, 5, 5, 6, 7, 8, 10, 3, 5, 7, 8, 5, 6, 7, 2, 4, 10, 2, 3, 5, 8, 4, 10, 4, 10, 1, 7, 8, 4, 5, 7, 9, 4, 8, 10, 1, 2, 3, 5, 6, 7, 10, 2, 4, 5, 2, 3, 4, 5, 8, 9, 1, 2, 4, 6, 2, 4, 5, 2, 9, 1, 2, 4, 5, 8, 9, 1, 5, 6, 5, 3, 1, 8, 8, 9, 6, 8, 9, 2, 5, 8, 1, 2, 3, 4, 6, 9, 1, 5, 6, 7, 3, 2, 3, 7, 10, 1, 5, 6, 8, 1, 3, 5, 3, 5, 1, 2, 7, 10, 1, 2, 6, 8, 2, 4, 10, 1, 6, 1, 3, 4, 8, 9, 7, 10, 2, 4, 5, 7, 8, 9, 1, 9, 10], \"Freq\": [0.41618865728378296, 0.12485659867525101, 0.3329509198665619, 0.08323772996664047, 0.14950454235076904, 0.14950454235076904, 0.14950454235076904, 0.07475227117538452, 0.3737613558769226, 0.07475227117538452, 0.9272999167442322, 0.04880525916814804, 0.18228954076766968, 0.7291581630706787, 0.04557238519191742, 0.6971110105514526, 0.05809258297085762, 0.17427775263786316, 0.044687144458293915, 0.05107102170586586, 0.11490979790687561, 0.03830326721072197, 0.02553551085293293, 0.019151633605360985, 0.21705183386802673, 0.09575816243886948, 0.38941654562950134, 0.6947132349014282, 0.23157109320163727, 0.4732573330402374, 0.4732573330402374, 0.3665485084056854, 0.1832742542028427, 0.06109141558408737, 0.06109141558408737, 0.2443656623363495, 0.06109141558408737, 0.17852036654949188, 0.6917664408683777, 0.11157523095607758, 0.7252914905548096, 0.1611758917570114, 0.1701924204826355, 0.1701924204826355, 0.05673080310225487, 0.08509621024131775, 0.4822118282318115, 0.6785081624984741, 0.0616825595498085, 0.1850476711988449, 0.4189675450325012, 0.2932772934436798, 0.2094837725162506, 0.0418967567384243, 0.1947595477104187, 0.1947595477104187, 0.1947595477104187, 0.2596794068813324, 0.1947595477104187, 0.13535919785499573, 0.8121551871299744, 0.11625699698925018, 0.11625699698925018, 0.05812849849462509, 0.46502798795700073, 0.05812849849462509, 0.05812849849462509, 0.11625699698925018, 0.2473943829536438, 0.6803345680236816, 0.34667864441871643, 0.13867145776748657, 0.20800718665122986, 0.27734291553497314, 0.34506335854530334, 0.06901267170906067, 0.13802534341812134, 0.2760506868362427, 0.207038015127182, 0.0648665800690651, 0.0648665800690651, 0.7783989310264587, 0.09361070394515991, 0.14041605591773987, 0.6084696054458618, 0.046805351972579956, 0.09361070394515991, 0.8766445517539978, 0.11846548318862915, 0.29982244968414307, 0.2498520463705063, 0.399763286113739, 0.04997041076421738, 0.043796274811029434, 0.17518509924411774, 0.43796274065971375, 0.30657392740249634, 0.9596611261367798, 0.9105958342552185, 0.06504255533218384, 0.6916550397872925, 0.2593706250190735, 0.2212243229150772, 0.36870720982551575, 0.36870720982551575, 0.37993115186691284, 0.1424741894006729, 0.09498278796672821, 0.37993115186691284, 0.051611870527267456, 0.2580593526363373, 0.5161187052726746, 0.10322374105453491, 0.051611870527267456, 0.14811016619205475, 0.22216525673866272, 0.2962203323841095, 0.2962203323841095, 0.05804434046149254, 0.011608867906033993, 0.003869622712954879, 0.003869622712954879, 0.43726736307144165, 0.1896115094423294, 0.04256584867835045, 0.17800264060497284, 0.06578358262777328, 0.003869622712954879, 0.7580793499946594, 0.22461609542369843, 0.049719180911779404, 0.8452260494232178, 0.049719180911779404, 0.06915275752544403, 0.03951586037874222, 0.31612688302993774, 0.17782138288021088, 0.36552172899246216, 0.01975793018937111, 0.16611403226852417, 0.7890416979789734, 0.08606515824794769, 0.08606515824794769, 0.17213031649589539, 0.5163909792900085, 0.22139836847782135, 0.7564443945884705, 0.01844986341893673, 0.07416609674692154, 0.14833219349384308, 0.6674948930740356, 0.7857875823974609, 0.06548229604959488, 0.09822344779968262, 0.07351350039243698, 0.03675675019621849, 0.6983782649040222, 0.03675675019621849, 0.11027025431394577, 0.0866633802652359, 0.3466535210609436, 0.1733267605304718, 0.3466535210609436, 0.06814081221818924, 0.06814081221818924, 0.8176897168159485, 0.8331435322761536, 0.12817592918872833, 0.7114065289497375, 0.2634838819503784, 0.04060134291648865, 0.22330737113952637, 0.020300671458244324, 0.3248107433319092, 0.36541205644607544, 0.020300671458244324, 0.030202671885490417, 0.8456748127937317, 0.12081068754196167, 0.17494142055511475, 0.6122949719429016, 0.08747071027755737, 0.08816105127334595, 0.5877403020858765, 0.14693507552146912, 0.1763221025466919, 0.261800616979599, 0.17453375458717346, 0.43633437156677246, 0.08726687729358673, 0.07918409258127213, 0.39592045545578003, 0.39592045545578003, 0.07918409258127213, 0.9768243432044983, 0.632655680179596, 0.29199492931365967, 0.07173488289117813, 0.07173488289117813, 0.2869395315647125, 0.2152046412229538, 0.07173488289117813, 0.2869395315647125, 0.15977005660533905, 0.47931018471717834, 0.3994251489639282, 0.09497790038585663, 0.66484534740448, 0.09497790038585663, 0.09497790038585663, 0.9551172256469727, 0.5604398250579834, 0.21016493439674377, 0.21016493439674377, 0.13821974396705627, 0.5528789758682251, 0.2073296308517456, 0.7108337879180908, 0.23694458603858948, 0.665926456451416, 0.3171078562736511, 0.015875540673732758, 0.2540086507797241, 0.031751081347465515, 0.2540086507797241, 0.07937770336866379, 0.3651374280452728, 0.38003289699554443, 0.2850246727466583, 0.09500822424888611, 0.19001644849777222, 0.3899131715297699, 0.043323684483766556, 0.5198842287063599, 0.07430146634578705, 0.07430146634578705, 0.1486029326915741, 0.22290439903736115, 0.37150731682777405, 0.4871620237827301, 0.3479728698730469, 0.06959456950426102, 0.13918913900852203, 0.035448718816041946, 0.07089743763208389, 0.413568377494812, 0.09452991187572479, 0.07089743763208389, 0.2717735171318054, 0.047264955937862396, 0.8915649056434631, 0.9596800804138184, 0.07564184814691544, 0.6656482815742493, 0.2571823000907898, 0.9110007882118225, 0.2855827510356903, 0.6663597822189331, 0.10944860428571701, 0.3283458352088928, 0.1641729176044464, 0.3830701410770416, 0.07713308185338974, 0.6941977143287659, 0.03856654092669487, 0.15426616370677948, 0.5913712978363037, 0.022745050489902496, 0.13647030293941498, 0.15921534597873688, 0.09098020195960999, 0.07459219545125961, 0.6713297963142395, 0.22377659380435944, 0.9386732578277588, 0.09587118029594421, 0.5752270817756653, 0.3115813434123993, 0.21036086976528168, 0.7713232040405273, 0.10263444483280182, 0.10263444483280182, 0.6158066987991333, 0.10263444483280182, 0.024909960106015205, 0.1370047777891159, 0.8344836831092834, 0.31551915407180786, 0.6625902056694031, 0.19975973665714264, 0.5992792248725891, 0.14981980621814728, 0.08634787797927856, 0.8634787797927856, 0.17496199905872345, 0.17496199905872345, 0.5248859524726868, 0.06480615586042404, 0.38883692026138306, 0.5184492468833923, 0.18324187397956848, 0.061080627143383026, 0.7329674959182739, 0.7899429798126221, 0.17554287612438202, 0.23804537951946259, 0.7141361236572266, 0.06096719577908516, 0.12193439155817032, 0.7316063642501831, 0.5837476253509521, 0.2150649130344391, 0.18434135615825653, 0.7881314158439636, 0.17514030635356903, 0.20391252636909485, 0.0582607202231884, 0.669998288154602, 0.08739108592271805, 0.346702516078949, 0.346702516078949, 0.30336469411849976, 0.0623970553278923, 0.015599263831973076, 0.1715918928384781, 0.3587830662727356, 0.3743823170661926, 0.20538489520549774, 0.308077335357666, 0.47923141717910767, 0.07001817226409912, 0.07001817226409912, 0.7701998353004456, 0.31920310854911804, 0.07980077713727951, 0.558605432510376, 0.7510210871696472, 0.057770851999521255, 0.11554170399904251, 0.7649821043014526, 0.20131108164787292, 0.7698032855987549, 0.2025798112154007, 0.02210789918899536, 0.3316184878349304, 0.1105394959449768, 0.1105394959449768, 0.13264739513397217, 0.24318689107894897, 0.04421579837799072, 0.25184789299964905, 0.25184789299964905, 0.4407338500022888, 0.03148098662495613, 0.20716094970703125, 0.20716094970703125, 0.48337554931640625, 0.8596603870391846, 0.10745754837989807, 0.9858396649360657, 0.17171622812747955, 0.7555513978004456, 0.06868649274110794, 0.1711243838071823, 0.6844975352287292, 0.09744418412446976, 0.7795534729957581, 0.04872209206223488, 0.015805354341864586, 0.6164088249206543, 0.09483212232589722, 0.03161070868372917, 0.07902677357196808, 0.14224818348884583, 0.08918315917253494, 0.35673263669013977, 0.08918315917253494, 0.40132421255111694, 0.0737757459282875, 0.29510298371315, 0.147551491856575, 0.147551491856575, 0.29510298371315, 0.5968083143234253, 0.07460103929042816, 0.07460103929042816, 0.14920207858085632, 0.849105954170227, 0.065315842628479, 0.7538778781890869, 0.18846946954727173, 0.26989999413490295, 0.08996666222810745, 0.26989999413490295, 0.3598666489124298, 0.14647652208805084, 0.04185043275356293, 0.7742330431938171, 0.04185043275356293, 0.5531218647956848, 0.3950870633125305, 0.8809328675270081, 0.10786933451890945, 0.2866857945919037, 0.6689335107803345, 0.021728865802288055, 0.07605103403329849, 0.13037319481372833, 0.03259329870343208, 0.22815309464931488, 0.05432216823101044, 0.26074638962745667, 0.07605103403329849, 0.1195087656378746, 0.07976260781288147, 0.15952521562576294, 0.5583382844924927, 0.15952521562576294, 0.11606624722480774, 0.46426498889923096, 0.3481987416744232, 0.5215936899185181, 0.13039842247962952, 0.325996071100235, 0.1383533775806427, 0.8301202654838562, 0.05745088681578636, 0.8617632985115051, 0.3718677759170532, 0.5949884057044983, 0.017766308039426804, 0.14213046431541443, 0.81725013256073, 0.5571277141571045, 0.41784578561782837, 0.35956457257270813, 0.039951618760824203, 0.23970970511436462, 0.31961295008659363, 0.6420026421546936, 0.3210013210773468, 0.19107255339622498, 0.7642902135848999, 0.08074817061424255, 0.7267335653305054, 0.08074817061424255, 0.07384108006954193, 0.2953643202781677, 0.4430464506149292, 0.14768216013908386, 0.08564022183418274, 0.17128044366836548, 0.6851217746734619, 0.9596655368804932, 0.0609092079102993, 0.3045460283756256, 0.1827276200056076, 0.2436368316411972, 0.1218184158205986, 0.0609092079102993, 0.32396090030670166, 0.12958435714244843, 0.5183374285697937, 0.9554744362831116, 0.8348198533058167, 0.15178543329238892, 0.5467296242713928, 0.04970269277691841, 0.09940538555383682, 0.09940538555383682, 0.04970269277691841, 0.09940538555383682, 0.03394874185323715, 0.6563423871994019, 0.22632494568824768, 0.07921373099088669, 0.28051072359085083, 0.6545250415802002, 0.4859505593776703, 0.4252067506313324, 0.32254552841186523, 0.5644546747207642, 0.08063638210296631, 0.14783044159412384, 0.8130674362182617, 0.9666528701782227, 0.47399434447288513, 0.1895977407693863, 0.09479887038469315, 0.09479887038469315, 0.004688818473368883, 0.13597573339939117, 0.07502109557390213, 0.08908755332231522, 0.07502109557390213, 0.09612077474594116, 0.04454377666115761, 0.18520833551883698, 0.06564345955848694, 0.22975210845470428, 0.055901072919368744, 0.13975268602371216, 0.33540642261505127, 0.13975268602371216, 0.055901072919368744, 0.11180214583873749, 0.11180214583873749, 0.027950536459684372, 0.07378163188695908, 0.6640346646308899, 0.22134490311145782, 0.2779904305934906, 0.34748804569244385, 0.06949760764837265, 0.2779904305934906, 0.1615784615278244, 0.5655245780944824, 0.242367684841156, 0.3483099639415741, 0.2786479592323303, 0.06966198980808258, 0.13932397961616516, 0.06966198980808258, 0.06966198980808258, 0.0941382646560669, 0.3765530586242676, 0.3765530586242676, 0.0941382646560669, 0.17524279654026031, 0.7885926365852356, 0.4326173961162567, 0.17304696142673492, 0.17304696142673492, 0.259570449590683, 0.16364938020706177, 0.6000477075576782, 0.21819917857646942, 0.08621203899383545, 0.8621203899383545, 0.225168377161026, 0.6755051016807556, 0.07505612075328827, 0.18970519304275513, 0.5691155791282654, 0.2845577895641327, 0.4572359323501587, 0.2612776756286621, 0.06531941890716553, 0.19595825672149658, 0.08676990866661072, 0.26030972599983215, 0.08676990866661072, 0.17353981733322144, 0.34707963466644287, 0.09225376695394516, 0.19289423525333405, 0.6373896598815918, 0.05032023414969444, 0.02516011707484722, 0.030326353386044502, 0.3032635450363159, 0.030326353386044502, 0.030326353386044502, 0.09097906202077866, 0.48522165417671204, 0.9261565208435059, 0.0420980229973793, 0.4560725688934326, 0.11401814222335815, 0.07601209729909897, 0.2660423517227173, 0.038006048649549484, 0.19378674030303955, 0.19378674030303955, 0.19378674030303955, 0.3875734806060791, 0.8658098578453064, 0.1139223501086235, 0.02278446964919567, 0.06549744307994843, 0.7204719185829163, 0.13099488615989685, 0.2308138757944107, 0.34622082114219666, 0.2885173559188843, 0.11540693789720535, 0.17298254370689392, 0.7784214615821838, 0.3720209300518036, 0.5952334403991699, 0.34509599208831787, 0.06901919841766357, 0.48313435912132263, 0.06854239106178284, 0.6511527299880981, 0.06854239106178284, 0.2056271880865097, 0.17288967967033386, 0.08644483983516693, 0.6051138639450073, 0.07603073865175247, 0.025343580171465874, 0.15206147730350494, 0.3294665217399597, 0.22809220850467682, 0.15206147730350494, 0.025343580171465874, 0.48760753870010376, 0.06095094233751297, 0.365705668926239, 0.09148415178060532, 0.03049471788108349, 0.18296830356121063, 0.06098943576216698, 0.03049471788108349, 0.5489048957824707, 0.1747230589389801, 0.1747230589389801, 0.43680766224861145, 0.1747230589389801, 0.38172563910484314, 0.16359670460224152, 0.43625786900520325, 0.36287668347358704, 0.6220743060112, 0.12997262179851532, 0.04332420602440834, 0.25994524359703064, 0.04332420602440834, 0.04332420602440834, 0.4332420527935028, 0.03119690530002117, 0.6239380836486816, 0.3119690418243408, 0.9793806076049805, 0.9299847483634949, 0.6756828427314758, 0.2457028478384018, 0.38518503308296204, 0.5991767048835754, 0.060664743185043335, 0.12132948637008667, 0.788641631603241, 0.2572627365589142, 0.4287712275981903, 0.2572627365589142, 0.4616633951663971, 0.12590819597244263, 0.08393879979848862, 0.08393879979848862, 0.16787759959697723, 0.04196939989924431, 0.10343649983406067, 0.44822484254837036, 0.379267156124115, 0.03447883203625679, 0.9658228754997253, 0.07428283244371414, 0.14856566488742828, 0.07428283244371414, 0.6685454845428467, 0.37062790989875793, 0.37062790989875793, 0.14825117588043213, 0.07412558794021606, 0.6665233373641968, 0.09521761536598206, 0.1904352307319641, 0.6723710894584656, 0.22412368655204773, 0.953700840473175, 0.5226580500602722, 0.32666125893592834, 0.13066451251506805, 0.0793890431523323, 0.23816712200641632, 0.19847260415554047, 0.47633424401283264, 0.5608477592468262, 0.08012110739946365, 0.3204844295978546, 0.8649857044219971, 0.0752161517739296, 0.059498175978660583, 0.059498175978660583, 0.3867381513118744, 0.08924726396799088, 0.4164872467517853, 0.7930286526679993, 0.1699347048997879, 0.044374581426382065, 0.3993712365627289, 0.06656187027692795, 0.22187291085720062, 0.08874916285276413, 0.17749832570552826, 0.10914698988199234, 0.10914698988199234, 0.7640289068222046], \"Term\": [\"according\", \"according\", \"according\", \"according\", \"accused\", \"accused\", \"accused\", \"accused\", \"accused\", \"accused\", \"active\", \"active\", \"actor\", \"actor\", \"actor\", \"actress\", \"actress\", \"actress\", \"added\", \"added\", \"added\", \"added\", \"added\", \"added\", \"added\", \"added\", \"added\", \"adding\", \"adding\", \"admitted\", \"admitted\", \"allowed\", \"allowed\", \"allowed\", \"allowed\", \"allowed\", \"allowed\", \"amid\", \"amid\", \"amid\", \"andhra_pradesh\", \"andhra_pradesh\", \"announced\", \"announced\", \"announced\", \"announced\", \"announced\", \"app\", \"app\", \"app\", \"april\", \"april\", \"april\", \"april\", \"asked\", \"asked\", \"asked\", \"asked\", \"asked\", \"australia\", \"australia\", \"based\", \"based\", \"based\", \"based\", \"based\", \"based\", \"based\", \"board\", \"board\", \"called\", \"called\", \"called\", \"called\", \"came\", \"came\", \"came\", \"came\", \"came\", \"captain\", \"captain\", \"captain\", \"case\", \"case\", \"case\", \"case\", \"case\", \"cases\", \"cases\", \"ceo\", \"ceo\", \"ceo\", \"ceo\", \"chief\", \"chief\", \"chief\", \"chief\", \"china\", \"city\", \"city\", \"claimed\", \"claimed\", \"comes\", \"comes\", \"comes\", \"company\", \"company\", \"company\", \"company\", \"confirmed\", \"confirmed\", \"confirmed\", \"confirmed\", \"confirmed\", \"control\", \"control\", \"control\", \"control\", \"coronavirus\", \"coronavirus\", \"coronavirus\", \"coronavirus\", \"coronavirus\", \"coronavirus\", \"coronavirus\", \"coronavirus\", \"coronavirus\", \"coronavirus\", \"country\", \"country\", \"court\", \"court\", \"court\", \"covid\", \"covid\", \"covid\", \"covid\", \"covid\", \"covid\", \"cricket\", \"cricket\", \"crisis\", \"crisis\", \"crisis\", \"crisis\", \"crore\", \"crore\", \"crore\", \"data\", \"data\", \"data\", \"day\", \"day\", \"day\", \"days\", \"days\", \"days\", \"days\", \"days\", \"deal\", \"deal\", \"deal\", \"deal\", \"death\", \"death\", \"death\", \"death_toll\", \"death_toll\", \"deaths\", \"deaths\", \"delhi\", \"delhi\", \"delhi\", \"delhi\", \"delhi\", \"delhi\", \"department\", \"department\", \"department\", \"developed\", \"developed\", \"developed\", \"died\", \"died\", \"died\", \"died\", \"directed\", \"directed\", \"directed\", \"directed\", \"director\", \"director\", \"director\", \"director\", \"discharged\", \"district\", \"district\", \"earlier\", \"earlier\", \"earlier\", \"earlier\", \"earlier\", \"earlier\", \"economic\", \"economic\", \"economic\", \"elon_musk\", \"elon_musk\", \"elon_musk\", \"elon_musk\", \"employees\", \"end\", \"end\", \"end\", \"family\", \"family\", \"family\", \"far\", \"far\", \"film\", \"film\", \"friday\", \"friday\", \"friday\", \"friday\", \"friday\", \"friday\", \"given\", \"given\", \"given\", \"given\", \"going\", \"going\", \"going\", \"good\", \"good\", \"good\", \"good\", \"good\", \"got\", \"got\", \"got\", \"got\", \"government\", \"government\", \"government\", \"government\", \"government\", \"government\", \"government\", \"group\", \"gujarat\", \"health\", \"health\", \"health\", \"heart\", \"held\", \"held\", \"help\", \"help\", \"help\", \"help\", \"high\", \"high\", \"high\", \"high\", \"home\", \"home\", \"home\", \"home\", \"home\", \"hospital\", \"hospital\", \"hospital\", \"hospitals\", \"hours\", \"hours\", \"hours\", \"incident\", \"incident\", \"including\", \"including\", \"including\", \"including\", \"india\", \"india\", \"india\", \"indian\", \"indian\", \"instagram\", \"instagram\", \"instagram\", \"international\", \"international\", \"investment\", \"investment\", \"investment\", \"karnataka\", \"karnataka\", \"karnataka\", \"khan\", \"khan\", \"khan\", \"killed\", \"killed\", \"know\", \"know\", \"kumar\", \"kumar\", \"kumar\", \"lakh\", \"lakh\", \"lakh\", \"life\", \"life\", \"like\", \"like\", \"like\", \"like\", \"liquor\", \"liquor\", \"liquor\", \"lockdown\", \"lockdown\", \"lockdown\", \"lockdown\", \"lockdown\", \"maharashtra\", \"maharashtra\", \"maharashtra\", \"march\", \"march\", \"march\", \"media\", \"media\", \"media\", \"medical\", \"medical\", \"medical\", \"migrant_workers\", \"migrant_workers\", \"million\", \"million\", \"minister\", \"minister\", \"minister\", \"minister\", \"minister\", \"minister\", \"minister\", \"ministry\", \"ministry\", \"ministry\", \"ministry\", \"month\", \"month\", \"month\", \"months\", \"months\", \"mother\", \"mumbai\", \"mumbai\", \"mumbai\", \"near\", \"near\", \"need\", \"need\", \"need\", \"new\", \"new\", \"new\", \"new\", \"new\", \"new\", \"number\", \"number\", \"number\", \"number\", \"official\", \"official\", \"official\", \"official\", \"official\", \"online\", \"online\", \"online\", \"online\", \"order\", \"order\", \"outbreak\", \"outbreak\", \"pakistan\", \"pakistan\", \"pakistan\", \"pakistan\", \"pandemic\", \"pandemic\", \"pandemic\", \"pandemic\", \"passed_away\", \"passed_away\", \"patients\", \"patients\", \"pay\", \"pay\", \"people\", \"people\", \"people\", \"people\", \"people\", \"people\", \"people\", \"people\", \"people\", \"period\", \"period\", \"period\", \"period\", \"picture\", \"picture\", \"picture\", \"plant\", \"plant\", \"plant\", \"play\", \"play\", \"played\", \"played\", \"playing\", \"playing\", \"police\", \"police\", \"police\", \"positive\", \"positive\", \"president\", \"president\", \"president\", \"president\", \"previous\", \"previous\", \"private\", \"private\", \"punjab\", \"punjab\", \"punjab\", \"quarantine\", \"quarantine\", \"quarantine\", \"quarantine\", \"railway\", \"railway\", \"railway\", \"rajasthan\", \"rate\", \"rate\", \"rate\", \"rate\", \"rate\", \"rate\", \"reached\", \"reached\", \"reached\", \"recorded\", \"recovered\", \"recovered\", \"report\", \"report\", \"report\", \"report\", \"report\", \"report\", \"reported\", \"reported\", \"reported\", \"reported\", \"reportedly\", \"reportedly\", \"reports\", \"reports\", \"return\", \"return\", \"return\", \"revealed\", \"revealed\", \"risen\", \"run\", \"run\", \"run\", \"run\", \"said\", \"said\", \"said\", \"said\", \"said\", \"said\", \"said\", \"said\", \"said\", \"said\", \"saturday\", \"saturday\", \"saturday\", \"saturday\", \"saturday\", \"saturday\", \"saturday\", \"saturday\", \"saying\", \"saying\", \"saying\", \"second\", \"second\", \"second\", \"second\", \"secretary\", \"secretary\", \"secretary\", \"seen\", \"seen\", \"seen\", \"seen\", \"seen\", \"seen\", \"senior\", \"senior\", \"senior\", \"senior\", \"shared\", \"shared\", \"shops\", \"shops\", \"shops\", \"shops\", \"singh\", \"singh\", \"singh\", \"social\", \"social\", \"social_distancing\", \"social_distancing\", \"social_distancing\", \"special\", \"special\", \"special\", \"spread\", \"spread\", \"spread\", \"spread\", \"started\", \"started\", \"started\", \"started\", \"started\", \"state\", \"state\", \"state\", \"state\", \"state\", \"stated\", \"stated\", \"stated\", \"stated\", \"stated\", \"stated\", \"states\", \"states\", \"sunday\", \"sunday\", \"sunday\", \"sunday\", \"sunday\", \"support\", \"support\", \"support\", \"support\", \"taking\", \"taking\", \"taking\", \"talking\", \"talking\", \"talking\", \"tamil_nadu\", \"tamil_nadu\", \"tamil_nadu\", \"tamil_nadu\", \"team\", \"team\", \"test\", \"test\", \"tested\", \"tested\", \"tested\", \"tested_positive\", \"tested_positive\", \"tested_positive\", \"tested_positive\", \"think\", \"think\", \"think\", \"thursday\", \"thursday\", \"thursday\", \"thursday\", \"thursday\", \"thursday\", \"thursday\", \"till\", \"till\", \"till\", \"time\", \"time\", \"time\", \"time\", \"time\", \"time\", \"times\", \"times\", \"times\", \"times\", \"today\", \"today\", \"today\", \"told\", \"told\", \"took\", \"took\", \"took\", \"took\", \"took\", \"took\", \"total\", \"total\", \"total\", \"total_number\", \"trains\", \"trump\", \"trump\", \"tweeted\", \"tweeted\", \"twitter\", \"twitter\", \"twitter\", \"uttar_pradesh\", \"uttar_pradesh\", \"uttar_pradesh\", \"video\", \"video\", \"video\", \"video\", \"video\", \"video\", \"virus\", \"virus\", \"virus\", \"virus\", \"visakhapatnam\", \"way\", \"way\", \"way\", \"way\", \"week\", \"week\", \"week\", \"week\", \"weeks\", \"weeks\", \"weeks\", \"west_bengal\", \"west_bengal\", \"women\", \"work\", \"work\", \"work\", \"workers\", \"workers\", \"workers\", \"workers\", \"working\", \"working\", \"working\", \"world\", \"world\", \"wrote\", \"wrote\", \"wrote\", \"wrote\", \"wrote\", \"year\", \"year\", \"year_old\", \"year_old\", \"year_old\", \"year_old\", \"year_old\", \"year_old\", \"years\", \"years\", \"years\"]}, \"R\": 30, \"lambda.step\": 0.01, \"plot.opts\": {\"xlab\": \"PC1\", \"ylab\": \"PC2\"}, \"topic.order\": [1, 2, 3, 4, 5, 6, 7, 8, 9, 10]};\n",
              "\n",
              "function LDAvis_load_lib(url, callback){\n",
              "  var s = document.createElement('script');\n",
              "  s.src = url;\n",
              "  s.async = true;\n",
              "  s.onreadystatechange = s.onload = callback;\n",
              "  s.onerror = function(){console.warn(\"failed to load library \" + url);};\n",
              "  document.getElementsByTagName(\"head\")[0].appendChild(s);\n",
              "}\n",
              "\n",
              "if(typeof(LDAvis) !== \"undefined\"){\n",
              "   // already loaded: just create the visualization\n",
              "   !function(LDAvis){\n",
              "       new LDAvis(\"#\" + \"ldavis_el2287218523131664087495971356\", ldavis_el2287218523131664087495971356_data);\n",
              "   }(LDAvis);\n",
              "}else if(typeof define === \"function\" && define.amd){\n",
              "   // require.js is available: use it to load d3/LDAvis\n",
              "   require.config({paths: {d3: \"https://cdnjs.cloudflare.com/ajax/libs/d3/3.5.5/d3.min\"}});\n",
              "   require([\"d3\"], function(d3){\n",
              "      window.d3 = d3;\n",
              "      LDAvis_load_lib(\"https://cdn.rawgit.com/bmabey/pyLDAvis/files/ldavis.v1.0.0.js\", function(){\n",
              "        new LDAvis(\"#\" + \"ldavis_el2287218523131664087495971356\", ldavis_el2287218523131664087495971356_data);\n",
              "      });\n",
              "    });\n",
              "}else{\n",
              "    // require.js not available: dynamically load d3 & LDAvis\n",
              "    LDAvis_load_lib(\"https://cdnjs.cloudflare.com/ajax/libs/d3/3.5.5/d3.min.js\", function(){\n",
              "         LDAvis_load_lib(\"https://cdn.rawgit.com/bmabey/pyLDAvis/files/ldavis.v1.0.0.js\", function(){\n",
              "                 new LDAvis(\"#\" + \"ldavis_el2287218523131664087495971356\", ldavis_el2287218523131664087495971356_data);\n",
              "            })\n",
              "         });\n",
              "}\n",
              "</script>"
            ],
            "text/plain": [
              "PreparedData(topic_coordinates=              x         y  topics  cluster       Freq\n",
              "topic                                                \n",
              "0     -0.090177  0.029896       1        1   5.927916\n",
              "1      0.070521 -0.058378       2        1   7.144493\n",
              "2      0.002207 -0.220900       3        1   9.117367\n",
              "3      0.239453  0.097688       4        1   7.017550\n",
              "4     -0.250985  0.097723       5        1  23.171907\n",
              "5     -0.199470  0.091312       6        1   8.493396\n",
              "6     -0.035953 -0.209855       7        1   6.733599\n",
              "7     -0.017574  0.006373       8        1  12.983152\n",
              "8      0.106891  0.144772       9        1   8.200565\n",
              "9      0.175088  0.021371      10        1  11.210058, topic_info=    Category        Freq          Term       Total  loglift  logprob\n",
              "16   Default  168.000000         cases  168.000000  30.0000  30.0000\n",
              "35   Default   80.000000         india   80.000000  29.0000  29.0000\n",
              "37   Default  426.000000          said  426.000000  28.0000  28.0000\n",
              "144  Default   54.000000         crore   54.000000  27.0000  27.0000\n",
              "82   Default   56.000000        police   56.000000  26.0000  26.0000\n",
              "17   Default  258.000000   coronavirus  258.000000  25.0000  25.0000\n",
              "26   Default  119.000000         state  119.000000  24.0000  24.0000\n",
              "68   Default  156.000000         added  156.000000  23.0000  23.0000\n",
              "53   Default   30.000000        mother   30.000000  22.0000  22.0000\n",
              "25   Default   88.000000      reported   88.000000  21.0000  21.0000\n",
              "146  Default   35.000000          year   35.000000  20.0000  20.0000\n",
              "75   Default   26.000000         world   26.000000  19.0000  19.0000\n",
              "78   Default   35.000000       country   35.000000  18.0000  18.0000\n",
              "70   Default   64.000000      lockdown   64.000000  17.0000  17.0000\n",
              "32   Default   66.000000        health   66.000000  16.0000  16.0000\n",
              "130  Default   84.000000    government   84.000000  15.0000  15.0000\n",
              "51   Default   30.000000           day   30.000000  14.0000  14.0000\n",
              "69   Default  101.000000         covid  101.000000  13.0000  13.0000\n",
              "86   Default   47.000000      pandemic   47.000000  12.0000  12.0000\n",
              "187  Default   31.000000          film   31.000000  11.0000  11.0000\n",
              "84   Default   44.000000          amid   44.000000  10.0000  10.0000\n",
              "117  Default   34.000000          like   34.000000   9.0000   9.0000\n",
              "30   Default   45.000000  total_number   45.000000   8.0000   8.0000\n",
              "22   Default   55.000000      patients   55.000000   7.0000   7.0000\n",
              "63   Default   25.000000         china   25.000000   6.0000   6.0000\n",
              "109  Default   24.000000       million   24.000000   5.0000   5.0000\n",
              "13   Default   36.000000         singh   36.000000   4.0000   4.0000\n",
              "169  Default   43.000000          home   43.000000   3.0000   3.0000\n",
              "105  Default   19.000000         women   19.000000   2.0000   2.0000\n",
              "92   Default   20.000000     employees   20.000000   1.0000   1.0000\n",
              "..       ...         ...           ...         ...      ...      ...\n",
              "155  Topic10   11.518504          play   14.455737   1.9612  -4.0345\n",
              "96   Topic10   18.425150          team   23.123720   1.9612  -3.5647\n",
              "145  Topic10   10.689451      revealed   13.529013   1.9528  -4.1092\n",
              "131  Topic10   13.623517         years   18.323914   1.8919  -3.8667\n",
              "186  Topic10   11.763658          khan   16.371803   1.8578  -4.0134\n",
              "164  Topic10    8.774770          know   12.602639   1.8263  -4.3066\n",
              "107  Topic10    9.113896          data   13.483250   1.7967  -4.2687\n",
              "3    Topic10   20.971399        indian   31.693798   1.7754  -3.4353\n",
              "156  Topic10    8.725136           way   13.462061   1.7547  -4.3123\n",
              "104  Topic10    7.260442         think   11.568070   1.7226  -4.4960\n",
              "158  Topic10    7.860979       playing   13.445640   1.6516  -4.4165\n",
              "97   Topic10    7.527094          test   13.440104   1.6086  -4.4600\n",
              "140  Topic10   11.764221         going   23.082062   1.5144  -4.0134\n",
              "95   Topic10   16.298470        stated   32.974621   1.4837  -3.6874\n",
              "154  Topic10    5.474607          good   13.458685   1.2889  -4.7783\n",
              "143  Topic10    8.344554       company   21.056446   1.2628  -4.3569\n",
              "68   Topic10   61.013020         added  156.644608   1.2455  -2.3674\n",
              "141  Topic10    7.806750      pakistan   22.230457   1.1419  -4.4235\n",
              "189  Topic10    4.715587         comes   13.560896   1.1320  -4.9276\n",
              "111  Topic10    4.235496       working   12.481106   1.1076  -5.0350\n",
              "150  Topic10    3.862490          deal   11.538899   1.0939  -5.1271\n",
              "142  Topic10    3.625735       started   11.524733   1.0319  -5.1904\n",
              "187  Topic10    9.539833          film   31.535013   0.9927  -4.2230\n",
              "200  Topic10    4.570742         plant   15.337608   0.9777  -4.9588\n",
              "37   Topic10   97.795494          said  426.546692   0.7155  -1.8956\n",
              "13   Topic10    7.995920         singh   36.663750   0.6655  -4.3995\n",
              "78   Topic10    7.820520       country   35.616325   0.6723  -4.4217\n",
              "5    Topic10    8.921013           new   63.269699   0.2294  -4.2901\n",
              "46   Topic10   10.536607        people   92.043457   0.0210  -4.1236\n",
              "146  Topic10    6.421784          year   35.307678   0.4840  -4.6188\n",
              "\n",
              "[401 rows x 6 columns], token_table=      Topic      Freq         Term\n",
              "term                              \n",
              "129       1  0.416189    according\n",
              "129       2  0.124857    according\n",
              "129       5  0.332951    according\n",
              "129      10  0.083238    according\n",
              "180       2  0.149505      accused\n",
              "180       3  0.149505      accused\n",
              "180       4  0.149505      accused\n",
              "180       6  0.074752      accused\n",
              "180       7  0.373761      accused\n",
              "180       8  0.074752      accused\n",
              "15        5  0.927300       active\n",
              "15        7  0.048805       active\n",
              "114       2  0.182290        actor\n",
              "114       4  0.729158        actor\n",
              "114       8  0.045572        actor\n",
              "115       4  0.697111      actress\n",
              "115       8  0.058093      actress\n",
              "115       9  0.174278      actress\n",
              "68        2  0.044687        added\n",
              "68        3  0.051071        added\n",
              "68        4  0.114910        added\n",
              "68        5  0.038303        added\n",
              "68        6  0.025536        added\n",
              "68        7  0.019152        added\n",
              "68        8  0.217052        added\n",
              "68        9  0.095758        added\n",
              "68       10  0.389417        added\n",
              "110       2  0.694713       adding\n",
              "110      10  0.231571       adding\n",
              "11        7  0.473257     admitted\n",
              "...     ...       ...          ...\n",
              "50        5  0.224124  west_bengal\n",
              "105       1  0.953701        women\n",
              "178       2  0.522658         work\n",
              "178       7  0.326661         work\n",
              "178      10  0.130665         work\n",
              "153       1  0.079389      workers\n",
              "153       2  0.238167      workers\n",
              "153       6  0.198473      workers\n",
              "153       8  0.476334      workers\n",
              "111       2  0.560848      working\n",
              "111       4  0.080121      working\n",
              "111      10  0.320484      working\n",
              "75        1  0.864986        world\n",
              "75        6  0.075216        world\n",
              "120       1  0.059498        wrote\n",
              "120       3  0.059498        wrote\n",
              "120       4  0.386738        wrote\n",
              "120       8  0.089247        wrote\n",
              "120       9  0.416487        wrote\n",
              "146       7  0.793029         year\n",
              "146      10  0.169935         year\n",
              "14        2  0.044375     year_old\n",
              "14        4  0.399371     year_old\n",
              "14        5  0.066562     year_old\n",
              "14        7  0.221873     year_old\n",
              "14        8  0.088749     year_old\n",
              "14        9  0.177498     year_old\n",
              "131       1  0.109147        years\n",
              "131       9  0.109147        years\n",
              "131      10  0.764029        years\n",
              "\n",
              "[699 rows x 3 columns], R=30, lambda_step=0.01, plot_opts={'xlab': 'PC1', 'ylab': 'PC2'}, topic_order=[1, 2, 3, 4, 5, 6, 7, 8, 9, 10])"
            ]
          },
          "metadata": {
            "tags": []
          },
          "execution_count": 102
        }
      ]
    },
    {
      "cell_type": "code",
      "metadata": {
        "id": "HYXWjRnsISrl",
        "colab_type": "code",
        "colab": {},
        "outputId": "ba523378-34fd-480f-f1e7-ba4f2ec00257"
      },
      "source": [
        "### Document Clustering using LDA on Tensorboard\n",
        "\n",
        "# Get document topics\n",
        "all_topics = lda_model.get_document_topics(corpus, minimum_probability=0)\n",
        "all_topics[0]"
      ],
      "execution_count": 0,
      "outputs": [
        {
          "output_type": "execute_result",
          "data": {
            "text/plain": [
              "[(0, 0.0028396605),\n",
              " (1, 0.0030884051),\n",
              " (2, 0.6604015),\n",
              " (3, 0.0031240103),\n",
              " (4, 0.004412665),\n",
              " (5, 0.002818684),\n",
              " (6, 0.003101953),\n",
              " (7, 0.0045325384),\n",
              " (8, 0.31105405),\n",
              " (9, 0.0046265377)]"
            ]
          },
          "metadata": {
            "tags": []
          },
          "execution_count": 103
        }
      ]
    },
    {
      "cell_type": "code",
      "metadata": {
        "id": "OX7hLXsKISrn",
        "colab_type": "code",
        "colab": {}
      },
      "source": [
        "# create file for tensors(vectors)\n",
        "\n",
        "with open('doc_lda_tensor.tsv','w') as w:\n",
        "    for doc_topics in all_topics:\n",
        "        for topics in doc_topics:\n",
        "            w.write(str(topics[1])+ \"\\t\") # store the probablity value\n",
        "        w.write(\"\\n\")"
      ],
      "execution_count": 0,
      "outputs": []
    },
    {
      "cell_type": "code",
      "metadata": {
        "id": "2zecfTQkISrq",
        "colab_type": "code",
        "colab": {}
      },
      "source": [
        "# create file for metadata(documet titles)\n",
        "with open('doc_lda_metadata.tsv','w',encoding=\"utf-8\") as w:\n",
        "    for doc_id in range(len(all_topics)):\n",
        "        w.write(df_news.news_title[doc_id] + \"\\n\")"
      ],
      "execution_count": 0,
      "outputs": []
    },
    {
      "cell_type": "markdown",
      "metadata": {
        "id": "C3O8jI1wISrt",
        "colab_type": "text"
      },
      "source": [
        "* Now open - http://projector.tensorflow.org/\n",
        "* upload both the files\n",
        "* Upload both the files using the `load` button on the left"
      ]
    },
    {
      "cell_type": "markdown",
      "metadata": {
        "id": "ZV7Zc5OGISrt",
        "colab_type": "text"
      },
      "source": [
        "**Below is the quick view of the news cluster that we have made**\n",
        "\n",
        "---\n",
        "\n",
        "<img src = \"./news_cluster.gif\">"
      ]
    },
    {
      "cell_type": "code",
      "metadata": {
        "id": "YrYdVQhnISrt",
        "colab_type": "code",
        "colab": {}
      },
      "source": [
        ""
      ],
      "execution_count": 0,
      "outputs": []
    },
    {
      "cell_type": "code",
      "metadata": {
        "id": "z_tSO8uLISrv",
        "colab_type": "code",
        "colab": {}
      },
      "source": [
        ""
      ],
      "execution_count": 0,
      "outputs": []
    }
  ]
}