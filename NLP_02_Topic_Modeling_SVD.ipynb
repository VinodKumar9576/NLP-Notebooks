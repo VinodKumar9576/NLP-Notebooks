{
 "cells": [
  {
   "cell_type": "markdown",
   "metadata": {
    "colab_type": "text",
    "id": "view-in-github"
   },
   "source": [
    "<a href=\"https://colab.research.google.com/github/biku1998/NLP-Notebooks/blob/master/NLP_02_Topic_Modeling_SVD.ipynb\" target=\"_parent\"><img src=\"https://colab.research.google.com/assets/colab-badge.svg\" alt=\"Open In Colab\"/></a>"
   ]
  },
  {
   "cell_type": "markdown",
   "metadata": {
    "colab_type": "text",
    "id": "5eD_iLzn6Ja9"
   },
   "source": [
    "## Topic Modeling\n",
    "   >In machine learning and natural language processing, a topic model is a type of statistical model for discovering the abstract \"topics\" that occur in a collection of documents. Topic modeling is a frequently used text-mining tool for discovery of hidden semantic structures in a text body.\n",
    "- source : <a href = \"https://en.wikipedia.org/wiki/Topic_model\">Wikipedia</a>\n",
    "\n",
    "\n",
    "##  Why we do topic modeling ?\n",
    "\n",
    ">Large amounts of data are collected everyday. As more information becomes available, it becomes difficult to access what we are looking for. So, we need tools and techniques to organize, search and understand vast quantities of information.\n",
    "\n",
    ">Topic modeling provides us with methods to organize, understand and summarize large collections of textual information.\n",
    "> to put simply pros of topic modeling are\n",
    "> - Discover hidden topical pattern in large text corpus\n",
    "> - Annotating these documents topic wise\n",
    "\n",
    "> **Also this is the first step we do when we have a large corpus.**\n",
    "\n",
    "> **There was a famous case happened few years back `the leak of panama papers`**, the leak documents was nothing but huge text document containing conversations, discussions etc between different people, companies. **The newspaper agencies actually used topic modeling combined with NER-Named Entity recognition to extract quick insights from the large corpus**"
   ]
  },
  {
   "cell_type": "code",
   "execution_count": 0,
   "metadata": {
    "colab": {},
    "colab_type": "code",
    "id": "t7NgfAfO6Ja_"
   },
   "outputs": [],
   "source": [
    "from IPython.display import YouTubeVideo"
   ]
  },
  {
   "cell_type": "markdown",
   "metadata": {
    "colab_type": "text",
    "id": "0N-vLlRE6JbF"
   },
   "source": [
    "* There are various approach to topic modeling we will see most of them one by one.\n",
    "\n",
    "### **SVD**\n",
    "   > * Singular value decomposition, also know as Latent Semantic Analysis (LSA)\n",
    "   > * At a very high level it's a Matrix decomposition technique i.e splitting a Big Matrix into 3 smaller matrix such that those small matrices exhibits some interesting properties.\n",
    "   > * SVD can be used for any data decomposition like images also.\n",
    "\n",
    "**Understanding SVD**\n",
    "\n",
    "<img src = \"./SVD.png\"></img>\n",
    "\n",
    "[image source <a href = \"https://research.fb.com/fast-randomized-svd/\">Facebook research</a>]\n",
    "\n",
    "The big Matrix (the blue one) has dimensions $m \\times n$, this is the `source` matrix that we want to decompose, it can be a `document matrix`(we will see what this means), an `image`.\n",
    "SVD will decompose our matrix in such a way that we will get 3 matrices.\n",
    "   * The first matrix will be of dimension $m \\times r$\n",
    "   * The second matrix will be of dimension $r \\times r$\n",
    "   * The third one will be of dimension $r \\times n$\n",
    "   \n",
    "<b>Understanding the dimensions and what they represent</b>\n",
    "\n",
    "   Since we are doing topic modeling we will understand the dimensions and what they represent for the same.So `m` here is number of documents we have, `n` is the number of terms and the `r` here is a type of hyper-parameter we can tune which is no of concepts or topics we want to keep.\n",
    "\n",
    "<b>Some properties of SVD </b>\n",
    "- The most important matrix will be the last one from which we will extract topics\n",
    "- SVD is exact decomposition. Meaning we can fully recover our original matrix [we will see how]\n",
    "- SVD decomposition of any matrix is unique\n",
    "\n",
    "<b> But why are we expecting something like this will work ? what's the point ?</b>\n",
    "\n",
    "Let's take a much simpler case of integer `144` we can see that it's not a prime number but when we decompose or factorize it to $2 * 2 * 3 * 3 * 2 * 2 \\rightarrow 144$ Here we see nice property that **all the factors are prime** which is a very special property to have for a number. <b>The same way if we break or decompose a matrix we will get different matrices with nice properties.</b>\n",
    "\n",
    "* Most of the examples here are from a book called <a href = \"https://nlp.stanford.edu/IR-book/html/htmledition/dropping-common-terms-stop-words-1.html\"> Intro to Information Retrieval</a>\n",
    "\n",
    "* The most useful resource to learn SVD is from someone is best at linear algebra who is non other than `Gilbert Strang`. I will recommend you to watch this video [`do not worry if you don't understand all of it, get a feel of what's the concept is all about`]"
   ]
  },
  {
   "cell_type": "code",
   "execution_count": 0,
   "metadata": {
    "colab": {},
    "colab_type": "code",
    "id": "cSJtWMlW6JbG",
    "outputId": "e414081d-9a45-4227-8a3e-a9475dae36f0",
    "scrolled": false
   },
   "outputs": [
    {
     "data": {
      "image/jpeg": "[encoded data removed]",
      "text/html": [
       "\n",
       "        <iframe\n",
       "            width=\"650\"\n",
       "            height=\"320\"\n",
       "            src=\"https://www.youtube.com/embed/mBcLRGuAFUk\"\n",
       "            frameborder=\"0\"\n",
       "            allowfullscreen\n",
       "        ></iframe>\n",
       "        "
      ],
      "text/plain": [
       "<IPython.lib.display.YouTubeVideo at 0x128672490>"
      ]
     },
     "execution_count": 128,
     "metadata": {
      "tags": []
     },
     "output_type": "execute_result"
    }
   ],
   "source": [
    "YouTubeVideo(\"mBcLRGuAFUk\",width=650,height=320)"
   ]
  },
  {
   "cell_type": "markdown",
   "metadata": {
    "colab_type": "text",
    "id": "-3rgdlkv6JbK"
   },
   "source": [
    "**Now let's implement SVD in different ways**\n",
    "\n",
    "We will do 2-3 examples so that we get a proper idea of how to concepts are applied using different tools available."
   ]
  },
  {
   "cell_type": "markdown",
   "metadata": {
    "colab_type": "text",
    "id": "Rr5BquTX6JbL"
   },
   "source": [
    "### Demo 1 using sklearn fetch_20newsgroups dataset"
   ]
  },
  {
   "cell_type": "code",
   "execution_count": 0,
   "metadata": {
    "colab": {},
    "colab_type": "code",
    "id": "xLRQYlVu6JbL",
    "outputId": "068668ca-f03e-47bf-e955-4ae46f05dd12"
   },
   "outputs": [
    {
     "name": "stderr",
     "output_type": "stream",
     "text": [
      "[nltk_data] Downloading package wordnet to /Users/biku/nltk_data...\n",
      "[nltk_data]   Package wordnet is already up-to-date!\n"
     ]
    }
   ],
   "source": [
    "# basic imports\n",
    "\n",
    "import nltk\n",
    "nltk.download('wordnet')\n",
    "from nltk import stem\n",
    "\n",
    "import spacy\n",
    "\n",
    "import numpy as np\n",
    "import matplotlib.pyplot as plt\n",
    "\n",
    "from scipy import linalg\n",
    "\n",
    "from sklearn.datasets import fetch_20newsgroups\n",
    "from sklearn import decomposition\n",
    "from sklearn.feature_extraction.text import CountVectorizer,TfidfVectorizer"
   ]
  },
  {
   "cell_type": "code",
   "execution_count": 0,
   "metadata": {
    "colab": {},
    "colab_type": "code",
    "id": "9tcremlp6JbO"
   },
   "outputs": [],
   "source": [
    "# load the data\n",
    "\n",
    "# we will only work with 4 categories to keep things simple and easy to understand\n",
    "categories = ['alt.atheism', 'talk.religion.misc', 'comp.graphics', 'sci.space']\n",
    "\n",
    "# we will remove below attributes, as we only want articles text\n",
    "remove = ('headers', 'footers', 'quotes')\n",
    "\n",
    "# load the data for train and test mode\n",
    "newsgroups_train = fetch_20newsgroups(subset='train', categories=categories, remove=remove)\n",
    "newsgroups_test = fetch_20newsgroups(subset='test', categories=categories, remove=remove)"
   ]
  },
  {
   "cell_type": "code",
   "execution_count": 0,
   "metadata": {
    "colab": {},
    "colab_type": "code",
    "id": "duuEqVzg6JbR",
    "outputId": "db69d5f1-03c5-4f0b-fcbb-66fc80acbaea"
   },
   "outputs": [
    {
     "name": "stdout",
     "output_type": "stream",
     "text": [
      "(2034,) (2034,)\n"
     ]
    }
   ],
   "source": [
    "# explore the data little bit\n",
    "\n",
    "# how many data points we have ?\n",
    "print(newsgroups_train.filenames.shape,newsgroups_train.target.shape)"
   ]
  },
  {
   "cell_type": "code",
   "execution_count": 0,
   "metadata": {
    "colab": {},
    "colab_type": "code",
    "id": "WdP7Ss3k6JbV",
    "outputId": "3429da65-5810-44e9-c826-dc7af09de9aa"
   },
   "outputs": [
    {
     "data": {
      "text/plain": [
       "['alt.atheism', 'comp.graphics', 'sci.space', 'talk.religion.misc']"
      ]
     },
     "execution_count": 132,
     "metadata": {
      "tags": []
     },
     "output_type": "execute_result"
    }
   ],
   "source": [
    "target_names = newsgroups_train.target_names\n",
    "target_names"
   ]
  },
  {
   "cell_type": "code",
   "execution_count": 0,
   "metadata": {
    "colab": {},
    "colab_type": "code",
    "id": "ASGGIc8_6JbZ",
    "outputId": "8cffb9e8-43ee-4b69-97f5-4206b5b36a8f"
   },
   "outputs": [
    {
     "name": "stdout",
     "output_type": "stream",
     "text": [
      "article / document : Hi,\n",
      "\n",
      "I've noticed that if you only save a model (with all your mapping planes\n",
      "positioned carefully) to a .3DS file that when you reload it after restarting\n",
      "3DS, they are given a default position and orientation.  But if you save\n",
      "to a .PRJ file their positions/orientation are preserved.  Does anyone\n",
      "know why this information is not stored in the .3DS file?  Nothing is\n",
      "explicitly said in the manual about saving texture rules in the .PRJ file. \n",
      "I'd like to be able to read the texture rule information, does anyone have \n",
      "the format for the .PRJ file?\n",
      "\n",
      "Is the .CEL file format available from somewhere?\n",
      "\n",
      "Rych        \n",
      "=================================\n",
      "category      : comp.graphics\n"
     ]
    }
   ],
   "source": [
    "# look the some samples\n",
    "\n",
    "idx = np.random.choice(2034)\n",
    "# idx = 0\n",
    "\n",
    "print(f\"article / document : {newsgroups_train.data[idx]}\\\n",
    "        \\n=================================\\ncategory\\\n",
    "      : {target_names[newsgroups_train.target[idx]]}\")"
   ]
  },
  {
   "cell_type": "code",
   "execution_count": 0,
   "metadata": {
    "colab": {},
    "colab_type": "code",
    "id": "iGt94Fg46Jbc",
    "outputId": "79fa0906-8d6a-49dd-b81e-0321bf24cfd2"
   },
   "outputs": [
    {
     "data": {
      "text/plain": [
       "(2034, 26576)"
      ]
     },
     "execution_count": 134,
     "metadata": {
      "tags": []
     },
     "output_type": "execute_result"
    }
   ],
   "source": [
    "# tokenize the data\n",
    "\n",
    "# Bag of Words\n",
    "vectorizer = CountVectorizer(stop_words='english')\n",
    "# we will also get dense matrix instead of sparse. *Don't do this if corpus is very huge*\n",
    "vectors = vectorizer.fit_transform(newsgroups_train.data).todense() \n",
    "vectors.shape # (documents,vocab)"
   ]
  },
  {
   "cell_type": "code",
   "execution_count": 0,
   "metadata": {
    "colab": {},
    "colab_type": "code",
    "id": "JI9pjQof6Jbf",
    "outputId": "a426d857-3934-4f02-a399-0e604ab08e51"
   },
   "outputs": [
    {
     "data": {
      "text/plain": [
       "((1, 26576), matrix([[0, 0, 0, ..., 0, 0, 0]]))"
      ]
     },
     "execution_count": 135,
     "metadata": {
      "tags": []
     },
     "output_type": "execute_result"
    }
   ],
   "source": [
    "vectors[0].shape,vectors[0]"
   ]
  },
  {
   "cell_type": "code",
   "execution_count": 0,
   "metadata": {
    "colab": {},
    "colab_type": "code",
    "id": "BBKkyTdo6Jbi",
    "outputId": "dd45c6b2-b18e-4263-b58a-dcb0458a3de8"
   },
   "outputs": [
    {
     "data": {
      "text/plain": [
       "(2034, 26576)"
      ]
     },
     "execution_count": 136,
     "metadata": {
      "tags": []
     },
     "output_type": "execute_result"
    }
   ],
   "source": [
    "# Tf- Idf\n",
    "\n",
    "vectorizer_tfidf = TfidfVectorizer(stop_words='english')\n",
    "# tf-idf matrix will be normalized and most stop words will be zero\n",
    "vectors_tfidf = vectorizer_tfidf.fit_transform(newsgroups_train.data).todense()\n",
    "vectors_tfidf.shape"
   ]
  },
  {
   "cell_type": "code",
   "execution_count": 0,
   "metadata": {
    "colab": {},
    "colab_type": "code",
    "id": "SBnUxywt6Jbl",
    "outputId": "7e133aaa-8c97-4c3f-98d2-cc58c524b295"
   },
   "outputs": [
    {
     "data": {
      "text/plain": [
       "((1, 26576), matrix([[0., 0., 0., ..., 0., 0., 0.]]))"
      ]
     },
     "execution_count": 138,
     "metadata": {
      "tags": []
     },
     "output_type": "execute_result"
    }
   ],
   "source": [
    "vectors_tfidf[0].shape,vectors_tfidf[0]"
   ]
  },
  {
   "cell_type": "markdown",
   "metadata": {
    "colab_type": "text",
    "id": "PSOButZ66Jbq"
   },
   "source": [
    "### We will do SVD using 2 approaches\n",
    "   * Using scipy linear algebra library\n",
    "   * using sklearn decomposition\n",
    "\n",
    "**Using Scipy**"
   ]
  },
  {
   "cell_type": "code",
   "execution_count": 0,
   "metadata": {
    "colab": {},
    "colab_type": "code",
    "id": "UcQ1peeW6Jbr"
   },
   "outputs": [],
   "source": [
    "# bag of words \n",
    "\n",
    "U,s,Vh = linalg.svd(vectors,full_matrices = False)"
   ]
  },
  {
   "cell_type": "code",
   "execution_count": 0,
   "metadata": {
    "colab": {},
    "colab_type": "code",
    "id": "PfJ0eyC_6Jbv",
    "outputId": "07e797da-4f67-40b9-8b30-458d8f955f2c"
   },
   "outputs": [
    {
     "name": "stdout",
     "output_type": "stream",
     "text": [
      "Input Matrix shape :(2034, 26576) \n",
      "U shape (left one from the figure) : (2034, 2034)\n",
      "s shape (middle one) [this one will be a vector]: (2034,)\n",
      "Vh shape (right one) : (2034, 26576)\n"
     ]
    }
   ],
   "source": [
    "# let's look at the shapes of all the results and see if all make sense\n",
    "print(f\"Input Matrix shape :{vectors.shape} \")\n",
    "print(f\"U shape (left one from the figure) : {U.shape}\")\n",
    "print(f\"s shape (middle one) [this one will be a vector]: {s.shape}\")\n",
    "print(f\"Vh shape (right one) : {Vh.shape}\")"
   ]
  },
  {
   "cell_type": "markdown",
   "metadata": {
    "colab_type": "text",
    "id": "7fLVdXea6Jbx"
   },
   "source": [
    "**Observations**\n",
    "- Scipy SVD has produced `2034` topics which is equal to the number of documents\n",
    "- If you have done matrix math before we can easily see when we multiply all the 3 resultant matrix we can actually recover our original matrix.\n",
    "To recover the input matrix we have to convert vector s into a matrix. By definition of SVD, vector s should be a diagonal matrix i.e non-zero elements at diagonal and zero everywhere else. But when scipy svd is performed it gives s as a vector not a matrix, may be to save memory. We can easily convert it into a matrix using numpy. Let's see how we can recover our original matrix.\n",
    "\n"
   ]
  },
  {
   "cell_type": "code",
   "execution_count": 0,
   "metadata": {
    "colab": {},
    "colab_type": "code",
    "id": "Ly7X9yHT6Jby",
    "outputId": "44c6ad57-7143-4577-8f5f-e990dee1557f"
   },
   "outputs": [
    {
     "name": "stdout",
     "output_type": "stream",
     "text": [
      "[1 2 3 4]\n"
     ]
    },
    {
     "data": {
      "text/plain": [
       "array([[1, 0, 0, 0],\n",
       "       [0, 2, 0, 0],\n",
       "       [0, 0, 3, 0],\n",
       "       [0, 0, 0, 4]])"
      ]
     },
     "execution_count": 141,
     "metadata": {
      "tags": []
     },
     "output_type": "execute_result"
    }
   ],
   "source": [
    "# to understand what we are doing, let's do the same operation on a sample\n",
    "a = np.array([1,2,3,4])\n",
    "print(a)\n",
    "# convert a into a diagonal matrix\n",
    "np.diag(a)"
   ]
  },
  {
   "cell_type": "code",
   "execution_count": 0,
   "metadata": {
    "colab": {},
    "colab_type": "code",
    "id": "_dJr4gJx6Jb0",
    "outputId": "295e2343-692a-488b-eb3e-5dfab50c8fd3"
   },
   "outputs": [
    {
     "name": "stdout",
     "output_type": "stream",
     "text": [
      "Here, look we got our original matrix back\n"
     ]
    },
    {
     "data": {
      "text/plain": [
       "(2034, 26576)"
      ]
     },
     "execution_count": 142,
     "metadata": {
      "tags": []
     },
     "output_type": "execute_result"
    }
   ],
   "source": [
    "# the same thing we will do with that s vector\n",
    "\n",
    "new_s = np.diag(s)\n",
    "\n",
    "# recover the original matrix\n",
    "\n",
    "recovered_matrix = U @ new_s @ Vh # a hack in numpy to do matrix multiplication\n",
    "\n",
    "print(\"Here, look we got our original matrix back\")\n",
    "recovered_matrix.shape"
   ]
  },
  {
   "cell_type": "markdown",
   "metadata": {
    "colab_type": "text",
    "id": "dwlN3fon6Jb7"
   },
   "source": [
    "Okay but how do we get the topics ?\n",
    "- we have observed that scipy SVD gives us the same no of topic as no of documents we give.\n",
    "- But not all topics will be useful. So how do we know what's useful ?\n",
    "    - the interesting this is that `s` matrix is a diagonal matrix whose diagonal elements are in decreasing order. We can plot `s` and see up to what number the values are high"
   ]
  },
  {
   "cell_type": "code",
   "execution_count": 0,
   "metadata": {
    "colab": {},
    "colab_type": "code",
    "id": "diEm9jC56Jb7",
    "outputId": "7505d447-683d-4a8b-e8ad-48f5ab53ecc9"
   },
   "outputs": [
    {
     "data": {
      "image/png": "[encoded data removed]",
      "text/plain": [
       "<Figure size 432x288 with 1 Axes>"
      ]
     },
     "metadata": {
      "needs_background": "light",
      "tags": []
     },
     "output_type": "display_data"
    }
   ],
   "source": [
    "plt.plot(s)\n",
    "plt.grid()\n",
    "plt.show()"
   ]
  },
  {
   "cell_type": "code",
   "execution_count": 0,
   "metadata": {
    "colab": {},
    "colab_type": "code",
    "id": "vKDdY4q56JcA",
    "outputId": "1269d103-32ad-4002-fda5-ac8e903cc8f8"
   },
   "outputs": [
    {
     "data": {
      "image/png": "[encoded data removed]",
      "text/plain": [
       "<Figure size 432x288 with 1 Axes>"
      ]
     },
     "metadata": {
      "needs_background": "light",
      "tags": []
     },
     "output_type": "display_data"
    }
   ],
   "source": [
    "# highy skewed,  we have to look closely\n",
    "\n",
    "plt.plot(s[:10])\n",
    "plt.grid()\n",
    "plt.show()"
   ]
  },
  {
   "cell_type": "markdown",
   "metadata": {
    "colab_type": "text",
    "id": "L8rEE_k96JcD"
   },
   "source": [
    "Okay so looks like till `8` we have large values."
   ]
  },
  {
   "cell_type": "code",
   "execution_count": 0,
   "metadata": {
    "colab": {},
    "colab_type": "code",
    "id": "IolM2IQ16JcE",
    "outputId": "60923cc4-58ff-4576-d16a-cdeec3a1959b"
   },
   "outputs": [
    {
     "name": "stdout",
     "output_type": "stream",
     "text": [
      "26576\n",
      "['detects' 'deter' 'deteriorated' 'deterioration' 'determinant'\n",
      " 'determination' 'determinations' 'determine' 'determined' 'determines']\n"
     ]
    }
   ],
   "source": [
    "# getting our topics\n",
    "\n",
    "# we also have to choose no of words required to represent a topic\n",
    "no_of_words =8\n",
    "\n",
    "no_of_topics = 8\n",
    "\n",
    "\n",
    "# to select the words we first need all the words\n",
    "\n",
    "vocab = np.array(vectorizer.get_feature_names())\n",
    "\n",
    "print(len(vocab))\n",
    "\n",
    "# look at some samples\n",
    "print(vocab[8000:8010])"
   ]
  },
  {
   "cell_type": "markdown",
   "metadata": {
    "colab_type": "text",
    "id": "aE3PiCXg6JcI"
   },
   "source": [
    "So now we can print topics discovered by SVD by\n",
    " - taking our vocab and vocab importance vector i.e each row of Vh packing them together\n",
    " - sorting the packed vectors by importance i.e Vh\n",
    " - Once sorted we will take first n words that will represent the entire document\n",
    " - print them"
   ]
  },
  {
   "cell_type": "code",
   "execution_count": 0,
   "metadata": {
    "colab": {},
    "colab_type": "code",
    "id": "2NsTXRJ26JcI"
   },
   "outputs": [],
   "source": [
    "def print_topics(Vh,vocab,no_of_words,no_of_topics,verbose = False):\n",
    "    \n",
    "    if verbose:\n",
    "        print(f\"vocab shape : {vocab.shape}\")\n",
    "    for i,v in enumerate(Vh):\n",
    "        # stick the words and v together\n",
    "        vocab_components = zip(vocab,v)\n",
    "        \n",
    "        if verbose:\n",
    "            print(f\"vh shape : {v.shape}\")\n",
    "            \n",
    "        # sort the vocab components according to the importance that is captured in v\n",
    "        sorted_components = sorted(vocab_components,key = lambda x:x[1],reverse = True)\\\n",
    "                                                                            [:no_of_words]\n",
    "        if i <= no_of_topics:\n",
    "            print(\"document : \",i)\n",
    "            print(\"topics found in the document are :: \")\n",
    "            for c in sorted_components:\n",
    "                print(c[0])\n",
    "            print(\"=\"*70)\n",
    "        else:\n",
    "            break           "
   ]
  },
  {
   "cell_type": "code",
   "execution_count": 0,
   "metadata": {
    "colab": {},
    "colab_type": "code",
    "id": "3GdgsUwN6JcK",
    "outputId": "0652d674-b868-47bf-cfc6-450597e4be4d"
   },
   "outputs": [
    {
     "name": "stdout",
     "output_type": "stream",
     "text": [
      "document :  0\n",
      "topics found in the document are :: \n",
      "critus\n",
      "ditto\n",
      "propagandist\n",
      "surname\n",
      "galacticentric\n",
      "kindergarten\n",
      "surreal\n",
      "imaginative\n",
      "======================================================================\n",
      "document :  1\n",
      "topics found in the document are :: \n",
      "jpeg\n",
      "gif\n",
      "file\n",
      "color\n",
      "quality\n",
      "image\n",
      "jfif\n",
      "format\n",
      "======================================================================\n",
      "document :  2\n",
      "topics found in the document are :: \n",
      "graphics\n",
      "edu\n",
      "pub\n",
      "mail\n",
      "128\n",
      "3d\n",
      "ray\n",
      "ftp\n",
      "======================================================================\n",
      "document :  3\n",
      "topics found in the document are :: \n",
      "jesus\n",
      "god\n",
      "matthew\n",
      "people\n",
      "atheists\n",
      "atheism\n",
      "does\n",
      "graphics\n",
      "======================================================================\n",
      "document :  4\n",
      "topics found in the document are :: \n",
      "image\n",
      "data\n",
      "processing\n",
      "analysis\n",
      "software\n",
      "available\n",
      "tools\n",
      "display\n",
      "======================================================================\n",
      "document :  5\n",
      "topics found in the document are :: \n",
      "god\n",
      "atheists\n",
      "atheism\n",
      "religious\n",
      "believe\n",
      "religion\n",
      "argument\n",
      "true\n",
      "======================================================================\n",
      "document :  6\n",
      "topics found in the document are :: \n",
      "space\n",
      "nasa\n",
      "lunar\n",
      "mars\n",
      "probe\n",
      "moon\n",
      "missions\n",
      "probes\n",
      "======================================================================\n",
      "document :  7\n",
      "topics found in the document are :: \n",
      "image\n",
      "probe\n",
      "surface\n",
      "lunar\n",
      "mars\n",
      "probes\n",
      "moon\n",
      "orbit\n",
      "======================================================================\n",
      "document :  8\n",
      "topics found in the document are :: \n",
      "argument\n",
      "fallacy\n",
      "conclusion\n",
      "example\n",
      "true\n",
      "ad\n",
      "argumentum\n",
      "premises\n",
      "======================================================================\n"
     ]
    }
   ],
   "source": [
    "print_topics(Vh,vocab,no_of_words,no_of_topics)"
   ]
  },
  {
   "cell_type": "code",
   "execution_count": 0,
   "metadata": {
    "colab": {},
    "colab_type": "code",
    "id": "g1yulny-6JcN",
    "outputId": "d8086648-7de8-485f-f78d-377d1f4a3218"
   },
   "outputs": [
    {
     "name": "stdout",
     "output_type": "stream",
     "text": [
      "Input Matrix shape :(2034, 26576) \n",
      "U shape (left one from the figure) : (2034, 2034)\n",
      "s shape (middle one) [this one will be a vector]: (2034,)\n",
      "Vh shape (right one) : (2034, 26576)\n",
      "Here, look we got our original matrix back\n"
     ]
    },
    {
     "data": {
      "text/plain": [
       "(2034, 26576)"
      ]
     },
     "execution_count": 148,
     "metadata": {
      "tags": []
     },
     "output_type": "execute_result"
    }
   ],
   "source": [
    "# let's do the same process with tf-idf \n",
    "\n",
    "# the same code will be repeated .. \n",
    "\n",
    "U,s,Vh = linalg.svd(vectors_tfidf,full_matrices = False)\n",
    "\n",
    "# let's look at the shapes of all the results and see if all make sense\n",
    "print(f\"Input Matrix shape :{vectors.shape} \")\n",
    "print(f\"U shape (left one from the figure) : {U.shape}\")\n",
    "print(f\"s shape (middle one) [this one will be a vector]: {s.shape}\")\n",
    "print(f\"Vh shape (right one) : {Vh.shape}\")\n",
    "\n",
    "# the same thing we will do with that s vector\n",
    "\n",
    "new_s = np.diag(s)\n",
    "\n",
    "# recover the original matrix\n",
    "\n",
    "recovered_matrix = U @ new_s @ Vh # a hack in numpy to do matrix multiplication\n",
    "\n",
    "print(\"Here, look we got our original matrix back\")\n",
    "recovered_matrix.shape"
   ]
  },
  {
   "cell_type": "code",
   "execution_count": 0,
   "metadata": {
    "colab": {},
    "colab_type": "code",
    "id": "ZT3YTQL16JcP",
    "outputId": "239fa9c8-4919-4cb7-9143-7bd0a733341f"
   },
   "outputs": [
    {
     "data": {
      "image/png": "[encoded data removed]",
      "text/plain": [
       "<Figure size 432x288 with 1 Axes>"
      ]
     },
     "metadata": {
      "needs_background": "light",
      "tags": []
     },
     "output_type": "display_data"
    }
   ],
   "source": [
    "plt.plot(s[:10])\n",
    "plt.grid()\n",
    "plt.show()"
   ]
  },
  {
   "cell_type": "code",
   "execution_count": 0,
   "metadata": {
    "colab": {},
    "colab_type": "code",
    "id": "51JC0cvy6JcR",
    "outputId": "924da732-82c1-4ece-c409-fa6ee3a06c9b"
   },
   "outputs": [
    {
     "name": "stdout",
     "output_type": "stream",
     "text": [
      "document :  0\n",
      "topics found in the document are :: \n",
      "critus\n",
      "ditto\n",
      "asg\n",
      "collegue\n",
      "do_sphere\n",
      "fiddled\n",
      "n4\n",
      "pnp\n",
      "======================================================================\n",
      "document :  1\n",
      "topics found in the document are :: \n",
      "space\n",
      "graphics\n",
      "thanks\n",
      "program\n",
      "files\n",
      "image\n",
      "nasa\n",
      "ftp\n",
      "======================================================================\n",
      "document :  2\n",
      "topics found in the document are :: \n",
      "space\n",
      "nasa\n",
      "launch\n",
      "shuttle\n",
      "moon\n",
      "orbit\n",
      "lunar\n",
      "station\n",
      "======================================================================\n",
      "document :  3\n",
      "topics found in the document are :: \n",
      "ico\n",
      "bobbe\n",
      "tek\n",
      "beauchaine\n",
      "bronx\n",
      "manhattan\n",
      "sank\n",
      "queens\n",
      "======================================================================\n",
      "document :  4\n",
      "topics found in the document are :: \n",
      "objective\n",
      "think\n",
      "morality\n",
      "don\n",
      "just\n",
      "people\n",
      "moral\n",
      "values\n",
      "======================================================================\n",
      "document :  5\n",
      "topics found in the document are :: \n",
      "objective\n",
      "morality\n",
      "values\n",
      "moral\n",
      "god\n",
      "science\n",
      "space\n",
      "subjective\n",
      "======================================================================\n",
      "document :  6\n",
      "topics found in the document are :: \n",
      "graphics\n",
      "comp\n",
      "god\n",
      "software\n",
      "group\n",
      "objective\n",
      "aspects\n",
      "edu\n",
      "======================================================================\n",
      "document :  7\n",
      "topics found in the document are :: \n",
      "image\n",
      "file\n",
      "cview\n",
      "graphics\n",
      "data\n",
      "use\n",
      "just\n",
      "images\n",
      "======================================================================\n",
      "document :  8\n",
      "topics found in the document are :: \n",
      "jesus\n",
      "objective\n",
      "christ\n",
      "christian\n",
      "software\n",
      "christians\n",
      "bible\n",
      "did\n",
      "======================================================================\n"
     ]
    }
   ],
   "source": [
    "print_topics(Vh,vocab,no_of_words,no_of_topics)"
   ]
  },
  {
   "cell_type": "markdown",
   "metadata": {
    "colab_type": "text",
    "id": "pGPX7oNk6JcT"
   },
   "source": [
    "**Using Sklearn decomposition**\n",
    "- Sklearn implements an improved version of SVD which is truncated svd"
   ]
  },
  {
   "cell_type": "code",
   "execution_count": 0,
   "metadata": {
    "colab": {},
    "colab_type": "code",
    "id": "-SOfGO9y6JcU"
   },
   "outputs": [],
   "source": [
    "from sklearn.decomposition import TruncatedSVD"
   ]
  },
  {
   "cell_type": "code",
   "execution_count": 0,
   "metadata": {
    "colab": {},
    "colab_type": "code",
    "id": "GlV-FW3c6JcX",
    "outputId": "3358889f-9a15-4a35-8fbb-8250f1d2874c"
   },
   "outputs": [
    {
     "data": {
      "text/plain": [
       "TruncatedSVD(algorithm='randomized', n_components=200, n_iter=10,\n",
       "             random_state=None, tol=0.0)"
      ]
     },
     "execution_count": 157,
     "metadata": {
      "tags": []
     },
     "output_type": "execute_result"
    }
   ],
   "source": [
    "# get the instance\n",
    "\n",
    "truc_svd = TruncatedSVD(n_components = 200,n_iter = 10)\n",
    "\n",
    "# fit the tf-idf term document matrix\n",
    "truc_svd.fit(vectors_tfidf)"
   ]
  },
  {
   "cell_type": "code",
   "execution_count": 0,
   "metadata": {
    "colab": {},
    "colab_type": "code",
    "id": "AZOS6KXk6JcZ"
   },
   "outputs": [],
   "source": [
    "# get our Vh matrix\n",
    "\n",
    "Vh = truc_svd.components_"
   ]
  },
  {
   "cell_type": "code",
   "execution_count": 0,
   "metadata": {
    "colab": {},
    "colab_type": "code",
    "id": "1WjQibLK6Jcc",
    "outputId": "9f2039d9-f7df-4457-9640-6673da28936b"
   },
   "outputs": [
    {
     "name": "stdout",
     "output_type": "stream",
     "text": [
      "document :  0\n",
      "topics found in the document are :: \n",
      "god\n",
      "people\n",
      "don\n",
      "just\n",
      "think\n",
      "space\n",
      "know\n",
      "like\n",
      "======================================================================\n",
      "document :  1\n",
      "topics found in the document are :: \n",
      "space\n",
      "graphics\n",
      "thanks\n",
      "program\n",
      "files\n",
      "image\n",
      "nasa\n",
      "ftp\n",
      "======================================================================\n",
      "document :  2\n",
      "topics found in the document are :: \n",
      "space\n",
      "nasa\n",
      "launch\n",
      "shuttle\n",
      "moon\n",
      "orbit\n",
      "lunar\n",
      "station\n",
      "======================================================================\n",
      "document :  3\n",
      "topics found in the document are :: \n",
      "ico\n",
      "bobbe\n",
      "tek\n",
      "beauchaine\n",
      "bronx\n",
      "manhattan\n",
      "sank\n",
      "queens\n",
      "======================================================================\n",
      "document :  4\n",
      "topics found in the document are :: \n",
      "god\n",
      "jesus\n",
      "space\n",
      "bible\n",
      "satan\n",
      "atheism\n",
      "believe\n",
      "christ\n",
      "======================================================================\n",
      "document :  5\n",
      "topics found in the document are :: \n",
      "objective\n",
      "morality\n",
      "values\n",
      "moral\n",
      "god\n",
      "science\n",
      "space\n",
      "subjective\n",
      "======================================================================\n",
      "document :  6\n",
      "topics found in the document are :: \n",
      "graphics\n",
      "comp\n",
      "god\n",
      "software\n",
      "group\n",
      "objective\n",
      "aspects\n",
      "edu\n",
      "======================================================================\n",
      "document :  7\n",
      "topics found in the document are :: \n",
      "thanks\n",
      "know\n",
      "space\n",
      "does\n",
      "advance\n",
      "mail\n",
      "looking\n",
      "anybody\n",
      "======================================================================\n",
      "document :  8\n",
      "topics found in the document are :: \n",
      "atheism\n",
      "just\n",
      "files\n",
      "god\n",
      "atheists\n",
      "space\n",
      "file\n",
      "cview\n",
      "======================================================================\n"
     ]
    }
   ],
   "source": [
    "print_topics(Vh,vocab,no_of_words,no_of_topics)"
   ]
  },
  {
   "cell_type": "code",
   "execution_count": 0,
   "metadata": {
    "colab": {},
    "colab_type": "code",
    "id": "pafAPGQS6Jcf"
   },
   "outputs": [],
   "source": []
  },
  {
   "cell_type": "code",
   "execution_count": 0,
   "metadata": {
    "colab": {},
    "colab_type": "code",
    "id": "Nl8kUuWG6Jci"
   },
   "outputs": [],
   "source": []
  },
  {
   "cell_type": "code",
   "execution_count": 0,
   "metadata": {
    "colab": {},
    "colab_type": "code",
    "id": "b-4b5Ord6Jck"
   },
   "outputs": [],
   "source": []
  },
  {
   "cell_type": "code",
   "execution_count": 0,
   "metadata": {
    "colab": {},
    "colab_type": "code",
    "id": "lV4rbzeI6Jcn"
   },
   "outputs": [],
   "source": []
  },
  {
   "cell_type": "code",
   "execution_count": 0,
   "metadata": {
    "colab": {},
    "colab_type": "code",
    "id": "d5MJPlcY6Jcq"
   },
   "outputs": [],
   "source": []
  },
  {
   "cell_type": "code",
   "execution_count": 0,
   "metadata": {
    "colab": {},
    "colab_type": "code",
    "id": "GbgtfEPk6Jcs"
   },
   "outputs": [],
   "source": []
  },
  {
   "cell_type": "code",
   "execution_count": 0,
   "metadata": {
    "colab": {},
    "colab_type": "code",
    "id": "QNFnZej46Jcv"
   },
   "outputs": [],
   "source": []
  }
 ],
 "metadata": {
  "colab": {
   "include_colab_link": true,
   "name": "NLP_02_Topic_Modeling_SVD.ipynb",
   "provenance": []
  },
  "kernelspec": {
   "display_name": "Python 3",
   "language": "python",
   "name": "python3"
  },
  "language_info": {
   "codemirror_mode": {
    "name": "ipython",
    "version": 3
   },
   "file_extension": ".py",
   "mimetype": "text/x-python",
   "name": "python",
   "nbconvert_exporter": "python",
   "pygments_lexer": "ipython3",
   "version": "3.8.2"
  }
 },
 "nbformat": 4,
 "nbformat_minor": 1
}
