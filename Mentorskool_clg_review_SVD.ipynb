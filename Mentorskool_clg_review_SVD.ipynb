{
 "cells": [
  {
   "cell_type": "markdown",
   "metadata": {},
   "source": [
    "### Topic Modeling using LDA with Gensim"
   ]
  },
  {
   "cell_type": "code",
   "execution_count": 1,
   "metadata": {},
   "outputs": [],
   "source": [
    "import pandas as pd\n",
    "import numpy as np\n",
    "from tqdm import tqdm\n",
    "import matplotlib.pyplot as plt"
   ]
  },
  {
   "cell_type": "code",
   "execution_count": 73,
   "metadata": {},
   "outputs": [
    {
     "data": {
      "text/html": [
       "<div>\n",
       "<style scoped>\n",
       "    .dataframe tbody tr th:only-of-type {\n",
       "        vertical-align: middle;\n",
       "    }\n",
       "\n",
       "    .dataframe tbody tr th {\n",
       "        vertical-align: top;\n",
       "    }\n",
       "\n",
       "    .dataframe thead th {\n",
       "        text-align: right;\n",
       "    }\n",
       "</style>\n",
       "<table border=\"1\" class=\"dataframe\">\n",
       "  <thead>\n",
       "    <tr style=\"text-align: right;\">\n",
       "      <th></th>\n",
       "      <th>institute_name</th>\n",
       "      <th>review</th>\n",
       "      <th>rating</th>\n",
       "    </tr>\n",
       "  </thead>\n",
       "  <tbody>\n",
       "    <tr>\n",
       "      <th>0</th>\n",
       "      <td>A1 Global Institute of Engineering and Technol...</td>\n",
       "      <td>\\nThe college is situated at a very good locat...</td>\n",
       "      <td>3.0</td>\n",
       "    </tr>\n",
       "    <tr>\n",
       "      <th>1</th>\n",
       "      <td>AAA College of Engineering and Technology, Thi...</td>\n",
       "      <td>\\nI would love to share my experience here. As...</td>\n",
       "      <td>5.0</td>\n",
       "    </tr>\n",
       "    <tr>\n",
       "      <th>2</th>\n",
       "      <td>AAA College of Engineering and Technology, Thi...</td>\n",
       "      <td>\\nteaching is well and good\\nrelation between ...</td>\n",
       "      <td>5.0</td>\n",
       "    </tr>\n",
       "    <tr>\n",
       "      <th>3</th>\n",
       "      <td>AAA College of Engineering and Technology, Thi...</td>\n",
       "      <td>\\n* Placements are good for CS, ECE and IS\\n* ...</td>\n",
       "      <td>5.0</td>\n",
       "    </tr>\n",
       "    <tr>\n",
       "      <th>4</th>\n",
       "      <td>AAA College of Engineering and Technology, Thi...</td>\n",
       "      <td>\\nNitte is a very good college located in Sout...</td>\n",
       "      <td>3.0</td>\n",
       "    </tr>\n",
       "  </tbody>\n",
       "</table>\n",
       "</div>"
      ],
      "text/plain": [
       "                                      institute_name  \\\n",
       "0  A1 Global Institute of Engineering and Technol...   \n",
       "1  AAA College of Engineering and Technology, Thi...   \n",
       "2  AAA College of Engineering and Technology, Thi...   \n",
       "3  AAA College of Engineering and Technology, Thi...   \n",
       "4  AAA College of Engineering and Technology, Thi...   \n",
       "\n",
       "                                              review  rating  \n",
       "0  \\nThe college is situated at a very good locat...     3.0  \n",
       "1  \\nI would love to share my experience here. As...     5.0  \n",
       "2  \\nteaching is well and good\\nrelation between ...     5.0  \n",
       "3  \\n* Placements are good for CS, ECE and IS\\n* ...     5.0  \n",
       "4  \\nNitte is a very good college located in Sout...     3.0  "
      ]
     },
     "execution_count": 73,
     "metadata": {},
     "output_type": "execute_result"
    }
   ],
   "source": [
    "# getting the data\n",
    "\n",
    "data = pd.read_csv(\"./Data/data_reviews.csv\")\n",
    "\n",
    "data.head()"
   ]
  },
  {
   "cell_type": "code",
   "execution_count": 74,
   "metadata": {},
   "outputs": [
    {
     "data": {
      "text/plain": [
       "institute_name    0\n",
       "review            0\n",
       "rating            0\n",
       "dtype: int64"
      ]
     },
     "execution_count": 74,
     "metadata": {},
     "output_type": "execute_result"
    }
   ],
   "source": [
    "data.isna().sum()"
   ]
  },
  {
   "cell_type": "code",
   "execution_count": 75,
   "metadata": {},
   "outputs": [
    {
     "data": {
      "text/plain": [
       "(38679, 3)"
      ]
     },
     "execution_count": 75,
     "metadata": {},
     "output_type": "execute_result"
    }
   ],
   "source": [
    "data.shape"
   ]
  },
  {
   "cell_type": "code",
   "execution_count": 76,
   "metadata": {},
   "outputs": [
    {
     "data": {
      "image/png": "[encoded data removed]",
      "text/plain": [
       "<Figure size 432x288 with 1 Axes>"
      ]
     },
     "metadata": {
      "needs_background": "light"
     },
     "output_type": "display_data"
    }
   ],
   "source": [
    "data['rating'].plot.hist()\n",
    "plt.show()"
   ]
  },
  {
   "cell_type": "code",
   "execution_count": 77,
   "metadata": {},
   "outputs": [
    {
     "name": "stdout",
     "output_type": "stream",
     "text": [
      "<class 'pandas.core.frame.DataFrame'>\n",
      "RangeIndex: 38679 entries, 0 to 38678\n",
      "Data columns (total 3 columns):\n",
      "institute_name    38679 non-null object\n",
      "review            38679 non-null object\n",
      "rating            38679 non-null float64\n",
      "dtypes: float64(1), object(2)\n",
      "memory usage: 906.6+ KB\n"
     ]
    }
   ],
   "source": [
    "data.info()"
   ]
  },
  {
   "cell_type": "code",
   "execution_count": 78,
   "metadata": {},
   "outputs": [],
   "source": [
    "THRESHOLD = 4\n",
    "\n",
    "good_review_data = data[data['rating'] >= THRESHOLD]['review'].values # only store the text\n",
    "bad_review_data = data[data['rating'] < THRESHOLD]['review'].values # only store the text"
   ]
  },
  {
   "cell_type": "code",
   "execution_count": 79,
   "metadata": {},
   "outputs": [
    {
     "data": {
      "text/plain": [
       "((20273,), (18406,))"
      ]
     },
     "execution_count": 79,
     "metadata": {},
     "output_type": "execute_result"
    }
   ],
   "source": [
    "good_review_data.shape,bad_review_data.shape"
   ]
  },
  {
   "cell_type": "code",
   "execution_count": 80,
   "metadata": {},
   "outputs": [
    {
     "data": {
      "text/plain": [
       "('\\nI would love to share my experience here. As a fresher just out of my 12th and from a small town, I was looking for an engineering college where I can explore myself. I was looking for a platform where I can learn and grow. My search for the right institute ended with NMIT. It was the right place for me not only to learn but also to explore different avenues. I would rather say it was a launch pad for me where I can spread my wings and I had the support of my faculty and seniors to guide me well where I go wrong.\\nThe most beautiful part is the campus. Though, a little remote for the daily commuters, the calmness and serenity of the campus, away from the chaos of the city adjusts and levels the score.\\nFor someone worrying about the placements, I would like to share to say that you need to learn and explore, participate in different cultural and extracurricular activities in the campus and the rest is assured.\\n\\n',\n",
       " '\\nThe college is situated at a very good location and the environment here in shimoga is at its best. If you want to pass your four years of engineering with a very nice and moderate climate then you can take admission here. The infrastructure is the only thing which attracts the most. In studies there are lecturers who supports you a lot but only drawback is its placement. It has average placement with very few companies coming for core branch.\\n\\n')"
      ]
     },
     "execution_count": 80,
     "metadata": {},
     "output_type": "execute_result"
    }
   ],
   "source": [
    "good_review_data[0],bad_review_data[0]"
   ]
  },
  {
   "cell_type": "code",
   "execution_count": 81,
   "metadata": {},
   "outputs": [],
   "source": [
    "# nlp\n",
    "\n",
    "import spacy\n",
    "import nltk\n",
    "from bs4 import BeautifulSoup\n",
    "from sklearn.feature_extraction import stop_words\n",
    "from spacy.lemmatizer import Lemmatizer\n",
    "from spacy.tokenizer import Tokenizer\n",
    "from spacy.lookups import Lookups\n",
    "from nltk.tokenize import word_tokenize\n",
    "\n",
    "\n",
    "lemmatizer = Lemmatizer(Lookups())\n",
    "\n",
    "nlp = spacy.load(\"en_core_web_sm\")\n",
    "\n",
    "stop_words_sklearn = list(stop_words.ENGLISH_STOP_WORDS)\n",
    "stop_words_spacy = list(nlp.Defaults.stop_words)\n",
    "\n",
    "stop_words = list(set(stop_words_sklearn + stop_words_spacy)) # all the stop words"
   ]
  },
  {
   "cell_type": "code",
   "execution_count": 82,
   "metadata": {},
   "outputs": [
    {
     "data": {
      "text/plain": [
       "(318, 326)"
      ]
     },
     "execution_count": 82,
     "metadata": {},
     "output_type": "execute_result"
    }
   ],
   "source": [
    "len(stop_words_sklearn),len(stop_words_spacy)"
   ]
  },
  {
   "cell_type": "code",
   "execution_count": 83,
   "metadata": {},
   "outputs": [
    {
     "data": {
      "text/plain": [
       "['above', 'have', 'anyhow', 'did', 'whatever', '’re', 'nine', 'whose', 'eg']"
      ]
     },
     "execution_count": 83,
     "metadata": {},
     "output_type": "execute_result"
    }
   ],
   "source": [
    "stop_words[1:10]"
   ]
  },
  {
   "cell_type": "code",
   "execution_count": 84,
   "metadata": {},
   "outputs": [
    {
     "data": {
      "text/plain": [
       "['This', 'is', 'a', 'sentence']"
      ]
     },
     "execution_count": 84,
     "metadata": {},
     "output_type": "execute_result"
    }
   ],
   "source": [
    "word_tokenize(\"This is a sentence\")"
   ]
  },
  {
   "cell_type": "code",
   "execution_count": 85,
   "metadata": {},
   "outputs": [],
   "source": [
    "# pre-process pipeline\n",
    "\n",
    "def remove_extra_spaces(review):\n",
    "    return review.strip()\n",
    "\n",
    "\n",
    "def remove_html_content(review):\n",
    "    \"\"\"\n",
    "    remove html content if any using bs4\n",
    "    \"\"\"\n",
    "    return BeautifulSoup(review).get_text()\n",
    "\n",
    "def tokenization(review):\n",
    "    return word_tokenize(review)\n",
    "    \n",
    "\n",
    "def remove_stop_words(review):\n",
    "    return [word for word in review if not word in stop_words]\n",
    "    \n",
    "    \n",
    "def lemmatization(review):\n",
    "    return [lemmatizer.lookup(word) for word in review] \n",
    "\n",
    "\n",
    "def transform(reviews):\n",
    "    \"\"\"\n",
    "    the transform fn that will apply all the transforms\n",
    "    \"\"\"\n",
    "    transformed_reviews = []\n",
    "    \n",
    "    for review in tqdm(reviews,total = reviews.shape[0]):\n",
    "        if len(review) != 0:\n",
    "            review  = review.lower()\n",
    "            review = remove_extra_spaces(review)\n",
    "            review = remove_html_content(review)\n",
    "            review_tok = tokenization(review)\n",
    "            review = remove_stop_words(review_tok)\n",
    "            review_lem = lemmatization(review)\n",
    "            \n",
    "            transformed_reviews.append(\" \".join(review_lem))\n",
    "            \n",
    "    return np.array(transformed_reviews)       "
   ]
  },
  {
   "cell_type": "code",
   "execution_count": 86,
   "metadata": {},
   "outputs": [
    {
     "data": {
      "text/plain": [
       "array(['\\nI would love to share my experience here. As a fresher just out of my 12th and from a small town, I was looking for an engineering college where I can explore myself. I was looking for a platform where I can learn and grow. My search for the right institute ended with NMIT. It was the right place for me not only to learn but also to explore different avenues. I would rather say it was a launch pad for me where I can spread my wings and I had the support of my faculty and seniors to guide me well where I go wrong.\\nThe most beautiful part is the campus. Though, a little remote for the daily commuters, the calmness and serenity of the campus, away from the chaos of the city adjusts and levels the score.\\nFor someone worrying about the placements, I would like to share to say that you need to learn and explore, participate in different cultural and extracurricular activities in the campus and the rest is assured.\\n\\n',\n",
       "       \"\\nteaching is well and good\\nrelation between teacher and student is friendly\\nmonthly industrial visit it's well experience for students college campus is very good.....................\\ngood faculty..........\\nall is well.\\n.......................\\n.\\n.\\n.\\n.\\n\\n\"],\n",
       "      dtype=object)"
      ]
     },
     "execution_count": 86,
     "metadata": {},
     "output_type": "execute_result"
    }
   ],
   "source": [
    "sample = good_review_data[:2]\n",
    "\n",
    "sample"
   ]
  },
  {
   "cell_type": "code",
   "execution_count": 87,
   "metadata": {},
   "outputs": [
    {
     "name": "stderr",
     "output_type": "stream",
     "text": [
      "100%|███████████████████████████████████████████████████████████████████████████████████████████████████| 2/2 [00:00<00:00, 499.89it/s]\n"
     ]
    }
   ],
   "source": [
    "sample_trasformed = transform(sample)"
   ]
  },
  {
   "cell_type": "code",
   "execution_count": 88,
   "metadata": {},
   "outputs": [
    {
     "data": {
      "text/plain": [
       "array(['love share experience . fresher 12th small town , looking engineering college explore . looking platform learn grow . search right institute ended nmit . right place learn explore different avenues . launch pad spread wings support faculty seniors guide wrong . beautiful campus . , little remote daily commuters , calmness serenity campus , away chaos city adjusts levels score . worrying placements , like share need learn explore , participate different cultural extracurricular activities campus rest assured .',\n",
       "       'teaching good relation teacher student friendly monthly industrial visit experience students college campus good ... ... ... ... ... ... ... good faculty ... ... ... . . ... ... ... ... ... ... ... .. . . . .'],\n",
       "      dtype='<U514')"
      ]
     },
     "execution_count": 88,
     "metadata": {},
     "output_type": "execute_result"
    }
   ],
   "source": [
    "sample_trasformed"
   ]
  },
  {
   "cell_type": "code",
   "execution_count": 89,
   "metadata": {},
   "outputs": [
    {
     "name": "stderr",
     "output_type": "stream",
     "text": [
      "100%|███████████████████████████████████████████████████████████████████████████████████████████| 20273/20273 [00:23<00:00, 867.54it/s]\n",
      "100%|██████████████████████████████████████████████████████████████████████████████████████████| 18406/18406 [00:18<00:00, 1005.13it/s]\n"
     ]
    }
   ],
   "source": [
    "good_reviews_transformed = transform(good_review_data)\n",
    "bad_reviews_transformed = transform(bad_review_data)"
   ]
  },
  {
   "cell_type": "code",
   "execution_count": 94,
   "metadata": {},
   "outputs": [],
   "source": [
    "# reviews_transformed.shape"
   ]
  },
  {
   "cell_type": "code",
   "execution_count": 95,
   "metadata": {},
   "outputs": [],
   "source": [
    "# vectorization\n",
    "\n",
    "from sklearn.feature_extraction.text import TfidfVectorizer"
   ]
  },
  {
   "cell_type": "code",
   "execution_count": 96,
   "metadata": {},
   "outputs": [],
   "source": [
    "good_vectorizer = TfidfVectorizer(stop_words = \"english\")\n",
    "bad_vectorizer = TfidfVectorizer(stop_words = \"english\")\n",
    "\n",
    "good_vectors = good_vectorizer.fit_transform(good_reviews_transformed).todense()\n",
    "bad_vectors = bad_vectorizer.fit_transform(bad_reviews_transformed).todense()"
   ]
  },
  {
   "cell_type": "code",
   "execution_count": 97,
   "metadata": {},
   "outputs": [
    {
     "data": {
      "text/plain": [
       "((20273, 23407), (18406, 20631))"
      ]
     },
     "execution_count": 97,
     "metadata": {},
     "output_type": "execute_result"
    }
   ],
   "source": [
    "good_vectors.shape,bad_vectors.shape"
   ]
  },
  {
   "cell_type": "code",
   "execution_count": 98,
   "metadata": {},
   "outputs": [],
   "source": [
    "# use SVD of sklearn\n",
    "\n",
    "from sklearn.decomposition import TruncatedSVD"
   ]
  },
  {
   "cell_type": "code",
   "execution_count": 99,
   "metadata": {},
   "outputs": [],
   "source": [
    "svd_good = TruncatedSVD(n_components = 100)\n",
    "\n",
    "svd_bad = TruncatedSVD(n_components = 100)"
   ]
  },
  {
   "cell_type": "code",
   "execution_count": 100,
   "metadata": {},
   "outputs": [
    {
     "data": {
      "text/plain": [
       "TruncatedSVD(algorithm='randomized', n_components=100, n_iter=5,\n",
       "             random_state=None, tol=0.0)"
      ]
     },
     "execution_count": 100,
     "metadata": {},
     "output_type": "execute_result"
    }
   ],
   "source": [
    "svd_good.fit(good_vectors)\n",
    "svd_bad.fit(bad_vectors)"
   ]
  },
  {
   "cell_type": "code",
   "execution_count": 102,
   "metadata": {},
   "outputs": [],
   "source": [
    "good_vocab = np.array(good_vectorizer.get_feature_names())\n",
    "bad_vocab = np.array(bad_vectorizer.get_feature_names())\n",
    "\n",
    "num_top_words=8\n",
    "\n",
    "def show_topics(a):\n",
    "    top_words = lambda t: [vocab[i] for i in np.argsort(t)[:-num_top_words-1:-1]]\n",
    "    topic_words = ([top_words(t) for t in a])\n",
    "    return [' '.join(t) for t in topic_words]"
   ]
  },
  {
   "cell_type": "code",
   "execution_count": 103,
   "metadata": {},
   "outputs": [
    {
     "data": {
      "text/plain": [
       "['brutally dwarka okok becoause fargi astudent delusional granary',\n",
       " 'duniya duniyadaari interview cho convert gold enjoymentand olympus',\n",
       " 'becoause anual ibm ppo rapport rates prety 858',\n",
       " 'dwarka kannur delegation essence becoause ibm palcement fargi',\n",
       " 'ea busy phds plenty celebrity 5mbps mistakes mugger',\n",
       " 'brutally anual civ nonfiction kalan doint astudent handwork',\n",
       " 'brutally conversion delaying lax insfrastructure installation disturbunce billiard',\n",
       " 'drowsy lay okok conversion delegation bses civ essence',\n",
       " 'bses astudent lec mamallapuram intellectual ntu josh genba',\n",
       " 'competitve jm inhence competion individial clash broadening leaening',\n",
       " 'brutally misguided alumina choclates deducts okok abandoned rapport',\n",
       " 'economist okok delegation dispite ksvu allover lacper empanicated',\n",
       " 'ppo economist granary dealing gulab peace displane rapport',\n",
       " 'ppo delegation brutally astudent economist misguided alumina deducts',\n",
       " 'delegation indori gradully befor essence granary antakshary gulab',\n",
       " 'okok ppo enlarge buster allowances pdpus allover lacper',\n",
       " 'oke dances geeting palcement kanjirappally csir lay enjpy',\n",
       " 'indori bragging abandoned nonfiction grateful delaying delta creational',\n",
       " 'indori economist delusional kanjirappally conversion enjpy buster dances',\n",
       " 'indori csir felling dispite oke delegation enjoymentand becoause',\n",
       " 'astudent indori becoause delusional abandoned okok choclates delegation',\n",
       " 'indori okok essence misguided delaying ape kanjirappally alumina',\n",
       " 'astudent gradully delta conversion dispite boring enjpy awesomest',\n",
       " 'kanjirappally indori decisive failing depatment abandoned delta bragging',\n",
       " 'delusional oke felling granary pdpus rapport abbas hm',\n",
       " 'kanjirappally delta oke economist delegation grateful misguided granary',\n",
       " 'athe economist ape kannur bses buster fargi delaying',\n",
       " 'dances becoause ghats hm dealings creational dispite enlarge',\n",
       " 'essence indori lay felling conversion enjpy kannur gulabchand',\n",
       " 'kanjirappally nsdc palcement felling ape becoause okok bhaskaracharya',\n",
       " 'oke partys grateful palakad delaying athe felling befor',\n",
       " 'grateful delusional hm ghats displane attractively cam lay',\n",
       " 'index lay kanjirappally csir kandoli enlarge mongers peace',\n",
       " 'bragging granary felling dances okok ape gradully fargi',\n",
       " 'granary bragging gradully ghats delaying raigad natraj palcement',\n",
       " 'bragging delaying delusional ends oke rapport delta dealings',\n",
       " 'creational becoause bses dances peace delaying bragging kandoli',\n",
       " 'bragging oldest raigad csir creational granary gomti amzing',\n",
       " 'dealing antakshary gulab ireally details establishing rapport csir',\n",
       " 'dances olympus dealing partys laxman bses delaying ghats',\n",
       " 'dances kandoli kannur grateful booming gulab index raigad',\n",
       " 'dances oke buster ireally depatment kannur lay checkup',\n",
       " 'lay grateful natraj geeting enjoymentand antakshary beliefs dealing',\n",
       " 'ape rapport ghats dances lay olympus experienceing introducad',\n",
       " 'bragging palakad lay csir creational abandoned index kanjirappally',\n",
       " 'gulab dances dilshad bragging economist nsdc enjoymentand punishable',\n",
       " 'gulab ape grateful athe csir index delaying olympus',\n",
       " 'dealing index permanant ends gies nonfiction culinary felling',\n",
       " 'athe delegation antakshary geeting delusional conversion dealing index',\n",
       " 'ghats gulab permanant kandoli conversion attractively cam oldest',\n",
       " 'kandoli csir brochure ape buster lax dances gies',\n",
       " 'gulab palcement olympus nsdc dealing kanjirappally ends kandoli',\n",
       " 'abandoned delaying gradully organisations enlarge facylty rapport checkup',\n",
       " 'palakad okok index ghats partys cuurentyl peace detection',\n",
       " 'olympus enlarge permanant raigad athe hm lax jumps',\n",
       " 'brochure advancing gulab lay geeting granary okok attractively',\n",
       " 'geeting kjs olympus antakshary oke brochure lax djs',\n",
       " 'advancing dealing fargi bragging csir enlarge organisations lax',\n",
       " 'ape antakshary kandoli advancing kannur brochure nonfiction oke',\n",
       " 'commeettes gulabchand csir geeting dealings laxman abandoned ape',\n",
       " 'dealings palakad grateful failing decisive nsdc ireally granary',\n",
       " 'dealing panimalar enjoymentand gulabchand enlarge lak rashtrapati cuurentyl',\n",
       " 'brochure ends laxman civ partys legit beliefs gulab',\n",
       " 'permanant gies athe csir ends displane nonfiction kannur',\n",
       " 'brochure kannur natraj permanant nsdc enlarge commeettes palcement',\n",
       " 'brochure csir attractively bragging gulabchand rapport essence athe',\n",
       " 'jumps facing palcement raised experienceing ghats buster index',\n",
       " 'amzing advancing enjoymentand panimalar athe dispite palcement checkup',\n",
       " 'ireally brochure gulabchand gradully collges dealings index kandoli',\n",
       " 'ends olympus palakad amzing decisive gulabchand layatharangam panimalar',\n",
       " 'brochure ghats facing commeettes enjoymentand beliefs dealing athe',\n",
       " 'permanant beliefs gradully essence kannur pianist olympus punishable',\n",
       " 'advancing csir enjoymentand brochure panimalar anual forese internationalism',\n",
       " 'rapport permanant dealings natraj oldest booming ghats palwal',\n",
       " 'ends essence commeettes displane experienceing lak dealings attractively',\n",
       " 'ireally ends organisations enjoymentand olympus forese entertaining ghats',\n",
       " 'ends organisations lax pianist dealings advancing palakad johnson',\n",
       " 'permanant nsdc geeting bses athe cuurentyl hm equipements',\n",
       " 'permanant panimalar anual palcement punishable oldest brochure csir',\n",
       " 'dealings creational borne dispite forese nonfiction details dsce',\n",
       " 'gulabchand beliefs lak purvanchal jumps displane antakshary athe',\n",
       " 'ireally athe pianist pdpus establishing olympus advancing cam',\n",
       " 'gulabchand gold ea culinary lh jone dsce antakshary',\n",
       " 'failing jumps entertaining rashtrapati gold civ dilshad diving',\n",
       " 'harmony rashtrapati designation gulabchand dealings johnson anual cam',\n",
       " 'punishable panimalar oldest lax dsce internet johnson cam',\n",
       " 'dsce collges canter chalta csir beliefs borne rapport',\n",
       " 'diving facylty ea panimalar bhaskaracharya pianist kannur bakwas',\n",
       " 'ea punishable oldest advancing athe pdpus palcement decisive',\n",
       " 'gomti beliefs details entertaining kannur collaborates distt organisations',\n",
       " 'natraj gulabchand pdpus bses dilshad nsdc mongers ghats',\n",
       " 'entertaining johnson natraj laxman mongers nonfiction leveraged loy',\n",
       " 'gies internationalism punishable civ dispite panimalar fargi devassy',\n",
       " 'hm ashank dealings experienceing cluttered accused desirable buster',\n",
       " 'civ purvanchal punishable gomti details palwal diving enlarge',\n",
       " 'befor cuurentyl peace beliefs badest gumti kandra canter',\n",
       " 'gold facylty punishable dealings nonfiction advancing laxman hm',\n",
       " 'harmony cuurentyl enlarge internationalism chalta ea ghats cri',\n",
       " 'lax palcement beliefs delusional pdpus peacefull cellcom punishable',\n",
       " 'gomti codejam peacefull enlarge buliding rashtrapati gold displane']"
      ]
     },
     "execution_count": 103,
     "metadata": {},
     "output_type": "execute_result"
    }
   ],
   "source": [
    "show_topics(svd_good.components_)"
   ]
  },
  {
   "cell_type": "code",
   "execution_count": 104,
   "metadata": {},
   "outputs": [
    {
     "data": {
      "text/plain": [
       "['bequeaths deeper majority edc consult ica fantestic atws',\n",
       " 'deeper edc displays grand consternate fancied auk constituency',\n",
       " 'bequeaths fantestic condion ifos neighbourhood 95 comapines map',\n",
       " '40lacs mega manzar imax easier addiction monirba majority',\n",
       " 'majority oppertunities algar iiit bequeaths ica aiesec 40lacs',\n",
       " '570 consternate longs majority compines methodologies bullies bequeaths',\n",
       " 'conflictions methodologies east andnom benefit 40lacs berkley bidadi',\n",
       " 'benefit majored iiit andnom 570 expand east ica',\n",
       " 'fantestic methodologies farmers bidadi expouser mist atws icar',\n",
       " 'narain consult expand iiit mookkannoor hardest brahm ganguly',\n",
       " 'average meh grand consternate ahmednagar carreer fantestic broadly',\n",
       " 'displays constituency anchorages 40lacs atws aiesec iiit fancied',\n",
       " 'narain majored methodologies constituency benefit majority grand bidadi',\n",
       " 'narain algar icar aiesec delve conflictions oppertunities heartbeat',\n",
       " 'grand majority anchorages consult icar andnom aiesec east',\n",
       " 'benefit grand algar atws collosal farmers majored fancied',\n",
       " 'grand ica narain delve digitalisation aiesec compines ordained',\n",
       " 'atws algar east conflictions ica khi delve condion',\n",
       " 'atws displays nutshull mega bavreges majored heartbeat commercials',\n",
       " 'grand constructs collosal consternate displays nutshull majority oppertunities',\n",
       " 'anchorages ica atws meh methodologies algar inproved club',\n",
       " 'festo bullies connections east 570 conflictions majority commercials',\n",
       " 'benefit fantestic icar majority meh infocus condiotion edc',\n",
       " 'consternate mega aiesec festo atws expand fancied makeup',\n",
       " 'aiesec collosal fantestic expand constructs majored compines manzar',\n",
       " 'anchorages compines benefit majority ifos icar buildinga longs',\n",
       " 'mega delve benefit aits festo auk digitalisation fancied',\n",
       " 'andnom mega constituency flowering digitalisation icar inertia constructs',\n",
       " 'consult fantestic benefit makeup delve aiesec flowering fried',\n",
       " 'meh constructs lubraries farmers condion elaborate mail condiotion',\n",
       " 'makeup fancied east conflictions constructs aquipments nutshull ahmednagar',\n",
       " 'majored lubraries meh andnom delve 66acres inproved flowering',\n",
       " 'farmers commercials condion expand delve meh assistancy imax',\n",
       " 'cafetaria consult aits digital atws makeup farmers manzar',\n",
       " 'consternate andnom majored gracious flowering condion milton fantestic',\n",
       " 'lubraries makeup iiit constituency icar condion affalated constructs',\n",
       " 'makeup lubraries berkley bhilwara delve andnom constituency mega',\n",
       " 'farmers mist commercials east frankly conflictions carreer consternate',\n",
       " 'makeup compression crashing heartbeat condion andnom berkley festo',\n",
       " 'ordained lubraries expand mega nutshull compines meh memebers',\n",
       " 'ordained elaborate mist commercials festo condion heartbeat algar',\n",
       " 'club inproved cafetaria majority festo flowering atws benefit',\n",
       " 'algar haldwani influencing cafetaria icar expand heartbeat nutshull',\n",
       " 'farmers algar haldwani ifos calvin infocus compines bfsi',\n",
       " 'compression club festo affalated iiit mega compines algar',\n",
       " 'commercials flowering elaborate farmers kinetic expouser infocus club',\n",
       " 'haldwani constructs maka expouser compression displays aquipments nutshull',\n",
       " 'makeup oppertunities flowering icar elaborate influencing majored festo',\n",
       " 'expouser influencing mimds compines mega andnom calvin biotechnological',\n",
       " 'oppertunities berkley delve calvin constructs affalated mimds majored',\n",
       " 'mist expand algar compression dainik condion festo ifos',\n",
       " 'compression oppertunities constituency compines maka mimds heartbeat gracious',\n",
       " 'maka elaborate digital andnom auk influencing ifos lubraries',\n",
       " 'brush dainik influencing infocus farmers fedw expouser ambitious',\n",
       " 'lubraries oppertunities cafetaria berkley ibrahimpatan easier cspit ifos',\n",
       " 'calvin berkley majored digitalisation bhilwara meh beyblade consternate',\n",
       " 'mail bca commercials collosal consult condion monginis kakinada',\n",
       " 'ibrahimpatan constructs club goosebumps makeup festsconducted displays gracious',\n",
       " 'aits affalated mist condion gore oppertunities longs auk',\n",
       " 'goosebumps mist haldwani displays berkley collosal heartbeat longs',\n",
       " 'opened flowering collosal ahmednagar berkley inertia fantestic dearest',\n",
       " 'opened iiit aits goosebumps calvin ahmednagar aon constructs',\n",
       " 'iiit commercials goosebumps brush expand longs imax fantestic',\n",
       " 'influencing opened monginis auk gracious kakinada csr elaborate',\n",
       " 'ibrahimpatan longs bhilwara commercials edc inertia dial disputes',\n",
       " 'caells calvin ordained flowering condion compression ahmednagar affalated',\n",
       " 'dial csr infocus centralname bavreges oppertunities fedw fried',\n",
       " 'expouser inertia milton longs communication makeup csr culutral',\n",
       " 'ahmednagar elaborate digital mega cafetaria milton heartbeat condion',\n",
       " 'aits bhilwara affalated csr inaugurated inertia calvin gracious',\n",
       " 'easier elaborate gracious longs haldwani goosebumps flashbacks ica',\n",
       " '66acres digitalisation affalated antaragini biotechnological kiosk infocus arrival',\n",
       " 'condiotion maka milton fewer memebers goosebumps influencing abinitio',\n",
       " 'condiotion maka calvin hostipal facinating cspit infocus centralname',\n",
       " 'goosebumps opened dspm cpwd gracious bca condion mimds',\n",
       " 'calvin goosebumps centralname influenced dial ibrahimpatan definitely ccompanies',\n",
       " 'dial calvin antaragini condion anchorages ica buildinga coorg',\n",
       " 'caells club frankly expose abinitio dainik carreer calvin',\n",
       " 'kakinada footpath displays expouser mail east berkley ifos',\n",
       " 'influencing 66acres constituency curricularlly orders ifos kinetic haldwani',\n",
       " 'footpath federation bhilwara antaragini digital bavreges iiit manzar',\n",
       " 'club goosebumps lubraries bca federation haldwani milton monginis',\n",
       " 'centralname aits heartbeat milton cspit aon dial nutshull',\n",
       " 'caells biotechnological kiosk longs milton manzar iiit coollage',\n",
       " 'haldwani facinating bavreges mimds ahmednagar influencing facitities icar',\n",
       " 'brush mimds dial influenced bfsi mail condiotion kakinada',\n",
       " 'carreer curricularlly caells haldwani influencing fj happiness exits',\n",
       " 'biotechnological infocus fried kiosk influencing bfsi andnom bhk',\n",
       " 'arrival hostipal kinetic collosal 66acres fj coollage footpath',\n",
       " 'footpath crashing geeky carreer kiosk biotechnological 40l nearly',\n",
       " 'gracious goosebumps levels deficient condiotion curricularlly crashing bavreges',\n",
       " 'footpath festsconducted csr happiness caells aon makhanlalchaturvedi deficient',\n",
       " 'arrival cosy orders coorg easier methodologies increasing nokia3310',\n",
       " 'goosebumps eq methodologies levels inustrial antaragini maka bfsi',\n",
       " 'milton antaragini biotechnological edc dial lubraries footpath bhadrak',\n",
       " 'legal csr disputes oist facitities memebers footpath easier',\n",
       " 'dynamic fried arrival communication disputes hostipal nokia3310 constituency',\n",
       " 'csr orders legal carreer cooper influenced geeky dimension',\n",
       " 'fj facinating maka cpwd increasing brush aon coorg',\n",
       " 'geeky memebers 66acres csr calvin inaugurated milton inertia']"
      ]
     },
     "execution_count": 104,
     "metadata": {},
     "output_type": "execute_result"
    }
   ],
   "source": [
    "show_topics(svd_bad.components_)"
   ]
  },
  {
   "cell_type": "code",
   "execution_count": null,
   "metadata": {},
   "outputs": [],
   "source": []
  },
  {
   "cell_type": "code",
   "execution_count": null,
   "metadata": {},
   "outputs": [],
   "source": []
  }
 ],
 "metadata": {
  "kernelspec": {
   "display_name": "Python 3.7.5 64-bit ('pytorch_env': conda)",
   "language": "python",
   "name": "python37564bitpytorchenvconda1a599ba2df0f415ab16aa82c434e76bb"
  },
  "language_info": {
   "codemirror_mode": {
    "name": "ipython",
    "version": 3
   },
   "file_extension": ".py",
   "mimetype": "text/x-python",
   "name": "python",
   "nbconvert_exporter": "python",
   "pygments_lexer": "ipython3",
   "version": "3.7.5"
  }
 },
 "nbformat": 4,
 "nbformat_minor": 4
}
