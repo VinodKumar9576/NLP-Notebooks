{
 "cells": [
  {
   "cell_type": "markdown",
   "metadata": {},
   "source": [
    "## Notebook Outline\n",
    "* **Data transform and storage**  I have taken data directly from the original source. All the data is present as a txt file. We will run a pre-process procedure to clean a data little bit and store it in more usable format later i.e in a `csv` file.\n",
    "* **Data cleaning** Since we have text data in hand, we are going to apply standard cleaning pipelines using various nlp tools available. \n",
    "\n",
    "\n",
    "\n",
    "DataSource <a href = \"http://ai.stanford.edu/~amaas/data/sentiment/\">here</a>\n"
   ]
  },
  {
   "cell_type": "code",
   "execution_count": 159,
   "metadata": {
    "ExecuteTime": {
     "end_time": "2020-05-24T08:56:07.846964Z",
     "start_time": "2020-05-24T08:56:07.843965Z"
    }
   },
   "outputs": [],
   "source": [
    "import pandas as pd\n",
    "import numpy as np\n",
    "from tqdm.notebook import tqdm\n",
    "import os\n",
    "import warnings\n",
    "warnings.filterwarnings(\"ignore\")"
   ]
  },
  {
   "cell_type": "code",
   "execution_count": 160,
   "metadata": {
    "ExecuteTime": {
     "end_time": "2020-05-24T08:55:42.047898Z",
     "start_time": "2020-05-24T08:55:42.043899Z"
    }
   },
   "outputs": [],
   "source": [
    "data_source_path = \"./IMDB_raw_movie_review_data/\""
   ]
  },
  {
   "cell_type": "code",
   "execution_count": 161,
   "metadata": {
    "ExecuteTime": {
     "end_time": "2020-05-24T08:56:24.347734Z",
     "start_time": "2020-05-24T08:56:24.339733Z"
    }
   },
   "outputs": [
    {
     "data": {
      "text/plain": [
       "['cleaned_imdb_reviews.csv',\n",
       " 'imdb.vocab',\n",
       " 'imdbEr.txt',\n",
       " 'README',\n",
       " 'test',\n",
       " 'train',\n",
       " 'transformed_data_reviews.csv']"
      ]
     },
     "execution_count": 161,
     "metadata": {},
     "output_type": "execute_result"
    }
   ],
   "source": [
    "os.listdir(data_source_path)"
   ]
  },
  {
   "cell_type": "code",
   "execution_count": 162,
   "metadata": {},
   "outputs": [
    {
     "data": {
      "text/plain": [
       "['labeledBow.feat',\n",
       " 'neg',\n",
       " 'pos',\n",
       " 'unsup',\n",
       " 'unsupBow.feat',\n",
       " 'urls_neg.txt',\n",
       " 'urls_pos.txt',\n",
       " 'urls_unsup.txt']"
      ]
     },
     "execution_count": 162,
     "metadata": {},
     "output_type": "execute_result"
    }
   ],
   "source": [
    "os.listdir(data_source_path+\"/train\")"
   ]
  },
  {
   "cell_type": "code",
   "execution_count": 163,
   "metadata": {},
   "outputs": [
    {
     "data": {
      "text/plain": [
       "['labeledBow.feat', 'neg', 'pos', 'urls_neg.txt', 'urls_pos.txt']"
      ]
     },
     "execution_count": 163,
     "metadata": {},
     "output_type": "execute_result"
    }
   ],
   "source": [
    " os.listdir(data_source_path+\"/test\")"
   ]
  },
  {
   "cell_type": "code",
   "execution_count": 164,
   "metadata": {},
   "outputs": [
    {
     "data": {
      "text/plain": [
       "['0_3.txt',\n",
       " '10000_4.txt',\n",
       " '10001_4.txt',\n",
       " '10002_1.txt',\n",
       " '10003_1.txt',\n",
       " '10004_3.txt',\n",
       " '10005_3.txt',\n",
       " '10006_4.txt',\n",
       " '10007_1.txt',\n",
       " '10008_2.txt']"
      ]
     },
     "execution_count": 164,
     "metadata": {},
     "output_type": "execute_result"
    }
   ],
   "source": [
    "os.listdir(data_source_path+\"/train/neg\")[:10]"
   ]
  },
  {
   "cell_type": "code",
   "execution_count": 165,
   "metadata": {},
   "outputs": [
    {
     "data": {
      "text/plain": [
       "['0_2.txt',\n",
       " '10000_4.txt',\n",
       " '10001_1.txt',\n",
       " '10002_3.txt',\n",
       " '10003_3.txt',\n",
       " '10004_2.txt',\n",
       " '10005_2.txt',\n",
       " '10006_2.txt',\n",
       " '10007_4.txt',\n",
       " '10008_4.txt']"
      ]
     },
     "execution_count": 165,
     "metadata": {},
     "output_type": "execute_result"
    }
   ],
   "source": [
    "os.listdir(data_source_path+\"/test/neg\")[:10]"
   ]
  },
  {
   "cell_type": "markdown",
   "metadata": {},
   "source": [
    "* As we can see data is divided into `test` and `train` folders. And the `labels` are represented as folders i.e `pos` and `neg` here.\n",
    "* each review is represented as `/train/neg/0_3.txt` i.e id for this review is `0`, star rating for that review on a 1-10 scale is `3` and the label for this review is `neg` and the data belongs to `train-set`"
   ]
  },
  {
   "cell_type": "markdown",
   "metadata": {
    "heading_collapsed": true
   },
   "source": [
    "### Data transformation"
   ]
  },
  {
   "cell_type": "code",
   "execution_count": 166,
   "metadata": {
    "hidden": true
   },
   "outputs": [],
   "source": [
    "sets = ['train','test']\n",
    "labels = ['pos','neg']\n",
    "\n",
    "labels_dict = dict(pos = 0,neg = 1)"
   ]
  },
  {
   "cell_type": "code",
   "execution_count": 167,
   "metadata": {
    "hidden": true
   },
   "outputs": [],
   "source": [
    "def transform_data(base_data_source_path):\n",
    "    \"\"\"\n",
    "    This function will read each review and it's corresponding label and other useful info one by one.\n",
    "    Will perform a small clean-up step i.e strip operation to get rid of extra spaced and store the review\n",
    "    and it's information in a dataFrame row.\n",
    "    At the end it will return the populated dataFrame\n",
    "    \n",
    "    parameters :\n",
    "    base_data_source_path - base path where the dataset is present in raw form\n",
    "    \n",
    "    returns :\n",
    "    a dataFrame populated with reviews and some meta-data\n",
    "    \"\"\"\n",
    "    \n",
    "    df_columns = ['id','text','rating','label']\n",
    "    \n",
    "    rows = []\n",
    "    \n",
    "    for set_ in tqdm(sets,total = len(sets),unit = \"set \"):\n",
    "        \n",
    "        for label in labels:\n",
    "            current_path = base_data_source_path+f\"{set_}/{label}\"\n",
    "            files = os.listdir(current_path)\n",
    "            for f in tqdm(files,total = len(files),unit = \"review \",leave = False):\n",
    "                file_name_tokens = f.split(\".\")[0].split(\"_\")\n",
    "                \n",
    "                review_id = file_name_tokens[0]\n",
    "                \n",
    "                review_rating = file_name_tokens[1]\n",
    "                \n",
    "                review_data = None\n",
    "                \n",
    "                with open(current_path+f\"/{f}\",\"r\", encoding=\"utf8\") as Fp:\n",
    "                    review_data = Fp.read()\n",
    "                \n",
    "                review_data = review_data.strip()\n",
    "                \n",
    "                rows.append((review_id,review_data,review_rating,label))\n",
    "        \n",
    "    return pd.DataFrame(columns = df_columns,data = rows)    "
   ]
  },
  {
   "cell_type": "code",
   "execution_count": 168,
   "metadata": {
    "hidden": true
   },
   "outputs": [
    {
     "data": {
      "application/vnd.jupyter.widget-view+json": {
       "model_id": "50eb3370e5b248f9b51ea01dfef1c47f",
       "version_major": 2,
       "version_minor": 0
      },
      "text/plain": [
       "HBox(children=(FloatProgress(value=0.0, max=2.0), HTML(value='')))"
      ]
     },
     "metadata": {},
     "output_type": "display_data"
    },
    {
     "data": {
      "application/vnd.jupyter.widget-view+json": {
       "model_id": "",
       "version_major": 2,
       "version_minor": 0
      },
      "text/plain": [
       "HBox(children=(FloatProgress(value=0.0, max=12500.0), HTML(value='')))"
      ]
     },
     "metadata": {},
     "output_type": "display_data"
    },
    {
     "data": {
      "application/vnd.jupyter.widget-view+json": {
       "model_id": "",
       "version_major": 2,
       "version_minor": 0
      },
      "text/plain": [
       "HBox(children=(FloatProgress(value=0.0, max=12500.0), HTML(value='')))"
      ]
     },
     "metadata": {},
     "output_type": "display_data"
    },
    {
     "data": {
      "application/vnd.jupyter.widget-view+json": {
       "model_id": "",
       "version_major": 2,
       "version_minor": 0
      },
      "text/plain": [
       "HBox(children=(FloatProgress(value=0.0, max=12500.0), HTML(value='')))"
      ]
     },
     "metadata": {},
     "output_type": "display_data"
    },
    {
     "data": {
      "application/vnd.jupyter.widget-view+json": {
       "model_id": "",
       "version_major": 2,
       "version_minor": 0
      },
      "text/plain": [
       "HBox(children=(FloatProgress(value=0.0, max=12500.0), HTML(value='')))"
      ]
     },
     "metadata": {},
     "output_type": "display_data"
    },
    {
     "name": "stdout",
     "output_type": "stream",
     "text": [
      "\n"
     ]
    }
   ],
   "source": [
    "df_reviews = transform_data(data_source_path)"
   ]
  },
  {
   "cell_type": "code",
   "execution_count": 169,
   "metadata": {
    "hidden": true
   },
   "outputs": [
    {
     "data": {
      "text/html": [
       "<div>\n",
       "<style scoped>\n",
       "    .dataframe tbody tr th:only-of-type {\n",
       "        vertical-align: middle;\n",
       "    }\n",
       "\n",
       "    .dataframe tbody tr th {\n",
       "        vertical-align: top;\n",
       "    }\n",
       "\n",
       "    .dataframe thead th {\n",
       "        text-align: right;\n",
       "    }\n",
       "</style>\n",
       "<table border=\"1\" class=\"dataframe\">\n",
       "  <thead>\n",
       "    <tr style=\"text-align: right;\">\n",
       "      <th></th>\n",
       "      <th>id</th>\n",
       "      <th>text</th>\n",
       "      <th>rating</th>\n",
       "      <th>label</th>\n",
       "    </tr>\n",
       "  </thead>\n",
       "  <tbody>\n",
       "    <tr>\n",
       "      <th>21475</th>\n",
       "      <td>6829</td>\n",
       "      <td>I've written at least a half dozen scathing re...</td>\n",
       "      <td>1</td>\n",
       "      <td>neg</td>\n",
       "    </tr>\n",
       "    <tr>\n",
       "      <th>42188</th>\n",
       "      <td>2970</td>\n",
       "      <td>42/100. Often referred as \"Tarzan with clothes...</td>\n",
       "      <td>4</td>\n",
       "      <td>neg</td>\n",
       "    </tr>\n",
       "    <tr>\n",
       "      <th>16870</th>\n",
       "      <td>2684</td>\n",
       "      <td>I've found the movie offensive for Americans w...</td>\n",
       "      <td>1</td>\n",
       "      <td>neg</td>\n",
       "    </tr>\n",
       "    <tr>\n",
       "      <th>11298</th>\n",
       "      <td>891</td>\n",
       "      <td>What can I add that the previous comments have...</td>\n",
       "      <td>10</td>\n",
       "      <td>pos</td>\n",
       "    </tr>\n",
       "    <tr>\n",
       "      <th>22235</th>\n",
       "      <td>7512</td>\n",
       "      <td>I had to walk out of the theater. After an hou...</td>\n",
       "      <td>1</td>\n",
       "      <td>neg</td>\n",
       "    </tr>\n",
       "    <tr>\n",
       "      <th>22183</th>\n",
       "      <td>7466</td>\n",
       "      <td>Wow. Some movies just leave me speechless. Thi...</td>\n",
       "      <td>1</td>\n",
       "      <td>neg</td>\n",
       "    </tr>\n",
       "    <tr>\n",
       "      <th>32622</th>\n",
       "      <td>5610</td>\n",
       "      <td>Hartley on low-key form: Martin Donovan, born ...</td>\n",
       "      <td>7</td>\n",
       "      <td>pos</td>\n",
       "    </tr>\n",
       "    <tr>\n",
       "      <th>26548</th>\n",
       "      <td>11394</td>\n",
       "      <td>What has to change in today's attitude towards...</td>\n",
       "      <td>10</td>\n",
       "      <td>pos</td>\n",
       "    </tr>\n",
       "    <tr>\n",
       "      <th>25817</th>\n",
       "      <td>10736</td>\n",
       "      <td>I think not! I mean yeah if you compare this f...</td>\n",
       "      <td>9</td>\n",
       "      <td>pos</td>\n",
       "    </tr>\n",
       "    <tr>\n",
       "      <th>48409</th>\n",
       "      <td>856</td>\n",
       "      <td>Okay, now I am pretty sure that my summary got...</td>\n",
       "      <td>3</td>\n",
       "      <td>neg</td>\n",
       "    </tr>\n",
       "    <tr>\n",
       "      <th>13341</th>\n",
       "      <td>10758</td>\n",
       "      <td>This is probably the most boring, worse and us...</td>\n",
       "      <td>1</td>\n",
       "      <td>neg</td>\n",
       "    </tr>\n",
       "    <tr>\n",
       "      <th>2732</th>\n",
       "      <td>1245</td>\n",
       "      <td>Whenever I see most reviews it's called 'a mis...</td>\n",
       "      <td>7</td>\n",
       "      <td>pos</td>\n",
       "    </tr>\n",
       "    <tr>\n",
       "      <th>36117</th>\n",
       "      <td>8757</td>\n",
       "      <td>I had been very curious to see the original si...</td>\n",
       "      <td>10</td>\n",
       "      <td>pos</td>\n",
       "    </tr>\n",
       "    <tr>\n",
       "      <th>29434</th>\n",
       "      <td>2741</td>\n",
       "      <td>If there's one cartoon that helped to put UPA ...</td>\n",
       "      <td>10</td>\n",
       "      <td>pos</td>\n",
       "    </tr>\n",
       "    <tr>\n",
       "      <th>28395</th>\n",
       "      <td>1806</td>\n",
       "      <td>Sweet, rich valley girl develops crush on a pu...</td>\n",
       "      <td>9</td>\n",
       "      <td>pos</td>\n",
       "    </tr>\n",
       "    <tr>\n",
       "      <th>7790</th>\n",
       "      <td>5762</td>\n",
       "      <td>I have to admit to enjoying bad movies. I love...</td>\n",
       "      <td>8</td>\n",
       "      <td>pos</td>\n",
       "    </tr>\n",
       "    <tr>\n",
       "      <th>44155</th>\n",
       "      <td>4740</td>\n",
       "      <td>this movie made me watch Paul W.S. Anderson's ...</td>\n",
       "      <td>1</td>\n",
       "      <td>neg</td>\n",
       "    </tr>\n",
       "    <tr>\n",
       "      <th>20450</th>\n",
       "      <td>5906</td>\n",
       "      <td>This movie was terrible. The plot sucked, the ...</td>\n",
       "      <td>1</td>\n",
       "      <td>neg</td>\n",
       "    </tr>\n",
       "    <tr>\n",
       "      <th>6165</th>\n",
       "      <td>429</td>\n",
       "      <td>It has been about 50 years since a movie has b...</td>\n",
       "      <td>10</td>\n",
       "      <td>pos</td>\n",
       "    </tr>\n",
       "    <tr>\n",
       "      <th>16924</th>\n",
       "      <td>2732</td>\n",
       "      <td>When 'My Deja Vu, My Deja Vu' aired last seaso...</td>\n",
       "      <td>1</td>\n",
       "      <td>neg</td>\n",
       "    </tr>\n",
       "  </tbody>\n",
       "</table>\n",
       "</div>"
      ],
      "text/plain": [
       "          id                                               text rating label\n",
       "21475   6829  I've written at least a half dozen scathing re...      1   neg\n",
       "42188   2970  42/100. Often referred as \"Tarzan with clothes...      4   neg\n",
       "16870   2684  I've found the movie offensive for Americans w...      1   neg\n",
       "11298    891  What can I add that the previous comments have...     10   pos\n",
       "22235   7512  I had to walk out of the theater. After an hou...      1   neg\n",
       "22183   7466  Wow. Some movies just leave me speechless. Thi...      1   neg\n",
       "32622   5610  Hartley on low-key form: Martin Donovan, born ...      7   pos\n",
       "26548  11394  What has to change in today's attitude towards...     10   pos\n",
       "25817  10736  I think not! I mean yeah if you compare this f...      9   pos\n",
       "48409    856  Okay, now I am pretty sure that my summary got...      3   neg\n",
       "13341  10758  This is probably the most boring, worse and us...      1   neg\n",
       "2732    1245  Whenever I see most reviews it's called 'a mis...      7   pos\n",
       "36117   8757  I had been very curious to see the original si...     10   pos\n",
       "29434   2741  If there's one cartoon that helped to put UPA ...     10   pos\n",
       "28395   1806  Sweet, rich valley girl develops crush on a pu...      9   pos\n",
       "7790    5762  I have to admit to enjoying bad movies. I love...      8   pos\n",
       "44155   4740  this movie made me watch Paul W.S. Anderson's ...      1   neg\n",
       "20450   5906  This movie was terrible. The plot sucked, the ...      1   neg\n",
       "6165     429  It has been about 50 years since a movie has b...     10   pos\n",
       "16924   2732  When 'My Deja Vu, My Deja Vu' aired last seaso...      1   neg"
      ]
     },
     "execution_count": 169,
     "metadata": {},
     "output_type": "execute_result"
    }
   ],
   "source": [
    "df_reviews.sample(20)"
   ]
  },
  {
   "cell_type": "code",
   "execution_count": 170,
   "metadata": {
    "hidden": true
   },
   "outputs": [
    {
     "data": {
      "text/plain": [
       "(50000, 4)"
      ]
     },
     "execution_count": 170,
     "metadata": {},
     "output_type": "execute_result"
    }
   ],
   "source": [
    "df_reviews.shape"
   ]
  },
  {
   "cell_type": "code",
   "execution_count": 171,
   "metadata": {
    "hidden": true
   },
   "outputs": [],
   "source": [
    "# save the transformed_data\n",
    "\n",
    "df_reviews.to_csv(\"./IMDB_raw_movie_review_data/transformed_data_reviews.csv\",index = False)"
   ]
  },
  {
   "cell_type": "markdown",
   "metadata": {},
   "source": [
    "### Data-cleaning"
   ]
  },
  {
   "cell_type": "code",
   "execution_count": 172,
   "metadata": {},
   "outputs": [],
   "source": [
    "# read the transformed-data\n",
    "\n",
    "df_reviews = pd.read_csv(data_source_path+\"transformed_data_reviews.csv\")"
   ]
  },
  {
   "cell_type": "code",
   "execution_count": 173,
   "metadata": {},
   "outputs": [
    {
     "data": {
      "text/html": [
       "<div>\n",
       "<style scoped>\n",
       "    .dataframe tbody tr th:only-of-type {\n",
       "        vertical-align: middle;\n",
       "    }\n",
       "\n",
       "    .dataframe tbody tr th {\n",
       "        vertical-align: top;\n",
       "    }\n",
       "\n",
       "    .dataframe thead th {\n",
       "        text-align: right;\n",
       "    }\n",
       "</style>\n",
       "<table border=\"1\" class=\"dataframe\">\n",
       "  <thead>\n",
       "    <tr style=\"text-align: right;\">\n",
       "      <th></th>\n",
       "      <th>id</th>\n",
       "      <th>text</th>\n",
       "      <th>rating</th>\n",
       "      <th>label</th>\n",
       "    </tr>\n",
       "  </thead>\n",
       "  <tbody>\n",
       "    <tr>\n",
       "      <th>0</th>\n",
       "      <td>0</td>\n",
       "      <td>Bromwell High is a cartoon comedy. It ran at t...</td>\n",
       "      <td>9</td>\n",
       "      <td>pos</td>\n",
       "    </tr>\n",
       "    <tr>\n",
       "      <th>1</th>\n",
       "      <td>10000</td>\n",
       "      <td>Homelessness (or Houselessness as George Carli...</td>\n",
       "      <td>8</td>\n",
       "      <td>pos</td>\n",
       "    </tr>\n",
       "    <tr>\n",
       "      <th>2</th>\n",
       "      <td>10001</td>\n",
       "      <td>Brilliant over-acting by Lesley Ann Warren. Be...</td>\n",
       "      <td>10</td>\n",
       "      <td>pos</td>\n",
       "    </tr>\n",
       "    <tr>\n",
       "      <th>3</th>\n",
       "      <td>10002</td>\n",
       "      <td>This is easily the most underrated film inn th...</td>\n",
       "      <td>7</td>\n",
       "      <td>pos</td>\n",
       "    </tr>\n",
       "    <tr>\n",
       "      <th>4</th>\n",
       "      <td>10003</td>\n",
       "      <td>This is not the typical Mel Brooks film. It wa...</td>\n",
       "      <td>8</td>\n",
       "      <td>pos</td>\n",
       "    </tr>\n",
       "  </tbody>\n",
       "</table>\n",
       "</div>"
      ],
      "text/plain": [
       "      id                                               text  rating label\n",
       "0      0  Bromwell High is a cartoon comedy. It ran at t...       9   pos\n",
       "1  10000  Homelessness (or Houselessness as George Carli...       8   pos\n",
       "2  10001  Brilliant over-acting by Lesley Ann Warren. Be...      10   pos\n",
       "3  10002  This is easily the most underrated film inn th...       7   pos\n",
       "4  10003  This is not the typical Mel Brooks film. It wa...       8   pos"
      ]
     },
     "execution_count": 173,
     "metadata": {},
     "output_type": "execute_result"
    }
   ],
   "source": [
    "df_reviews.head()"
   ]
  },
  {
   "cell_type": "code",
   "execution_count": 174,
   "metadata": {},
   "outputs": [],
   "source": [
    "# nlp\n",
    "\n",
    "import spacy\n",
    "import nltk\n",
    "from bs4 import BeautifulSoup\n",
    "from sklearn.feature_extraction import stop_words\n",
    "from spacy.lemmatizer import Lemmatizer\n",
    "from spacy.tokenizer import Tokenizer\n",
    "from spacy.lookups import Lookups\n",
    "from nltk.tokenize import word_tokenize\n",
    "import re\n",
    "import string\n",
    "\n",
    "lemmatizer = Lemmatizer(Lookups())\n",
    "\n",
    "nlp = spacy.load(\"en_core_web_sm\")\n",
    "\n",
    "stop_words_sklearn = list(stop_words.ENGLISH_STOP_WORDS)\n",
    "stop_words_spacy = list(nlp.Defaults.stop_words)\n",
    "\n",
    "stop_words = list(set(stop_words_sklearn + stop_words_spacy)) # all the stop words"
   ]
  },
  {
   "cell_type": "code",
   "execution_count": 175,
   "metadata": {},
   "outputs": [],
   "source": [
    "# pre-process pipeline\n",
    "\n",
    "def cleanpunc(review):\n",
    "    nopunc = [char for char in review if char not in string.punctuation]\n",
    "    nopunc = ''.join(nopunc)\n",
    "    return nopunc\n",
    "\n",
    "def remove_html_content(review):\n",
    "    \"\"\"\n",
    "    remove html content if any using bs4\n",
    "    \"\"\"\n",
    "    return BeautifulSoup(review).get_text()\n",
    "\n",
    "def tokenization(review):\n",
    "    return word_tokenize(review)\n",
    "    \n",
    "\n",
    "def remove_stop_words(review):\n",
    "    return [word for word in review if not word in stop_words]\n",
    "    \n",
    "    \n",
    "def lemmatization(review):\n",
    "    return [lemmatizer.lookup(word) for word in review] \n",
    "\n",
    "\n",
    "def clean_data(reviews):\n",
    "    \"\"\"\n",
    "    the transform fn that will apply all the transforms\n",
    "    \"\"\"\n",
    "    transformed_reviews = []\n",
    "    \n",
    "    for review in tqdm(reviews,total = reviews.shape[0],unit = \"review \"):\n",
    "        if len(review) != 0:\n",
    "            review  = review.lower()\n",
    "            review = remove_html_content(review)\n",
    "            review = cleanpunc(review)\n",
    "            review_tok = tokenization(review)\n",
    "            review = remove_stop_words(review_tok)\n",
    "            review_lem = lemmatization(review)\n",
    "            \n",
    "            transformed_reviews.append(\" \".join(review_lem))\n",
    "            \n",
    "    return np.array(transformed_reviews)       "
   ]
  },
  {
   "cell_type": "code",
   "execution_count": 176,
   "metadata": {},
   "outputs": [
    {
     "data": {
      "application/vnd.jupyter.widget-view+json": {
       "model_id": "3b660e4eb51c4b40810c1b992be124ac",
       "version_major": 2,
       "version_minor": 0
      },
      "text/plain": [
       "HBox(children=(FloatProgress(value=0.0, max=50000.0), HTML(value='')))"
      ]
     },
     "metadata": {},
     "output_type": "display_data"
    },
    {
     "name": "stdout",
     "output_type": "stream",
     "text": [
      "\n"
     ]
    }
   ],
   "source": [
    "# let's apply the above pipeline\n",
    "\n",
    "df_reviews.text = clean_data(df_reviews.text)"
   ]
  },
  {
   "cell_type": "code",
   "execution_count": 177,
   "metadata": {},
   "outputs": [
    {
     "data": {
      "text/plain": [
       "array(['bromwell high cartoon comedy ran time programs school life teachers 35 years teaching profession lead believe bromwell highs satire closer reality teachers scramble survive financially insightful students right pathetic teachers pomp pettiness situation remind schools knew students saw episode student repeatedly tried burn school immediately recalled high classic line inspector im sack teachers student welcome bromwell high expect adults age think bromwell high far fetched pity isnt',\n",
       "       'homelessness houselessness george carlin stated issue years plan help street considered human going school work vote matter people think homeless lost cause worrying things racism war iraq pressuring kids succeed technology elections inflation worrying theyll end streetsbut given bet live streets month luxuries home entertainment sets bathroom pictures wall computer treasure like homeless goddard bolts lessonmel brooks directs stars bolt plays rich man world deciding bet sissy rival jeffery tambor live streets thirty days luxuries bolt succeeds wants future project making buildings bets bolt thrown street bracelet leg monitor step sidewalk hes given nickname pepto vagrant written forehead bolt meets characters including woman molly lesley ann warren exdancer got divorce losing home pals sailor howard morris fumes teddy wilson streets theyre survivors bolt isnt hes reaching mutual agreements like rich fight flight kill killedwhile love connection molly bolt wasnt necessary plot life stinks mel brooks observant films prior comedy shows tender compared slapstick work blazing saddles young frankenstein spaceballs matter like having valuable losing day hand making stupid bet like rich people dont know money maybe homeless instead like monopoly moneyor maybe film inspire help'],\n",
       "      dtype=object)"
      ]
     },
     "execution_count": 177,
     "metadata": {},
     "output_type": "execute_result"
    }
   ],
   "source": [
    "df_reviews.text.values[:2]"
   ]
  },
  {
   "cell_type": "code",
   "execution_count": 178,
   "metadata": {},
   "outputs": [],
   "source": [
    "# save the cleaned reviews\n",
    "\n",
    "df_reviews.to_csv(data_source_path+\"cleaned_imdb_reviews.csv\",index = False)"
   ]
  },
  {
   "cell_type": "markdown",
   "metadata": {},
   "source": [
    "### Some visuals and  feature eng."
   ]
  },
  {
   "cell_type": "code",
   "execution_count": 179,
   "metadata": {},
   "outputs": [],
   "source": [
    "import matplotlib.pyplot as plt\n",
    "\n",
    "plt.style.use(\"ggplot\")"
   ]
  },
  {
   "cell_type": "code",
   "execution_count": 180,
   "metadata": {},
   "outputs": [],
   "source": [
    "# read the cleaned reviews\n",
    "\n",
    "df_reviews = pd.read_csv(data_source_path+\"cleaned_imdb_reviews.csv\")"
   ]
  },
  {
   "cell_type": "code",
   "execution_count": 181,
   "metadata": {},
   "outputs": [
    {
     "data": {
      "text/html": [
       "<div>\n",
       "<style scoped>\n",
       "    .dataframe tbody tr th:only-of-type {\n",
       "        vertical-align: middle;\n",
       "    }\n",
       "\n",
       "    .dataframe tbody tr th {\n",
       "        vertical-align: top;\n",
       "    }\n",
       "\n",
       "    .dataframe thead th {\n",
       "        text-align: right;\n",
       "    }\n",
       "</style>\n",
       "<table border=\"1\" class=\"dataframe\">\n",
       "  <thead>\n",
       "    <tr style=\"text-align: right;\">\n",
       "      <th></th>\n",
       "      <th>id</th>\n",
       "      <th>text</th>\n",
       "      <th>rating</th>\n",
       "      <th>label</th>\n",
       "    </tr>\n",
       "  </thead>\n",
       "  <tbody>\n",
       "    <tr>\n",
       "      <th>0</th>\n",
       "      <td>0</td>\n",
       "      <td>bromwell high cartoon comedy ran time programs...</td>\n",
       "      <td>9</td>\n",
       "      <td>pos</td>\n",
       "    </tr>\n",
       "    <tr>\n",
       "      <th>1</th>\n",
       "      <td>10000</td>\n",
       "      <td>homelessness houselessness george carlin state...</td>\n",
       "      <td>8</td>\n",
       "      <td>pos</td>\n",
       "    </tr>\n",
       "    <tr>\n",
       "      <th>2</th>\n",
       "      <td>10001</td>\n",
       "      <td>brilliant overacting lesley ann warren best dr...</td>\n",
       "      <td>10</td>\n",
       "      <td>pos</td>\n",
       "    </tr>\n",
       "    <tr>\n",
       "      <th>3</th>\n",
       "      <td>10002</td>\n",
       "      <td>easily underrated film inn brooks cannon sure ...</td>\n",
       "      <td>7</td>\n",
       "      <td>pos</td>\n",
       "    </tr>\n",
       "    <tr>\n",
       "      <th>4</th>\n",
       "      <td>10003</td>\n",
       "      <td>typical mel brooks film slapstick movies actua...</td>\n",
       "      <td>8</td>\n",
       "      <td>pos</td>\n",
       "    </tr>\n",
       "  </tbody>\n",
       "</table>\n",
       "</div>"
      ],
      "text/plain": [
       "      id                                               text  rating label\n",
       "0      0  bromwell high cartoon comedy ran time programs...       9   pos\n",
       "1  10000  homelessness houselessness george carlin state...       8   pos\n",
       "2  10001  brilliant overacting lesley ann warren best dr...      10   pos\n",
       "3  10002  easily underrated film inn brooks cannon sure ...       7   pos\n",
       "4  10003  typical mel brooks film slapstick movies actua...       8   pos"
      ]
     },
     "execution_count": 181,
     "metadata": {},
     "output_type": "execute_result"
    }
   ],
   "source": [
    "df_reviews.head()"
   ]
  },
  {
   "cell_type": "code",
   "execution_count": 182,
   "metadata": {},
   "outputs": [
    {
     "data": {
      "text/plain": [
       "rating\n",
       "1     10122\n",
       "2      4586\n",
       "3      4961\n",
       "4      5331\n",
       "7      4803\n",
       "8      5859\n",
       "9      4607\n",
       "10     9731\n",
       "dtype: int64"
      ]
     },
     "execution_count": 182,
     "metadata": {},
     "output_type": "execute_result"
    }
   ],
   "source": [
    "# group by on ratings\n",
    "\n",
    "df_reviews.groupby('rating').size()"
   ]
  },
  {
   "cell_type": "code",
   "execution_count": 183,
   "metadata": {},
   "outputs": [
    {
     "data": {
      "image/png": "[encoded data removed]",
      "text/plain": [
       "<Figure size 432x288 with 1 Axes>"
      ]
     },
     "metadata": {},
     "output_type": "display_data"
    }
   ],
   "source": [
    "plt.hist(df_reviews.rating)\n",
    "plt.title(\"User ratings on scale of 1-10\")\n",
    "plt.show()"
   ]
  },
  {
   "cell_type": "markdown",
   "metadata": {},
   "source": [
    "**Observation** - Most reviews are rated either 1 or 10. No review has ratings = `5` or `6`"
   ]
  },
  {
   "cell_type": "code",
   "execution_count": 184,
   "metadata": {},
   "outputs": [
    {
     "data": {
      "text/html": [
       "<div>\n",
       "<style scoped>\n",
       "    .dataframe tbody tr th:only-of-type {\n",
       "        vertical-align: middle;\n",
       "    }\n",
       "\n",
       "    .dataframe tbody tr th {\n",
       "        vertical-align: top;\n",
       "    }\n",
       "\n",
       "    .dataframe thead tr th {\n",
       "        text-align: left;\n",
       "    }\n",
       "\n",
       "    .dataframe thead tr:last-of-type th {\n",
       "        text-align: right;\n",
       "    }\n",
       "</style>\n",
       "<table border=\"1\" class=\"dataframe\">\n",
       "  <thead>\n",
       "    <tr>\n",
       "      <th></th>\n",
       "      <th colspan=\"4\" halign=\"left\">text</th>\n",
       "    </tr>\n",
       "    <tr>\n",
       "      <th></th>\n",
       "      <th>count</th>\n",
       "      <th>unique</th>\n",
       "      <th>top</th>\n",
       "      <th>freq</th>\n",
       "    </tr>\n",
       "    <tr>\n",
       "      <th>label</th>\n",
       "      <th></th>\n",
       "      <th></th>\n",
       "      <th></th>\n",
       "      <th></th>\n",
       "    </tr>\n",
       "  </thead>\n",
       "  <tbody>\n",
       "    <tr>\n",
       "      <th>neg</th>\n",
       "      <td>25000</td>\n",
       "      <td>24695</td>\n",
       "      <td>got movie free job similar movies watched low ...</td>\n",
       "      <td>3</td>\n",
       "    </tr>\n",
       "    <tr>\n",
       "      <th>pos</th>\n",
       "      <td>25000</td>\n",
       "      <td>24883</td>\n",
       "      <td>loved todays variety solely cooking great stim...</td>\n",
       "      <td>5</td>\n",
       "    </tr>\n",
       "  </tbody>\n",
       "</table>\n",
       "</div>"
      ],
      "text/plain": [
       "        text                                                               \n",
       "       count unique                                                top freq\n",
       "label                                                                      \n",
       "neg    25000  24695  got movie free job similar movies watched low ...    3\n",
       "pos    25000  24883  loved todays variety solely cooking great stim...    5"
      ]
     },
     "execution_count": 184,
     "metadata": {},
     "output_type": "execute_result"
    }
   ],
   "source": [
    "df_reviews[['text','label']].groupby(\"label\").describe()"
   ]
  },
  {
   "cell_type": "code",
   "execution_count": 185,
   "metadata": {},
   "outputs": [
    {
     "data": {
      "text/plain": [
       "pos    25000\n",
       "neg    25000\n",
       "Name: label, dtype: int64"
      ]
     },
     "execution_count": 185,
     "metadata": {},
     "output_type": "execute_result"
    }
   ],
   "source": [
    "# class distribution\n",
    "\n",
    "df_reviews['label'].value_counts()"
   ]
  },
  {
   "cell_type": "code",
   "execution_count": 186,
   "metadata": {},
   "outputs": [
    {
     "data": {
      "image/png": "[encoded data removed]",
      "text/plain": [
       "<Figure size 432x288 with 1 Axes>"
      ]
     },
     "metadata": {},
     "output_type": "display_data"
    }
   ],
   "source": [
    "plt.pie(df_reviews['label'].value_counts(),labels = ['pos','neg'])\n",
    "plt.title(\"label distribution\")\n",
    "plt.show()"
   ]
  },
  {
   "cell_type": "markdown",
   "metadata": {},
   "source": [
    "**Observation** - Perfectly balanced class labels"
   ]
  },
  {
   "cell_type": "code",
   "execution_count": 187,
   "metadata": {},
   "outputs": [],
   "source": [
    "reviews = df_reviews[['text','label']]"
   ]
  },
  {
   "cell_type": "code",
   "execution_count": 188,
   "metadata": {},
   "outputs": [
    {
     "data": {
      "text/html": [
       "<div>\n",
       "<style scoped>\n",
       "    .dataframe tbody tr th:only-of-type {\n",
       "        vertical-align: middle;\n",
       "    }\n",
       "\n",
       "    .dataframe tbody tr th {\n",
       "        vertical-align: top;\n",
       "    }\n",
       "\n",
       "    .dataframe thead th {\n",
       "        text-align: right;\n",
       "    }\n",
       "</style>\n",
       "<table border=\"1\" class=\"dataframe\">\n",
       "  <thead>\n",
       "    <tr style=\"text-align: right;\">\n",
       "      <th></th>\n",
       "      <th>text</th>\n",
       "      <th>label</th>\n",
       "    </tr>\n",
       "  </thead>\n",
       "  <tbody>\n",
       "    <tr>\n",
       "      <th>0</th>\n",
       "      <td>bromwell high cartoon comedy ran time programs...</td>\n",
       "      <td>pos</td>\n",
       "    </tr>\n",
       "    <tr>\n",
       "      <th>1</th>\n",
       "      <td>homelessness houselessness george carlin state...</td>\n",
       "      <td>pos</td>\n",
       "    </tr>\n",
       "    <tr>\n",
       "      <th>2</th>\n",
       "      <td>brilliant overacting lesley ann warren best dr...</td>\n",
       "      <td>pos</td>\n",
       "    </tr>\n",
       "    <tr>\n",
       "      <th>3</th>\n",
       "      <td>easily underrated film inn brooks cannon sure ...</td>\n",
       "      <td>pos</td>\n",
       "    </tr>\n",
       "    <tr>\n",
       "      <th>4</th>\n",
       "      <td>typical mel brooks film slapstick movies actua...</td>\n",
       "      <td>pos</td>\n",
       "    </tr>\n",
       "  </tbody>\n",
       "</table>\n",
       "</div>"
      ],
      "text/plain": [
       "                                                text label\n",
       "0  bromwell high cartoon comedy ran time programs...   pos\n",
       "1  homelessness houselessness george carlin state...   pos\n",
       "2  brilliant overacting lesley ann warren best dr...   pos\n",
       "3  easily underrated film inn brooks cannon sure ...   pos\n",
       "4  typical mel brooks film slapstick movies actua...   pos"
      ]
     },
     "execution_count": 188,
     "metadata": {},
     "output_type": "execute_result"
    }
   ],
   "source": [
    "reviews.head()"
   ]
  },
  {
   "cell_type": "code",
   "execution_count": 189,
   "metadata": {},
   "outputs": [],
   "source": [
    "# add a review length feature \n",
    "\n",
    "reviews['length'] = reviews['text'].apply(len)"
   ]
  },
  {
   "cell_type": "code",
   "execution_count": 190,
   "metadata": {},
   "outputs": [
    {
     "data": {
      "text/html": [
       "<div>\n",
       "<style scoped>\n",
       "    .dataframe tbody tr th:only-of-type {\n",
       "        vertical-align: middle;\n",
       "    }\n",
       "\n",
       "    .dataframe tbody tr th {\n",
       "        vertical-align: top;\n",
       "    }\n",
       "\n",
       "    .dataframe thead th {\n",
       "        text-align: right;\n",
       "    }\n",
       "</style>\n",
       "<table border=\"1\" class=\"dataframe\">\n",
       "  <thead>\n",
       "    <tr style=\"text-align: right;\">\n",
       "      <th></th>\n",
       "      <th>text</th>\n",
       "      <th>label</th>\n",
       "      <th>length</th>\n",
       "    </tr>\n",
       "  </thead>\n",
       "  <tbody>\n",
       "    <tr>\n",
       "      <th>0</th>\n",
       "      <td>bromwell high cartoon comedy ran time programs...</td>\n",
       "      <td>pos</td>\n",
       "      <td>487</td>\n",
       "    </tr>\n",
       "    <tr>\n",
       "      <th>1</th>\n",
       "      <td>homelessness houselessness george carlin state...</td>\n",
       "      <td>pos</td>\n",
       "      <td>1290</td>\n",
       "    </tr>\n",
       "    <tr>\n",
       "      <th>2</th>\n",
       "      <td>brilliant overacting lesley ann warren best dr...</td>\n",
       "      <td>pos</td>\n",
       "      <td>517</td>\n",
       "    </tr>\n",
       "    <tr>\n",
       "      <th>3</th>\n",
       "      <td>easily underrated film inn brooks cannon sure ...</td>\n",
       "      <td>pos</td>\n",
       "      <td>361</td>\n",
       "    </tr>\n",
       "    <tr>\n",
       "      <th>4</th>\n",
       "      <td>typical mel brooks film slapstick movies actua...</td>\n",
       "      <td>pos</td>\n",
       "      <td>307</td>\n",
       "    </tr>\n",
       "  </tbody>\n",
       "</table>\n",
       "</div>"
      ],
      "text/plain": [
       "                                                text label  length\n",
       "0  bromwell high cartoon comedy ran time programs...   pos     487\n",
       "1  homelessness houselessness george carlin state...   pos    1290\n",
       "2  brilliant overacting lesley ann warren best dr...   pos     517\n",
       "3  easily underrated film inn brooks cannon sure ...   pos     361\n",
       "4  typical mel brooks film slapstick movies actua...   pos     307"
      ]
     },
     "execution_count": 190,
     "metadata": {},
     "output_type": "execute_result"
    }
   ],
   "source": [
    "reviews.head()"
   ]
  },
  {
   "cell_type": "code",
   "execution_count": 191,
   "metadata": {},
   "outputs": [
    {
     "name": "stdout",
     "output_type": "stream",
     "text": [
      "(min,max review lenghts) -  (17, 8625)\n"
     ]
    }
   ],
   "source": [
    "print(\"(min,max review lenghts) - \",(reviews.length.min(),reviews.length.max()))"
   ]
  },
  {
   "cell_type": "code",
   "execution_count": 192,
   "metadata": {},
   "outputs": [
    {
     "data": {
      "image/png": "[encoded data removed]",
      "text/plain": [
       "<Figure size 432x288 with 1 Axes>"
      ]
     },
     "metadata": {},
     "output_type": "display_data"
    }
   ],
   "source": [
    "# plot the distributions of len\n",
    "\n",
    "plt.hist(reviews.length,bins = 50)\n",
    "plt.title(\"Distribution of review lengths\")\n",
    "plt.show()"
   ]
  },
  {
   "cell_type": "code",
   "execution_count": 193,
   "metadata": {},
   "outputs": [
    {
     "data": {
      "text/plain": [
       "count    50000.000000\n",
       "mean       748.574380\n",
       "std        586.307924\n",
       "min         17.000000\n",
       "25%        385.000000\n",
       "50%        548.000000\n",
       "75%        914.250000\n",
       "max       8625.000000\n",
       "Name: length, dtype: float64"
      ]
     },
     "execution_count": 193,
     "metadata": {},
     "output_type": "execute_result"
    }
   ],
   "source": [
    "# some information about the lengths\n",
    "\n",
    "reviews.length.describe()"
   ]
  },
  {
   "cell_type": "markdown",
   "metadata": {},
   "source": [
    "**Observation** - looks like we have a very long review i.e having length = 8677. Let's see that review"
   ]
  },
  {
   "cell_type": "code",
   "execution_count": 195,
   "metadata": {},
   "outputs": [
    {
     "data": {
      "text/plain": [
       "'match 1 tag team table match bubba ray spike dudley vs eddie guerrero chris benoit bubba ray spike dudley started things tag team table match eddie guerrero chris benoit according rules match opponents tables order win benoit guerrero heated early taking turns hammering spike bubba ray german suplex benoit bubba took wind dudley brother spike tried help brother referee restrained benoit guerrero ganged corner benoit stomping away bubba guerrero set table outside spike dashed ring somersaulted rope guerrero outside recovering taking care spike guerrero slipped table ring helped wolverine set tandem set double superplex middle rope bubba table spike knocked table right brother came crashing guerrero benoit propped table corner tried irish whip spike bubba dashed blocked brother bubba caught lifted opponents body drops bubba slammed guerrero spike stomped wolverine rope bubba held benoit bay spike soar wassup headbutt shortly benoit latched spike crossface match continued spike tapped bubba came brothers rescue managed sprawl benoit table bubba leapt middle rope benoit moved sent bubba crashing wood opponents didnt force table bubba allowed stay match man eliminated shortly spike eddie table dudley dawg ring apron outside benoit spike table moments later score seconds bubba nailed bubba bomb benoit table gave dudleys win winner bubba ray spike dudleymatch 2 cruiserweight championship jamie noble vs billy kidman billy kidman challenged jamie noble brought nidia ring cruiserweight championship noble kidman locked tumbled ring raced inside grappled kidman thwarted nobles moves noble fled outside ring nidia gave encouragement fight spread outside ring noble threw girlfriend challenger kidman tossed nidia aside taken modified arm bar noble continued attack kidmans injured arm ring kidmans injured harm hampered offense continued battle hard noble tried kidman away powerbomb challenger countered facebuster kidman went finish things shooting star press noble broke attempt kidman went shooting star press time noble rolled harms way noble flipped kidman power bomb soon got pin retain wwe cruiserweight championship winner jamie noblematch 3 european championship william regal vs jeff hardy william regal took jeff hardy attempt win european championship jeff catapulted regal rope took hurracanrana ring apron ring jeff hit whisper wind knock regal loop jeff went swanton bomb regal got knees hit jeff devastating shot jeff managed surprise regal quick rollup got pin european championship regal started bawling seeing hardy celebrate way ramp winner jeff hardymatch 4 chris jericho vs john cena chris jericho promised end john cenas career match vengeance came jericho tried teach cena lesson match began suplexing mat jericho continued knock cena ring cockiness got better rope jericho began showboat allowed cena grab superplex cena followed tiltawhirl slam taken nasty dropkick gut rookie recovered hit belly belly suplex y2j away jericho launched lionsault cena dodged jericho nailed bulldog connected lionsault cover goaded cena feet walls jericho cena ideas reversing pin attempt getting 123 jericho went berserk match winner john cenamatch 5 intercontinental championship rvd vs brock lesnar disqualification big thing mr payperview tangled intercontinental championship line brock grabbed title ref draped shoulder momentarily glaring rvd van dam s quickness gave brock fits early big man rolled ring kicked steel steps frustration brock pulled began charge paul heyman beaming ringside brock slammed rvd hard floor outside ring brock began overpower rvd throwing ease rope rvd landed painfully suffer having spine cracked steel ring steps fight returned ring brock squeezing rvd ribs rvd broke away soon leveled brock kick temple rvd followed rolling thunder brock managed kick twocount fight looked like soon rvd went fivestar frog splash brock hoisted van dam shoulder went f5 rvd whirled brock ddt followed frog splash went pin heyman pulled ref ring ref immediately called disqualification soon traded blows heyman rvd leapt brock rope threatened hit van terminator heyman grabbed rvds leg brock picked champ time connected f5 steel chair winner rvdmatch 6 booker t vs big booker t faced big oneonone withstood booker ts kicks punches slapped booker corner thrown ring booker picked chair ringside big punched bookers face booker tried game choking camera cable ringside booker smashed tv monitor spanish announcers position shows skull delivered scissors kick men table booker crawled ring big staggered moments later grabbed bookers throat met low blow kick face booker climbed rope nailed somersaulting leg drop pin winner booker tannouncement triple h entered ring thunderous ovation fans hoped learn game end competing speak eric bishoff stopped game apologize getting involved personal business triple h signed raw bischoff promised personal life come play bischoff said hes spent past years networking hollywood said looking breakout wwe superstar talking triple h bischoff guaranteed triple h signed raw hed getting opportunities coming way stephanie mcmahon stepped issue pitch said personal history triple h know said unstoppable bischoff cut begged stop stephanie cited triple h told bischoff said triple h talent charisma bischoff said young time didnt know lot experience stephanie continued bicker forth triple h stepped microphone game said easy screw triple h went shake bischoffs hand pulled away said devil knows doesnt know shawn michaels came shake things hbk said thing wanted cause trouble didnt want involved remembered pledging bring triple h nwo hbk said theres world triple h better friends hbk told friend imagine making bischoffs life living hell triple h said tempting offer turned hugged hbk making official switch raw triple h hbk left bischoff gloated victory bischoff said difference hes got testicles doesnt stephanie whacked bischoff head leftmatch 7 tag team championship match christian lance storm vs hollywood hogan edge match started loud usa chants hogan shoving christian ropes ring canadians took edge scored kick christians head planted facebuster storm tag hogan hogan began hulk soon caught christian big boot leg drop storm broke count christian tossed hogan ring storm superkicked icon edge tagged soon dropped opponents speared corner turnbuckles missed spear strom hit ref hard instead edge nailed ddt ref count test raced took hogan leveled edge boot storm tried pin edge kicked riksihi sprinted fend test allowing edge recover spear storm christian distracted ref y2j dashed clocked edge tag team championship storm rolled got pinfall win title winners new tag team champions christian lance stormmatch 8 wwe undisputed championship triple threat match rock vs kurt angle undertaker wwes successful superstars lined triple threat match undisputed championship hanging balance taker rock got face face kurt angle begging attention got attention form beat form men soon taker spilled ring rock brawled angle angle gave series suplexes took rock great countered ddt managed twocount fight continued outside ring taker coming life clotheslining angle repeatedly smacking rock taker rock got ring taker dropped rock sidewalk slam twocount rock rebounded grabbed taker throat chokeslammed angle broke pin attempt likely given rock title rock retaliated latching ankle lock kurt angle angle reversed rock bottomed peoples champion soon rock disposed angle hit peoples elbow undertaker angle tried advantage disabling great outside ring covering taker kicked count outside ring rock took big swig nearby water bottle spewed liquid takers face blind champion taker didnt stay disabled long managed overpower rock turn attention angle taker landed guillotine leg drop angle laying ring apron rock picked time break pin attempt kurt angle taker nailed rock ddt set chokeslam angle tried sneaking steel chair taker caught tomfoolery smacked hands referee got caught ensuing didnt angle knock taker silly steel chair angle went cover taker rock lay prone dead man got shoulder angle tried pin rock kicked rock got landed angle sharpshooter angle looked like tap taker kicked rock submission hold taker picked rock crashed ride dead man covered win angle raced picked taker ankle lock taker went delirious pain managed counter picked angle ride angle triangle choke looked like taker pass rock broke angles hold caught ankle lock rock got hold watched taker chokeslam angle rocky hit rock taker refused kicked angle whirled taker angle slam rock bottomed great pinned winner new wwe champion rockfinally decent ppv lately ppv werent good winner ppv'"
      ]
     },
     "execution_count": 195,
     "metadata": {},
     "output_type": "execute_result"
    }
   ],
   "source": [
    "reviews[reviews['length'] == 8625]['text'].iloc[0]"
   ]
  },
  {
   "cell_type": "markdown",
   "metadata": {},
   "source": [
    "### Modeling\n"
   ]
  },
  {
   "cell_type": "code",
   "execution_count": 196,
   "metadata": {},
   "outputs": [],
   "source": [
    "# now let's convert the text into numerical representation.\n",
    "\n",
    "from sklearn.feature_extraction.text import CountVectorizer"
   ]
  },
  {
   "cell_type": "code",
   "execution_count": 197,
   "metadata": {},
   "outputs": [],
   "source": [
    "bow_transformer = CountVectorizer().fit(reviews.text)"
   ]
  },
  {
   "cell_type": "code",
   "execution_count": 199,
   "metadata": {},
   "outputs": [
    {
     "data": {
      "text/plain": [
       "221238"
      ]
     },
     "execution_count": 199,
     "metadata": {},
     "output_type": "execute_result"
    }
   ],
   "source": [
    "len(bow_transformer.vocabulary_)"
   ]
  },
  {
   "cell_type": "code",
   "execution_count": 200,
   "metadata": {},
   "outputs": [
    {
     "data": {
      "text/plain": [
       "'typical mel brooks film slapstick movies actually plot followable leslie ann warren movie fantastic underrated actress moments fleshed bit scenes probably cut room worth price rent acting good overall brooks good job characteristic speaking directly audience warren best actor movie fume sailor played parts'"
      ]
     },
     "execution_count": 200,
     "metadata": {},
     "output_type": "execute_result"
    }
   ],
   "source": [
    "sample_message = reviews.text.iloc[4]\n",
    "sample_message"
   ]
  },
  {
   "cell_type": "code",
   "execution_count": 202,
   "metadata": {},
   "outputs": [],
   "source": [
    "sample_transformed = bow_transformer.transform([sample_message])"
   ]
  },
  {
   "cell_type": "code",
   "execution_count": 205,
   "metadata": {},
   "outputs": [
    {
     "name": "stdout",
     "output_type": "stream",
     "text": [
      "  (0, 5822)\t1\n",
      "  (0, 6217)\t1\n",
      "  (0, 6425)\t1\n",
      "  (0, 6531)\t1\n",
      "  (0, 12048)\t1\n",
      "  (0, 16465)\t1\n",
      "  (0, 22506)\t1\n",
      "  (0, 23844)\t1\n",
      "  (0, 28692)\t2\n",
      "  (0, 35264)\t1\n",
      "  (0, 47685)\t1\n",
      "  (0, 54211)\t1\n",
      "  (0, 69666)\t1\n",
      "  (0, 72027)\t1\n",
      "  (0, 74301)\t1\n",
      "  (0, 75097)\t1\n",
      "  (0, 78030)\t1\n",
      "  (0, 82868)\t2\n",
      "  (0, 104470)\t1\n",
      "  (0, 112468)\t1\n",
      "  (0, 122865)\t1\n",
      "  (0, 127029)\t1\n",
      "  (0, 129017)\t2\n",
      "  (0, 129575)\t1\n",
      "  (0, 142232)\t1\n",
      "  (0, 144714)\t1\n",
      "  (0, 149395)\t1\n",
      "  (0, 149753)\t1\n",
      "  (0, 153469)\t1\n",
      "  (0, 153836)\t1\n",
      "  (0, 161589)\t1\n",
      "  (0, 165519)\t1\n",
      "  (0, 167374)\t1\n",
      "  (0, 169332)\t1\n",
      "  (0, 178569)\t1\n",
      "  (0, 182238)\t1\n",
      "  (0, 203368)\t1\n",
      "  (0, 204653)\t1\n",
      "  (0, 211461)\t2\n",
      "  (0, 217748)\t1\n",
      "shape :  (1, 221238)\n"
     ]
    }
   ],
   "source": [
    "# a sparse matrix\n",
    "\n",
    "print(sample_transformed)\n",
    "\n",
    "print(\"shape : \",sample_transformed.shape)"
   ]
  },
  {
   "cell_type": "code",
   "execution_count": 207,
   "metadata": {},
   "outputs": [
    {
     "name": "stdout",
     "output_type": "stream",
     "text": [
      "Shape of entire transformed data :  (50000, 221238)\n",
      "Non-Zero elements :  4365356\n"
     ]
    }
   ],
   "source": [
    "# now let's transform the entire reviews\n",
    "\n",
    "reviews_transformed_bow = bow_transformer.transform(reviews.text)\n",
    "\n",
    "print(\"Shape of entire transformed data : \",reviews_transformed_bow.shape)\n",
    "\n",
    "# since it will be a sparse matrix we can count no of non-zero elements\n",
    "\n",
    "print(\"Non-Zero elements : \",reviews_transformed_bow.nnz)"
   ]
  },
  {
   "cell_type": "code",
   "execution_count": 208,
   "metadata": {},
   "outputs": [],
   "source": [
    "# Now we have transformed the text into numerical form.\n",
    "# But we can also assign a weights to each word by using Tf-Idf \n",
    "\n",
    "from sklearn.feature_extraction.text import TfidfTransformer"
   ]
  },
  {
   "cell_type": "code",
   "execution_count": 210,
   "metadata": {},
   "outputs": [],
   "source": [
    "tf_idf_transformer = TfidfTransformer().fit(reviews_transformed_bow)"
   ]
  },
  {
   "cell_type": "code",
   "execution_count": 218,
   "metadata": {},
   "outputs": [
    {
     "name": "stdout",
     "output_type": "stream",
     "text": [
      "  (0, 217748)\t0.09540094558207422\n",
      "  (0, 211461)\t0.37656471727729884\n",
      "  (0, 204653)\t0.15556757911139552\n",
      "  (0, 203368)\t0.12590501523469033\n",
      "  (0, 182238)\t0.14676835873213936\n",
      "  (0, 178569)\t0.16099404381002486\n",
      "  (0, 169332)\t0.07874105947387403\n",
      "  (0, 167374)\t0.19930806413934105\n",
      "  (0, 165519)\t0.12468049502771246\n",
      "  (0, 161589)\t0.12792560668677466\n",
      "  (0, 153836)\t0.0917520041958287\n",
      "  (0, 153469)\t0.1553923035722736\n",
      "  (0, 149753)\t0.07274147234514643\n",
      "  (0, 149395)\t0.09571654478972869\n",
      "  (0, 144714)\t0.11453226369558171\n",
      "  (0, 142232)\t0.11472993830944923\n",
      "  (0, 129575)\t0.06918975589696753\n",
      "  (0, 129017)\t0.0829982523776984\n",
      "  (0, 127029)\t0.10674294639955594\n",
      "  (0, 122865)\t0.17741901690859563\n",
      "  (0, 112468)\t0.1748164292574346\n",
      "  (0, 104470)\t0.09919484093384666\n",
      "  (0, 82868)\t0.10945238499662319\n",
      "  (0, 78030)\t0.27084597030567475\n",
      "  (0, 75097)\t0.2750744049283481\n",
      "  (0, 74301)\t0.20402200751680974\n",
      "  (0, 72027)\t0.04429582437975536\n",
      "  (0, 69666)\t0.12758537871527953\n",
      "  (0, 54211)\t0.16208703814168568\n",
      "  (0, 47685)\t0.12212317390926004\n",
      "  (0, 35264)\t0.20507043558596\n",
      "  (0, 28692)\t0.3508281357964893\n",
      "  (0, 23844)\t0.09089006432773569\n",
      "  (0, 22506)\t0.07307257169777742\n",
      "  (0, 16465)\t0.10154478124798691\n",
      "  (0, 12048)\t0.17055423397998706\n",
      "  (0, 6531)\t0.08221426825943193\n",
      "  (0, 6425)\t0.11684631121743641\n",
      "  (0, 6217)\t0.09964136788154215\n",
      "  (0, 5822)\t0.07052143391947997\n"
     ]
    }
   ],
   "source": [
    "# let's see the tf-idf transformed version of the sample we have used earlier\n",
    "sample_transformed_tfidf = tf_idf_transformer.transform(sample_transformed)\n",
    "print(sample_transformed_tfidf) # each word has now a probablity assigned to it."
   ]
  },
  {
   "cell_type": "code",
   "execution_count": 214,
   "metadata": {},
   "outputs": [],
   "source": [
    "# transform all the reviews\n",
    "\n",
    "reviews_transformed_tfidf = tf_idf_transformer.transform(reviews_transformed_bow)"
   ]
  },
  {
   "cell_type": "code",
   "execution_count": 215,
   "metadata": {},
   "outputs": [
    {
     "data": {
      "text/plain": [
       "(50000, 221238)"
      ]
     },
     "execution_count": 215,
     "metadata": {},
     "output_type": "execute_result"
    }
   ],
   "source": [
    "reviews_transformed_tfidf.shape"
   ]
  },
  {
   "cell_type": "markdown",
   "metadata": {},
   "source": [
    "Let's apply `Naive bayes classifier`"
   ]
  },
  {
   "cell_type": "code",
   "execution_count": 216,
   "metadata": {},
   "outputs": [],
   "source": [
    "from sklearn.naive_bayes import MultinomialNB"
   ]
  },
  {
   "cell_type": "markdown",
   "metadata": {},
   "source": [
    "**In case of Naive bayes**\n",
    "\n",
    "There is only one `hyper parameter` to tune i.e $\\alpha $ Which represents `Additive (Laplace/Lidstone) smoothing parameter.`\n",
    "\n",
    "* $\\alpha=0$ i.e no smoothing will lead to high variance i.e under-fitting\n",
    "* $\\alpha=large-value$ will lead to high bias i.e under fitting"
   ]
  },
  {
   "cell_type": "code",
   "execution_count": 217,
   "metadata": {},
   "outputs": [],
   "source": [
    "review_classifier = MultinomialNB().fit(reviews_transformed_tfidf,reviews.label)"
   ]
  },
  {
   "cell_type": "code",
   "execution_count": 219,
   "metadata": {},
   "outputs": [
    {
     "data": {
      "text/html": [
       "<div>\n",
       "<style scoped>\n",
       "    .dataframe tbody tr th:only-of-type {\n",
       "        vertical-align: middle;\n",
       "    }\n",
       "\n",
       "    .dataframe tbody tr th {\n",
       "        vertical-align: top;\n",
       "    }\n",
       "\n",
       "    .dataframe thead th {\n",
       "        text-align: right;\n",
       "    }\n",
       "</style>\n",
       "<table border=\"1\" class=\"dataframe\">\n",
       "  <thead>\n",
       "    <tr style=\"text-align: right;\">\n",
       "      <th></th>\n",
       "      <th>text</th>\n",
       "      <th>label</th>\n",
       "      <th>length</th>\n",
       "    </tr>\n",
       "  </thead>\n",
       "  <tbody>\n",
       "    <tr>\n",
       "      <th>4</th>\n",
       "      <td>typical mel brooks film slapstick movies actua...</td>\n",
       "      <td>pos</td>\n",
       "      <td>307</td>\n",
       "    </tr>\n",
       "  </tbody>\n",
       "</table>\n",
       "</div>"
      ],
      "text/plain": [
       "                                                text label  length\n",
       "4  typical mel brooks film slapstick movies actua...   pos     307"
      ]
     },
     "execution_count": 219,
     "metadata": {},
     "output_type": "execute_result"
    }
   ],
   "source": [
    "# let's check the classifier\n",
    "\n",
    "# data \n",
    "\n",
    "reviews[reviews.text == sample_message]"
   ]
  },
  {
   "cell_type": "code",
   "execution_count": 220,
   "metadata": {},
   "outputs": [],
   "source": [
    "# prediction from model\n",
    "\n",
    "predicted_sample = review_classifier.predict(sample_transformed_tfidf)"
   ]
  },
  {
   "cell_type": "code",
   "execution_count": 221,
   "metadata": {},
   "outputs": [
    {
     "data": {
      "text/plain": [
       "array(['pos'], dtype='<U3')"
      ]
     },
     "execution_count": 221,
     "metadata": {},
     "output_type": "execute_result"
    }
   ],
   "source": [
    "predicted_sample # same as true label"
   ]
  },
  {
   "cell_type": "markdown",
   "metadata": {},
   "source": [
    "Now we have a working model"
   ]
  },
  {
   "cell_type": "code",
   "execution_count": 222,
   "metadata": {},
   "outputs": [],
   "source": [
    "# let's predict all data points\n",
    "\n",
    "predicted_all = review_classifier.predict(reviews_transformed_tfidf)"
   ]
  },
  {
   "cell_type": "code",
   "execution_count": 223,
   "metadata": {},
   "outputs": [],
   "source": [
    "# let's look at some classification metrics\n",
    "\n",
    "from sklearn.metrics import classification_report,confusion_matrix"
   ]
  },
  {
   "cell_type": "code",
   "execution_count": 233,
   "metadata": {},
   "outputs": [],
   "source": [
    "def print_classification_report(true_labels,predicted_labels):\n",
    "    \"\"\"\n",
    "    to print classification report and confusion matrix\n",
    "    \"\"\"\n",
    "    # print classification report\n",
    "    print(\"Classification report \")\n",
    "    print(classification_report(true_labels,predicted_labels))\n",
    "\n",
    "    print(\"*\"*100)\n",
    "\n",
    "    print(\"Confusion metrics \")\n",
    "    print(pd.DataFrame(data = confusion_matrix(true_labels,predicted_labels)))"
   ]
  },
  {
   "cell_type": "code",
   "execution_count": 234,
   "metadata": {},
   "outputs": [
    {
     "name": "stdout",
     "output_type": "stream",
     "text": [
      "Classification report \n",
      "              precision    recall  f1-score   support\n",
      "\n",
      "         neg       0.91      0.92      0.92     25000\n",
      "         pos       0.92      0.91      0.92     25000\n",
      "\n",
      "    accuracy                           0.92     50000\n",
      "   macro avg       0.92      0.92      0.92     50000\n",
      "weighted avg       0.92      0.92      0.92     50000\n",
      "\n",
      "****************************************************************************************************\n",
      "Confusion metrics \n",
      "       0      1\n",
      "0  23114   1886\n",
      "1   2223  22777\n"
     ]
    }
   ],
   "source": [
    "print_classification_report(reviews.label,predicted_all)"
   ]
  },
  {
   "cell_type": "markdown",
   "metadata": {},
   "source": [
    "**Looks like we have a nice classifier but wait we did a `blunder`. We applied classification report on training data as we did not have test data**\n",
    "\n",
    "**Hence we have no idea about the true predictive power of our classifier**"
   ]
  },
  {
   "cell_type": "markdown",
   "metadata": {},
   "source": [
    "**Let's apply the model in right way** \n",
    "\n",
    "We will also use pipelines"
   ]
  },
  {
   "cell_type": "code",
   "execution_count": 235,
   "metadata": {},
   "outputs": [],
   "source": [
    "# perform test and train split\n",
    "\n",
    "from sklearn.model_selection import train_test_split\n",
    "from sklearn.pipeline import Pipeline"
   ]
  },
  {
   "cell_type": "code",
   "execution_count": 236,
   "metadata": {},
   "outputs": [],
   "source": [
    "review_train,review_test,label_train,label_test = train_test_split(reviews.text.values,reviews.label.values,\n",
    "                                                                    test_size = 0.2, stratify = reviews.label.values,\n",
    "                                                                  random_state = 0)"
   ]
  },
  {
   "cell_type": "code",
   "execution_count": 239,
   "metadata": {},
   "outputs": [
    {
     "name": "stdout",
     "output_type": "stream",
     "text": [
      "(40000,) (10000,)\n"
     ]
    }
   ],
   "source": [
    "print(review_train.shape,review_test.shape)"
   ]
  },
  {
   "cell_type": "code",
   "execution_count": 274,
   "metadata": {},
   "outputs": [],
   "source": [
    "# pipeline to perform the steps in one go\n",
    "review_pipeline = Pipeline(steps = [\n",
    "    ('bow_transform',CountVectorizer()),\n",
    "    ('tfidf_transform',TfidfTransformer()),\n",
    "    ('classifier',MultinomialNB())\n",
    "])"
   ]
  },
  {
   "cell_type": "code",
   "execution_count": 275,
   "metadata": {},
   "outputs": [
    {
     "data": {
      "text/plain": [
       "Pipeline(memory=None,\n",
       "         steps=[('bow_transform',\n",
       "                 CountVectorizer(analyzer='word', binary=False,\n",
       "                                 decode_error='strict',\n",
       "                                 dtype=<class 'numpy.int64'>, encoding='utf-8',\n",
       "                                 input='content', lowercase=True, max_df=1.0,\n",
       "                                 max_features=None, min_df=1,\n",
       "                                 ngram_range=(1, 1), preprocessor=None,\n",
       "                                 stop_words=None, strip_accents=None,\n",
       "                                 token_pattern='(?u)\\\\b\\\\w\\\\w+\\\\b',\n",
       "                                 tokenizer=None, vocabulary=None)),\n",
       "                ('tfidf_transform',\n",
       "                 TfidfTransformer(norm='l2', smooth_idf=True,\n",
       "                                  sublinear_tf=False, use_idf=True)),\n",
       "                ('classifier',\n",
       "                 MultinomialNB(alpha=1.0, class_prior=None, fit_prior=True))],\n",
       "         verbose=False)"
      ]
     },
     "execution_count": 275,
     "metadata": {},
     "output_type": "execute_result"
    }
   ],
   "source": [
    "review_pipeline.fit(review_train,label_train)"
   ]
  },
  {
   "cell_type": "code",
   "execution_count": 276,
   "metadata": {},
   "outputs": [],
   "source": [
    "predictions_test = review_pipeline.predict(review_test)"
   ]
  },
  {
   "cell_type": "code",
   "execution_count": 277,
   "metadata": {},
   "outputs": [
    {
     "name": "stdout",
     "output_type": "stream",
     "text": [
      "Classification report \n",
      "              precision    recall  f1-score   support\n",
      "\n",
      "         neg       0.86      0.87      0.86      5000\n",
      "         pos       0.87      0.85      0.86      5000\n",
      "\n",
      "    accuracy                           0.86     10000\n",
      "   macro avg       0.86      0.86      0.86     10000\n",
      "weighted avg       0.86      0.86      0.86     10000\n",
      "\n",
      "****************************************************************************************************\n",
      "Confusion metrics \n",
      "      0     1\n",
      "0  4358   642\n",
      "1   730  4270\n"
     ]
    }
   ],
   "source": [
    "# print the classification report\n",
    "\n",
    "print_classification_report(label_test,predictions_test)"
   ]
  },
  {
   "cell_type": "code",
   "execution_count": 263,
   "metadata": {},
   "outputs": [],
   "source": [
    "# let's also see what is the accuracy \n",
    "\n",
    "from sklearn.metrics import accuracy_score"
   ]
  },
  {
   "cell_type": "code",
   "execution_count": 264,
   "metadata": {},
   "outputs": [
    {
     "data": {
      "text/plain": [
       "0.8628"
      ]
     },
     "execution_count": 264,
     "metadata": {},
     "output_type": "execute_result"
    }
   ],
   "source": [
    "accuracy_score(label_test,predictions_test)"
   ]
  },
  {
   "cell_type": "markdown",
   "metadata": {},
   "source": [
    "**Looks like we have a pretty good model**\n",
    "\n",
    "**But What about cross validation and hyper-parameter search ?**\n",
    "\n",
    "\n",
    "- we can use `sklearn.model_selection.GridSearchCV` or `sklearn.model_selection.RandomizedSearchCV` to find best hyper-parameter. But how does `sklearn` do that -- By using `Cross validation`"
   ]
  },
  {
   "cell_type": "code",
   "execution_count": 265,
   "metadata": {},
   "outputs": [],
   "source": [
    "from sklearn.model_selection import GridSearchCV,RandomizedSearchCV"
   ]
  },
  {
   "cell_type": "markdown",
   "metadata": {},
   "source": [
    "In case of `GridSearchCV` we have to provide a list of possible hyper-parameters as a dictionary in case we have only one hyper-parameter to tune or a list of dictionaries. On the other hand in `RandomizedSearchCV` we have to provide a distribution from which the value of hyper-parameters will be sampled randomly."
   ]
  },
  {
   "cell_type": "code",
   "execution_count": 292,
   "metadata": {},
   "outputs": [],
   "source": [
    "from sklearn.metrics import f1_score,make_scorer"
   ]
  },
  {
   "cell_type": "code",
   "execution_count": 302,
   "metadata": {},
   "outputs": [],
   "source": [
    "# modeling using GridSearchCV\n",
    "\n",
    "f1_scorer = make_scorer(f1_score, pos_label=\"pos\")\n",
    "\n",
    "parameter_to_tune = {\"classifier__alpha\":[0.5,0.6,0.7,0.8]} # pipeline name of the our algo or estimator\n",
    "\n",
    "model_grid_search = GridSearchCV(review_pipeline,\n",
    "                                 param_grid = parameter_to_tune,\n",
    "                                 scoring = f1_scorer,cv = 3)"
   ]
  },
  {
   "cell_type": "code",
   "execution_count": 303,
   "metadata": {},
   "outputs": [
    {
     "data": {
      "text/plain": [
       "GridSearchCV(cv=3, error_score='raise-deprecating',\n",
       "             estimator=Pipeline(memory=None,\n",
       "                                steps=[('bow_transform',\n",
       "                                        CountVectorizer(analyzer='word',\n",
       "                                                        binary=False,\n",
       "                                                        decode_error='strict',\n",
       "                                                        dtype=<class 'numpy.int64'>,\n",
       "                                                        encoding='utf-8',\n",
       "                                                        input='content',\n",
       "                                                        lowercase=True,\n",
       "                                                        max_df=1.0,\n",
       "                                                        max_features=None,\n",
       "                                                        min_df=1,\n",
       "                                                        ngram_range=(1, 1),\n",
       "                                                        preprocessor=None,\n",
       "                                                        stop_words=None,\n",
       "                                                        strip_accents...\n",
       "                                        TfidfTransformer(norm='l2',\n",
       "                                                         smooth_idf=True,\n",
       "                                                         sublinear_tf=False,\n",
       "                                                         use_idf=True)),\n",
       "                                       ('classifier',\n",
       "                                        MultinomialNB(alpha=1.0,\n",
       "                                                      class_prior=None,\n",
       "                                                      fit_prior=True))],\n",
       "                                verbose=False),\n",
       "             iid='warn', n_jobs=None,\n",
       "             param_grid={'classifier__alpha': [0.5, 0.6, 0.7, 0.8]},\n",
       "             pre_dispatch='2*n_jobs', refit=True, return_train_score=False,\n",
       "             scoring=make_scorer(f1_score, pos_label=pos), verbose=0)"
      ]
     },
     "execution_count": 303,
     "metadata": {},
     "output_type": "execute_result"
    }
   ],
   "source": [
    "model_grid_search.fit(review_train,label_train)"
   ]
  },
  {
   "cell_type": "code",
   "execution_count": 305,
   "metadata": {},
   "outputs": [
    {
     "data": {
      "text/plain": [
       "Pipeline(memory=None,\n",
       "         steps=[('bow_transform',\n",
       "                 CountVectorizer(analyzer='word', binary=False,\n",
       "                                 decode_error='strict',\n",
       "                                 dtype=<class 'numpy.int64'>, encoding='utf-8',\n",
       "                                 input='content', lowercase=True, max_df=1.0,\n",
       "                                 max_features=None, min_df=1,\n",
       "                                 ngram_range=(1, 1), preprocessor=None,\n",
       "                                 stop_words=None, strip_accents=None,\n",
       "                                 token_pattern='(?u)\\\\b\\\\w\\\\w+\\\\b',\n",
       "                                 tokenizer=None, vocabulary=None)),\n",
       "                ('tfidf_transform',\n",
       "                 TfidfTransformer(norm='l2', smooth_idf=True,\n",
       "                                  sublinear_tf=False, use_idf=True)),\n",
       "                ('classifier',\n",
       "                 MultinomialNB(alpha=0.7, class_prior=None, fit_prior=True))],\n",
       "         verbose=False)"
      ]
     },
     "execution_count": 305,
     "metadata": {},
     "output_type": "execute_result"
    }
   ],
   "source": [
    "model_grid_search.best_estimator_"
   ]
  },
  {
   "cell_type": "code",
   "execution_count": 306,
   "metadata": {},
   "outputs": [
    {
     "data": {
      "text/plain": [
       "0.8614950065570464"
      ]
     },
     "execution_count": 306,
     "metadata": {},
     "output_type": "execute_result"
    }
   ],
   "source": [
    "# let's check model score on test data\n",
    "\n",
    "model_grid_search.score(review_test,label_test)"
   ]
  },
  {
   "cell_type": "code",
   "execution_count": 307,
   "metadata": {},
   "outputs": [],
   "source": [
    "predicted_test_gridsearch = model_grid_search.predict(review_test)"
   ]
  },
  {
   "cell_type": "code",
   "execution_count": 308,
   "metadata": {},
   "outputs": [
    {
     "name": "stdout",
     "output_type": "stream",
     "text": [
      "Classification report \n",
      "              precision    recall  f1-score   support\n",
      "\n",
      "         neg       0.86      0.87      0.86      5000\n",
      "         pos       0.87      0.85      0.86      5000\n",
      "\n",
      "    accuracy                           0.86     10000\n",
      "   macro avg       0.86      0.86      0.86     10000\n",
      "weighted avg       0.86      0.86      0.86     10000\n",
      "\n",
      "****************************************************************************************************\n",
      "Confusion metrics \n",
      "      0     1\n",
      "0  4357   643\n",
      "1   730  4270\n"
     ]
    }
   ],
   "source": [
    "print_classification_report(label_test,predicted_test_gridsearch)"
   ]
  },
  {
   "cell_type": "code",
   "execution_count": 323,
   "metadata": {},
   "outputs": [],
   "source": [
    "# modeling using randomizedSearchCV\n",
    "\n",
    "from scipy.stats import uniform\n",
    "\n",
    "\n",
    "distributions = dict(classifier__alpha=uniform(loc=0, scale=4))\n",
    "\n",
    "\n",
    "model_randSearch = RandomizedSearchCV(review_pipeline,distributions,\n",
    "                                 scoring = f1_scorer,cv = 3)"
   ]
  },
  {
   "cell_type": "code",
   "execution_count": 324,
   "metadata": {},
   "outputs": [
    {
     "data": {
      "text/plain": [
       "RandomizedSearchCV(cv=3, error_score='raise-deprecating',\n",
       "                   estimator=Pipeline(memory=None,\n",
       "                                      steps=[('bow_transform',\n",
       "                                              CountVectorizer(analyzer='word',\n",
       "                                                              binary=False,\n",
       "                                                              decode_error='strict',\n",
       "                                                              dtype=<class 'numpy.int64'>,\n",
       "                                                              encoding='utf-8',\n",
       "                                                              input='content',\n",
       "                                                              lowercase=True,\n",
       "                                                              max_df=1.0,\n",
       "                                                              max_features=None,\n",
       "                                                              min_df=1,\n",
       "                                                              ngram_range=(1,\n",
       "                                                                           1),\n",
       "                                                              preprocessor=None,\n",
       "                                                              stop_words=None,\n",
       "                                                              strip_a...\n",
       "                                              MultinomialNB(alpha=1.0,\n",
       "                                                            class_prior=None,\n",
       "                                                            fit_prior=True))],\n",
       "                                      verbose=False),\n",
       "                   iid='warn', n_iter=10, n_jobs=None,\n",
       "                   param_distributions={'classifier__alpha': <scipy.stats._distn_infrastructure.rv_frozen object at 0x000001DA349740C8>},\n",
       "                   pre_dispatch='2*n_jobs', random_state=None, refit=True,\n",
       "                   return_train_score=False,\n",
       "                   scoring=make_scorer(f1_score, pos_label=pos), verbose=0)"
      ]
     },
     "execution_count": 324,
     "metadata": {},
     "output_type": "execute_result"
    }
   ],
   "source": [
    "model_randSearch.fit(review_train,label_train)"
   ]
  },
  {
   "cell_type": "code",
   "execution_count": 325,
   "metadata": {},
   "outputs": [
    {
     "data": {
      "text/plain": [
       "Pipeline(memory=None,\n",
       "         steps=[('bow_transform',\n",
       "                 CountVectorizer(analyzer='word', binary=False,\n",
       "                                 decode_error='strict',\n",
       "                                 dtype=<class 'numpy.int64'>, encoding='utf-8',\n",
       "                                 input='content', lowercase=True, max_df=1.0,\n",
       "                                 max_features=None, min_df=1,\n",
       "                                 ngram_range=(1, 1), preprocessor=None,\n",
       "                                 stop_words=None, strip_accents=None,\n",
       "                                 token_pattern='(?u)\\\\b\\\\w\\\\w+\\\\b',\n",
       "                                 tokenizer=None, vocabulary=None)),\n",
       "                ('tfidf_transform',\n",
       "                 TfidfTransformer(norm='l2', smooth_idf=True,\n",
       "                                  sublinear_tf=False, use_idf=True)),\n",
       "                ('classifier',\n",
       "                 MultinomialNB(alpha=0.5448322875490428, class_prior=None,\n",
       "                               fit_prior=True))],\n",
       "         verbose=False)"
      ]
     },
     "execution_count": 325,
     "metadata": {},
     "output_type": "execute_result"
    }
   ],
   "source": [
    "model_randSearch.best_estimator_"
   ]
  },
  {
   "cell_type": "code",
   "execution_count": 326,
   "metadata": {},
   "outputs": [],
   "source": [
    "predicted_test_Randsearch = model_randSearch.predict(review_test)"
   ]
  },
  {
   "cell_type": "code",
   "execution_count": 328,
   "metadata": {},
   "outputs": [
    {
     "name": "stdout",
     "output_type": "stream",
     "text": [
      "Classification report \n",
      "              precision    recall  f1-score   support\n",
      "\n",
      "         neg       0.86      0.87      0.86      5000\n",
      "         pos       0.87      0.86      0.86      5000\n",
      "\n",
      "    accuracy                           0.86     10000\n",
      "   macro avg       0.86      0.86      0.86     10000\n",
      "weighted avg       0.86      0.86      0.86     10000\n",
      "\n",
      "****************************************************************************************************\n",
      "Confusion metrics \n",
      "      0     1\n",
      "0  4354   646\n",
      "1   724  4276\n"
     ]
    }
   ],
   "source": [
    "print_classification_report(label_test,predicted_test_Randsearch)"
   ]
  },
  {
   "cell_type": "markdown",
   "metadata": {},
   "source": [
    "**As we can see we are not observing any improvement in our model at all**\n",
    "\n",
    "Yup no use of hyper-parameter search in this case. Or we may have failed to find best hyper-param space.\n",
    "\n",
    "**Let's try one more simple model i.e `logistic regression`**"
   ]
  },
  {
   "cell_type": "code",
   "execution_count": 329,
   "metadata": {},
   "outputs": [],
   "source": [
    "from sklearn.linear_model import LogisticRegression"
   ]
  },
  {
   "cell_type": "code",
   "execution_count": 330,
   "metadata": {},
   "outputs": [],
   "source": [
    "# create pipeline for logistic regression\n",
    "\n",
    "\n",
    "logistic_review_pipeline = Pipeline(steps = [\n",
    "    ('bow_transform',CountVectorizer()),\n",
    "    ('tfidf_transform',TfidfTransformer()),\n",
    "    ('classifier',LogisticRegression())\n",
    "])"
   ]
  },
  {
   "cell_type": "code",
   "execution_count": 331,
   "metadata": {},
   "outputs": [
    {
     "data": {
      "text/plain": [
       "Pipeline(memory=None,\n",
       "         steps=[('bow_transform',\n",
       "                 CountVectorizer(analyzer='word', binary=False,\n",
       "                                 decode_error='strict',\n",
       "                                 dtype=<class 'numpy.int64'>, encoding='utf-8',\n",
       "                                 input='content', lowercase=True, max_df=1.0,\n",
       "                                 max_features=None, min_df=1,\n",
       "                                 ngram_range=(1, 1), preprocessor=None,\n",
       "                                 stop_words=None, strip_accents=None,\n",
       "                                 token_pattern='(?u)\\\\b\\\\w\\\\w+\\\\b',\n",
       "                                 tokenizer=None, vocab...\n",
       "                ('tfidf_transform',\n",
       "                 TfidfTransformer(norm='l2', smooth_idf=True,\n",
       "                                  sublinear_tf=False, use_idf=True)),\n",
       "                ('classifier',\n",
       "                 LogisticRegression(C=1.0, class_weight=None, dual=False,\n",
       "                                    fit_intercept=True, intercept_scaling=1,\n",
       "                                    l1_ratio=None, max_iter=100,\n",
       "                                    multi_class='warn', n_jobs=None,\n",
       "                                    penalty='l2', random_state=None,\n",
       "                                    solver='warn', tol=0.0001, verbose=0,\n",
       "                                    warm_start=False))],\n",
       "         verbose=False)"
      ]
     },
     "execution_count": 331,
     "metadata": {},
     "output_type": "execute_result"
    }
   ],
   "source": [
    "logistic_review_pipeline.fit(review_train,label_train)"
   ]
  },
  {
   "cell_type": "code",
   "execution_count": 332,
   "metadata": {},
   "outputs": [
    {
     "name": "stdout",
     "output_type": "stream",
     "text": [
      "Classification report \n",
      "              precision    recall  f1-score   support\n",
      "\n",
      "         neg       0.91      0.88      0.89      5000\n",
      "         pos       0.89      0.91      0.90      5000\n",
      "\n",
      "    accuracy                           0.90     10000\n",
      "   macro avg       0.90      0.90      0.90     10000\n",
      "weighted avg       0.90      0.90      0.90     10000\n",
      "\n",
      "****************************************************************************************************\n",
      "Confusion metrics \n",
      "      0     1\n",
      "0  4413   587\n",
      "1   462  4538\n"
     ]
    }
   ],
   "source": [
    "predicted_test_log = logistic_review_pipeline.predict(review_test)\n",
    "\n",
    "print_classification_report(label_test,predicted_test_log)"
   ]
  },
  {
   "cell_type": "markdown",
   "metadata": {},
   "source": [
    "**Wow looks like logistic regression is performing well**"
   ]
  },
  {
   "cell_type": "code",
   "execution_count": 339,
   "metadata": {},
   "outputs": [],
   "source": [
    "# let's do some hyper-param search for logistic reg\n",
    "\n",
    "f1_scorer = make_scorer(f1_score, pos_label=\"pos\")\n",
    "\n",
    "parameter_to_tune = {\"classifier__C\":[1,2,3,4,5,6,7,8,9,10,10,11,12]} # pipeline name of the our algo or estimator\n",
    "\n",
    "model_grid_search = GridSearchCV(logistic_review_pipeline,\n",
    "                                 param_grid = parameter_to_tune,\n",
    "                                 scoring = f1_scorer,cv = 5)"
   ]
  },
  {
   "cell_type": "code",
   "execution_count": 340,
   "metadata": {},
   "outputs": [
    {
     "data": {
      "text/plain": [
       "GridSearchCV(cv=5, error_score='raise-deprecating',\n",
       "             estimator=Pipeline(memory=None,\n",
       "                                steps=[('bow_transform',\n",
       "                                        CountVectorizer(analyzer='word',\n",
       "                                                        binary=False,\n",
       "                                                        decode_error='strict',\n",
       "                                                        dtype=<class 'numpy.int64'>,\n",
       "                                                        encoding='utf-8',\n",
       "                                                        input='content',\n",
       "                                                        lowercase=True,\n",
       "                                                        max_df=1.0,\n",
       "                                                        max_features=None,\n",
       "                                                        min_df=1,\n",
       "                                                        ngram_range=(1, 1),\n",
       "                                                        preprocessor=None,\n",
       "                                                        stop_words=None,\n",
       "                                                        strip_accents...\n",
       "                                                           l1_ratio=None,\n",
       "                                                           max_iter=100,\n",
       "                                                           multi_class='warn',\n",
       "                                                           n_jobs=None,\n",
       "                                                           penalty='l2',\n",
       "                                                           random_state=None,\n",
       "                                                           solver='warn',\n",
       "                                                           tol=0.0001,\n",
       "                                                           verbose=0,\n",
       "                                                           warm_start=False))],\n",
       "                                verbose=False),\n",
       "             iid='warn', n_jobs=None,\n",
       "             param_grid={'classifier__C': [1, 2, 3, 4, 5, 6, 7, 8, 9, 10, 10,\n",
       "                                           11, 12]},\n",
       "             pre_dispatch='2*n_jobs', refit=True, return_train_score=False,\n",
       "             scoring=make_scorer(f1_score, pos_label=pos), verbose=0)"
      ]
     },
     "execution_count": 340,
     "metadata": {},
     "output_type": "execute_result"
    }
   ],
   "source": [
    "model_grid_search.fit(review_train,label_train)"
   ]
  },
  {
   "cell_type": "code",
   "execution_count": 341,
   "metadata": {},
   "outputs": [
    {
     "data": {
      "text/plain": [
       "Pipeline(memory=None,\n",
       "         steps=[('bow_transform',\n",
       "                 CountVectorizer(analyzer='word', binary=False,\n",
       "                                 decode_error='strict',\n",
       "                                 dtype=<class 'numpy.int64'>, encoding='utf-8',\n",
       "                                 input='content', lowercase=True, max_df=1.0,\n",
       "                                 max_features=None, min_df=1,\n",
       "                                 ngram_range=(1, 1), preprocessor=None,\n",
       "                                 stop_words=None, strip_accents=None,\n",
       "                                 token_pattern='(?u)\\\\b\\\\w\\\\w+\\\\b',\n",
       "                                 tokenizer=None, vocab...\n",
       "                ('tfidf_transform',\n",
       "                 TfidfTransformer(norm='l2', smooth_idf=True,\n",
       "                                  sublinear_tf=False, use_idf=True)),\n",
       "                ('classifier',\n",
       "                 LogisticRegression(C=5, class_weight=None, dual=False,\n",
       "                                    fit_intercept=True, intercept_scaling=1,\n",
       "                                    l1_ratio=None, max_iter=100,\n",
       "                                    multi_class='warn', n_jobs=None,\n",
       "                                    penalty='l2', random_state=None,\n",
       "                                    solver='warn', tol=0.0001, verbose=0,\n",
       "                                    warm_start=False))],\n",
       "         verbose=False)"
      ]
     },
     "execution_count": 341,
     "metadata": {},
     "output_type": "execute_result"
    }
   ],
   "source": [
    "model_grid_search.best_estimator_"
   ]
  },
  {
   "cell_type": "code",
   "execution_count": 342,
   "metadata": {},
   "outputs": [
    {
     "name": "stdout",
     "output_type": "stream",
     "text": [
      "Classification report \n",
      "              precision    recall  f1-score   support\n",
      "\n",
      "         neg       0.91      0.89      0.90      5000\n",
      "         pos       0.89      0.91      0.90      5000\n",
      "\n",
      "    accuracy                           0.90     10000\n",
      "   macro avg       0.90      0.90      0.90     10000\n",
      "weighted avg       0.90      0.90      0.90     10000\n",
      "\n",
      "****************************************************************************************************\n",
      "Confusion metrics \n",
      "      0     1\n",
      "0  4430   570\n",
      "1   457  4543\n"
     ]
    }
   ],
   "source": [
    "predicted_test_log = model_grid_search.predict(review_test)\n",
    "\n",
    "print_classification_report(label_test,predicted_test_log)"
   ]
  },
  {
   "cell_type": "code",
   "execution_count": null,
   "metadata": {},
   "outputs": [],
   "source": []
  },
  {
   "cell_type": "code",
   "execution_count": null,
   "metadata": {},
   "outputs": [],
   "source": []
  },
  {
   "cell_type": "code",
   "execution_count": null,
   "metadata": {},
   "outputs": [],
   "source": []
  },
  {
   "cell_type": "code",
   "execution_count": null,
   "metadata": {},
   "outputs": [],
   "source": []
  },
  {
   "cell_type": "code",
   "execution_count": null,
   "metadata": {},
   "outputs": [],
   "source": []
  }
 ],
 "metadata": {
  "kernelspec": {
   "display_name": "Python 3.7.5 64-bit ('pytorch_env': conda)",
   "language": "python",
   "name": "python37564bitpytorchenvconda1a599ba2df0f415ab16aa82c434e76bb"
  },
  "language_info": {
   "codemirror_mode": {
    "name": "ipython",
    "version": 3
   },
   "file_extension": ".py",
   "mimetype": "text/x-python",
   "name": "python",
   "nbconvert_exporter": "python",
   "pygments_lexer": "ipython3",
   "version": "3.7.5"
  }
 },
 "nbformat": 4,
 "nbformat_minor": 4
}
