{
  "nbformat": 4,
  "nbformat_minor": 0,
  "metadata": {
    "kernelspec": {
      "display_name": "Python 3",
      "language": "python",
      "name": "python3"
    },
    "language_info": {
      "codemirror_mode": {
        "name": "ipython",
        "version": 3
      },
      "file_extension": ".py",
      "mimetype": "text/x-python",
      "name": "python",
      "nbconvert_exporter": "python",
      "pygments_lexer": "ipython3",
      "version": "3.8.2"
    },
    "colab": {
      "name": "NLP_01_BOW_TF-IDF.ipynb",
      "provenance": [],
      "include_colab_link": true
    }
  },
  "cells": [
    {
      "cell_type": "markdown",
      "metadata": {
        "id": "view-in-github",
        "colab_type": "text"
      },
      "source": [
        "<a href=\"https://colab.research.google.com/github/biku1998/NLP-Notebooks/blob/master/NLP_01_BOW_TF-IDF.ipynb\" target=\"_parent\"><img src=\"https://colab.research.google.com/assets/colab-badge.svg\" alt=\"Open In Colab\"/></a>"
      ]
    },
    {
      "cell_type": "markdown",
      "metadata": {
        "id": "QV--I6404IOV",
        "colab_type": "text"
      },
      "source": [
        "### In this notebook we will see the most basic topic in NLP i.e how do we represent words into numerical format.\n",
        "\n",
        "* The story of NLP starts with a document. These are nothing but terms used for representing a piece of text. Can be a simple string, can be large book. Another term that you can hear is corpus which means a collection of such documents."
      ]
    },
    {
      "cell_type": "markdown",
      "metadata": {
        "id": "spRmH4zA4IOW",
        "colab_type": "text"
      },
      "source": [
        "---\n",
        "**Bag of Words**\n",
        "\n",
        "Steps to create Bag of Words\n",
        "\n",
        "- Construct a set of all the words you have in your corpus. why set ? --> no duplicates\n",
        "- Each word in the set is a different dimension.\n",
        "- Each line or sentence in your data will be a vector or list in very simple terms of size (1,no_of_unique_words_in_corpus) or (1,len(set)). So each index i will represent a word.\n",
        "- And the element at that index will be = # times the word occurs in the given line or sentence.\n",
        "\n",
        "e.g\n",
        "\n",
        "A man is running in a park --> [0 ,1 ,0 ,0 ,0 , 0 ,1 ,0 ,2 0, 0 ,1........]\n",
        "                                \n",
        "    1-(man appeared 1 time)     1-(running appeared 1 time)   2-(a){a appeared 2 times}     1-(park appeared 1 time) ....\n",
        "\n",
        "**Some points about Bag Of Words**\n",
        "- as you can see as the size of corpus increases the size of each vector representing a line increases\n",
        "- the vector is very sparse i.e most of the values are zero\n",
        "- bag of words does not capture semantic of a text, we can see that it's doing nothing but counting common words.\n",
        "\n",
        "---\n",
        "\n",
        "**Binary or boolean Bag of Words**\n",
        "- It's same as bag of words but instead of putting the no of occurrence it simply put 1 if the word exist else 0\n",
        "- So binary bag of words can be thought of as no of differing words\n",
        "\n",
        "\n",
        "**Let's see how to implement both in pure python**\n",
        "\n",
        "I will try my best to follow best coding practices"
      ]
    },
    {
      "cell_type": "code",
      "metadata": {
        "id": "ekX_CslK4IOY",
        "colab_type": "code",
        "colab": {}
      },
      "source": [
        "import numpy as np"
      ],
      "execution_count": 0,
      "outputs": []
    },
    {
      "cell_type": "code",
      "metadata": {
        "id": "p5frjBM14IOe",
        "colab_type": "code",
        "colab": {}
      },
      "source": [
        "########### Bag of Words\n",
        "\n",
        "class BagOfWords(object):\n",
        "    def __init__(self,corpus:list):\n",
        "        if not isinstance(corpus,list):\n",
        "            raise Exception(f\"corpus type should be a list of documents i.e strings not {type(corpus)}\")\n",
        "        self.corpus_len = len(corpus)\n",
        "        self.unique_words = set()\n",
        "        self.corpus = corpus # don't do this if the corpus is large otherwise your RAM usage will incerease        \n",
        "        self.construct_corpus()\n",
        "    \n",
        "    def construct_corpus(self):\n",
        "        for document in self.corpus:\n",
        "            tokens = document.split(\" \")\n",
        "            for t in tokens:\n",
        "                self.unique_words.add(t.strip())\n",
        "                \n",
        "    def get_numeric_rep(self,document:str):\n",
        "        if not isinstance(document,str):\n",
        "            raise Exception(f\"document must be string not {type(document)}\")\n",
        "        word_dict = dict.fromkeys(self.unique_words,0)\n",
        "        \n",
        "        for word in document.split(\" \"):\n",
        "            word_dict[word.strip()] += 1\n",
        "            \n",
        "        return np.array(list(word_dict.values()))\n",
        "    \n",
        "############ Binary Bag of Words\n",
        "\n",
        "class BinaryBagOfWords(object):\n",
        "    def __init__(self,corpus:list):\n",
        "        if not isinstance(corpus,list):\n",
        "            raise Exception(\"corpus type should be a list of documents i.e strings\")\n",
        "        self.corpus_len = len(corpus)\n",
        "        self.unique_words = set()\n",
        "        self.corpus = corpus # don't do this if the corpus is large otherwise your RAM usage will incerease        \n",
        "        self.construct_corpus()\n",
        "    \n",
        "    def construct_corpus(self):\n",
        "        for document in self.corpus:\n",
        "            tokens = document.split(\" \")\n",
        "            for t in tokens:\n",
        "                self.unique_words.add(t.strip())\n",
        "                \n",
        "    def get_numeric_rep(self,document:str):\n",
        "        if not isinstance(document,str):\n",
        "            raise Exception(\"document must be string\")\n",
        "        word_dict = dict.fromkeys(self.unique_words,0)\n",
        "        \n",
        "        for word in document.split(\" \"):\n",
        "            word_dict[word.strip()] = 1\n",
        "            \n",
        "        return np.array(list(word_dict.values()))"
      ],
      "execution_count": 0,
      "outputs": []
    },
    {
      "cell_type": "code",
      "metadata": {
        "id": "AUhFy7UP4IOh",
        "colab_type": "code",
        "colab": {}
      },
      "source": [
        "# Let's take 2 simple document\n",
        "\n",
        "docA = \"the cat is sitting on my face\"\n",
        "docB = \"the dog is sitting on my bed\""
      ],
      "execution_count": 0,
      "outputs": []
    },
    {
      "cell_type": "code",
      "metadata": {
        "id": "4pDk6U2l4IOk",
        "colab_type": "code",
        "colab": {}
      },
      "source": [
        "bow  = BagOfWords([docA,docB])\n",
        "bow_binary = BinaryBagOfWords([docA,docB])"
      ],
      "execution_count": 0,
      "outputs": []
    },
    {
      "cell_type": "code",
      "metadata": {
        "id": "52tyc8km4IOn",
        "colab_type": "code",
        "colab": {},
        "outputId": "e302580d-a954-4b38-fa67-075ac008a9f7"
      },
      "source": [
        "bow.corpus_len,bow_binary.corpus_len # 2 documents"
      ],
      "execution_count": 0,
      "outputs": [
        {
          "output_type": "execute_result",
          "data": {
            "text/plain": [
              "(2, 2)"
            ]
          },
          "metadata": {
            "tags": []
          },
          "execution_count": 6
        }
      ]
    },
    {
      "cell_type": "code",
      "metadata": {
        "id": "AbvAhCv14IOs",
        "colab_type": "code",
        "colab": {},
        "outputId": "8f215bf6-574c-4892-b2fb-ab0797b9d63c"
      },
      "source": [
        "bow.unique_words,bow_binary.unique_words"
      ],
      "execution_count": 0,
      "outputs": [
        {
          "output_type": "execute_result",
          "data": {
            "text/plain": [
              "({'bed', 'cat', 'dog', 'face', 'is', 'my', 'on', 'sitting', 'the'},\n",
              " {'bed', 'cat', 'dog', 'face', 'is', 'my', 'on', 'sitting', 'the'})"
            ]
          },
          "metadata": {
            "tags": []
          },
          "execution_count": 7
        }
      ]
    },
    {
      "cell_type": "code",
      "metadata": {
        "id": "ZxJ3140E4IOw",
        "colab_type": "code",
        "colab": {},
        "outputId": "44dd37f4-7e56-457b-d04a-827b6ddbb98f"
      },
      "source": [
        "bow.get_numeric_rep(docA)"
      ],
      "execution_count": 0,
      "outputs": [
        {
          "output_type": "execute_result",
          "data": {
            "text/plain": [
              "array([1, 1, 0, 1, 1, 1, 1, 0, 1])"
            ]
          },
          "metadata": {
            "tags": []
          },
          "execution_count": 8
        }
      ]
    },
    {
      "cell_type": "code",
      "metadata": {
        "id": "thbar3xB4IO0",
        "colab_type": "code",
        "colab": {},
        "outputId": "34d86141-93c6-443b-84ca-efec897f70f6"
      },
      "source": [
        "bow_binary.get_numeric_rep(docA)"
      ],
      "execution_count": 0,
      "outputs": [
        {
          "output_type": "execute_result",
          "data": {
            "text/plain": [
              "array([1, 1, 0, 1, 1, 1, 1, 0, 1])"
            ]
          },
          "metadata": {
            "tags": []
          },
          "execution_count": 9
        }
      ]
    },
    {
      "cell_type": "code",
      "metadata": {
        "id": "3L2T6FXC4IO6",
        "colab_type": "code",
        "colab": {},
        "outputId": "2ce2a46f-805c-492a-899d-7a6866a00809"
      },
      "source": [
        "docTest = \"the cat is sitting on my face the cat is\"\n",
        "bow.get_numeric_rep(docTest) # the elements are freq of words"
      ],
      "execution_count": 0,
      "outputs": [
        {
          "output_type": "execute_result",
          "data": {
            "text/plain": [
              "array([1, 1, 0, 2, 2, 2, 1, 0, 1])"
            ]
          },
          "metadata": {
            "tags": []
          },
          "execution_count": 10
        }
      ]
    },
    {
      "cell_type": "code",
      "metadata": {
        "id": "00mk-mfL4IO9",
        "colab_type": "code",
        "colab": {},
        "outputId": "950ec2e3-2b3a-4b9c-9dca-c718e1e9cf26"
      },
      "source": [
        "bow_binary.get_numeric_rep(docTest) # the elements are just binary value i.e word exist or not"
      ],
      "execution_count": 0,
      "outputs": [
        {
          "output_type": "execute_result",
          "data": {
            "text/plain": [
              "array([1, 1, 0, 1, 1, 1, 1, 0, 1])"
            ]
          },
          "metadata": {
            "tags": []
          },
          "execution_count": 11
        }
      ]
    },
    {
      "cell_type": "code",
      "metadata": {
        "id": "85UXJySZ4IPA",
        "colab_type": "code",
        "colab": {}
      },
      "source": [
        "# let's compare the numerical conversion of 2 documents carefully\n",
        "\n",
        "import pandas as pd"
      ],
      "execution_count": 0,
      "outputs": []
    },
    {
      "cell_type": "code",
      "metadata": {
        "id": "oL8hZYmv4IPE",
        "colab_type": "code",
        "colab": {},
        "outputId": "cb3aacf6-8545-4252-fef6-9f392be9adbf"
      },
      "source": [
        "print(docA)\n",
        "print(docB)\n",
        "pd.DataFrame(columns = bow.unique_words,data = [bow.get_numeric_rep(docA),bow.get_numeric_rep(docB)])"
      ],
      "execution_count": 0,
      "outputs": [
        {
          "output_type": "stream",
          "text": [
            "the cat is sitting on my face\n",
            "the dog is sitting on my bed\n"
          ],
          "name": "stdout"
        },
        {
          "output_type": "execute_result",
          "data": {
            "text/html": [
              "<div>\n",
              "<style scoped>\n",
              "    .dataframe tbody tr th:only-of-type {\n",
              "        vertical-align: middle;\n",
              "    }\n",
              "\n",
              "    .dataframe tbody tr th {\n",
              "        vertical-align: top;\n",
              "    }\n",
              "\n",
              "    .dataframe thead th {\n",
              "        text-align: right;\n",
              "    }\n",
              "</style>\n",
              "<table border=\"1\" class=\"dataframe\">\n",
              "  <thead>\n",
              "    <tr style=\"text-align: right;\">\n",
              "      <th></th>\n",
              "      <th>face</th>\n",
              "      <th>my</th>\n",
              "      <th>bed</th>\n",
              "      <th>cat</th>\n",
              "      <th>is</th>\n",
              "      <th>the</th>\n",
              "      <th>sitting</th>\n",
              "      <th>dog</th>\n",
              "      <th>on</th>\n",
              "    </tr>\n",
              "  </thead>\n",
              "  <tbody>\n",
              "    <tr>\n",
              "      <th>0</th>\n",
              "      <td>1</td>\n",
              "      <td>1</td>\n",
              "      <td>0</td>\n",
              "      <td>1</td>\n",
              "      <td>1</td>\n",
              "      <td>1</td>\n",
              "      <td>1</td>\n",
              "      <td>0</td>\n",
              "      <td>1</td>\n",
              "    </tr>\n",
              "    <tr>\n",
              "      <th>1</th>\n",
              "      <td>0</td>\n",
              "      <td>1</td>\n",
              "      <td>1</td>\n",
              "      <td>0</td>\n",
              "      <td>1</td>\n",
              "      <td>1</td>\n",
              "      <td>1</td>\n",
              "      <td>1</td>\n",
              "      <td>1</td>\n",
              "    </tr>\n",
              "  </tbody>\n",
              "</table>\n",
              "</div>"
            ],
            "text/plain": [
              "   face  my  bed  cat  is  the  sitting  dog  on\n",
              "0     1   1    0    1   1    1        1    0   1\n",
              "1     0   1    1    0   1    1        1    1   1"
            ]
          },
          "metadata": {
            "tags": []
          },
          "execution_count": 13
        }
      ]
    },
    {
      "cell_type": "markdown",
      "metadata": {
        "id": "Bb2NLb5p4IPH",
        "colab_type": "text"
      },
      "source": [
        "**Observations**\n",
        "\n",
        "- if we see words like a, the, is etc are pretty common words and they occur in both documents\n",
        "- The problem with BOW is we are using too much words which don't mean much .i.e those words don't help to differentiate those 2 documents we have hence they are often called **stop words**\n",
        "\n",
        "\n",
        "- So in any language the words mostly follow power law distribution. If we use this count based approach then we will end up with a lot of words that do not contain a lot of information.\n",
        "- Hence they will end up hurting the performance of **simpler models** like Naive Bayes etc.\n",
        "- In more capable networks like Neural Network these words are not removed because they can through context sometimes, this is why common text cleaning are not advised when using large architectures\n",
        "\n",
        "- **Sometime we also remove stop-words , do stemming , lemmatization (we will cover later) before building Bag of words** So that we get good quality of numerical rep.\n",
        "\n",
        "**Look at this interesting case of guy using RNN for text classification using Fast.ai library**\n",
        "\n",
        "<img src = \"./twitter_stop_words.png\"></img>"
      ]
    },
    {
      "cell_type": "markdown",
      "metadata": {
        "id": "5Ere_kFD4IPH",
        "colab_type": "text"
      },
      "source": [
        "### Hmm so we need a better way to handle our numerical conversion process\n",
        "\n",
        "    \n",
        "---\n",
        "**TF-IDF** (term frequency - inverse document frequency)\n",
        "\n",
        "**TF**\n",
        "\n",
        "$TF(w_i,d_j) = \\frac{no ~of ~times ~w_i ~occurs ~in ~d_j}{total ~no ~of ~words ~in ~d_j}$ \n",
        "\n",
        "In words\n",
        " - Term freq of any word $w_i$ in a document $d_j$ is equal to no time word $w_i$ occurs in document $d_j$ by total no of words in document $d_j$\n",
        " \n",
        "Some key points\n",
        " - $ 0 \\leq TF(w_i,d_j) \\leq 1$ Hence we can interpret it as probabilities so term freq says \"**what is the probability of finding a word in a document**\". The other way to say this is \"**how often does a word occurs in a document**\"\n",
        "- So the more often the word occurs the higher the term frequency and vice versa\n",
        " \n",
        "- fun fact : all of these bag of words, Tf-Idf were first discovered in information retrieval branch of NLP\n",
        "---\n",
        "\n",
        "**IDF**\n",
        "\n",
        "$IDF(w_i,D_c)=\\log(\\frac{N ~(total ~no ~of ~documents)}{n_i~(documents ~which ~contain ~w_i) })$ where $w_i$ is i'th word and $D_c$ corpus of documents\n",
        "\n",
        "Some pointers regarding tf-idf\n",
        "- $n_i \\leq N$  ==>  $\\frac{N}{n_i}\\geq 1$  ==> $\\log(\\frac{N}{n_i}) \\geq 0$, so IDF is always positive\n",
        "- **But when IDF will be equal to 1 ?**\n",
        "\n",
        "Let's figure it out\n",
        "\n",
        "Suppose $n_i$ increases which will result in decrease of $\\frac{N}{n_i}$ Which will result in decrease of  $\\log(\\frac{N}{n_i})$ because log is **monotonically increasing function**, what the hell is this ? -> When $f(x)$ increases as $x$ increases, this type of function is called monotonically increasing fn. For more info <a href = \"https://en.wikipedia.org/wiki/Monotonic_function\">here </a>\n"
      ]
    },
    {
      "cell_type": "code",
      "metadata": {
        "id": "Kt54DMIf4IPI",
        "colab_type": "code",
        "colab": {},
        "outputId": "569e8782-7292-49b1-8b05-6cda6e3e29fd"
      },
      "source": [
        "import matplotlib.pyplot as plt\n",
        "\n",
        "x = np.linspace(1,100,1000)\n",
        "y = np.log(x)\n",
        "\n",
        "plt.plot(x,y)\n",
        "plt.title(\"monotonically increasing $\\log(x)$ plot\",fontsize = 15)\n",
        "plt.show()"
      ],
      "execution_count": 0,
      "outputs": [
        {
          "output_type": "display_data",
          "data": {
            "image/png": "[encoded data removed]",
            "text/plain": [
              "<Figure size 432x288 with 1 Axes>"
            ]
          },
          "metadata": {
            "tags": [],
            "needs_background": "light"
          }
        }
      ]
    },
    {
      "cell_type": "markdown",
      "metadata": {
        "id": "w-BbLzqT4IPL",
        "colab_type": "text"
      },
      "source": [
        "So we now know if a word $w_i$ occurs in almost all the document the IDF of that word will be very low.\n",
        "Which is nothing but if $n_i\\uparrow$ then $IDF\\downarrow$ \n",
        "\n",
        "Can you guess some words that will reflect the above case ? Yes.. **All the stop words**\n",
        "\n",
        "And and if  $n_i\\downarrow$ then $IDF\\uparrow$\n",
        "\n",
        "Can you guess some words that will reflect the above case ? Yes.. **All the rare words**\n",
        "\n",
        "**Okay Let's combine Tf and Idf to see how we will achieve our task of converting words to numerical forms**\n",
        "\n",
        "---\n",
        "Suppose a sentence \"A man is running in the park\" will be represented as follows $[w_1,w_2,w_3,w_4,w_5,w_6,w_7]$ where $w_i$ is a word in the sentence and we will replace $w_i$ with $TF(w_i,d_j) * IDF(w_i,D_c)$\n",
        "\n",
        "But what does this mean ? \n",
        "\n",
        "When will $TF(w_i,d_j)$ be high ? --> When word will occur more frequent\n",
        "and when will $IDF(w_i,D_c)$ be high ? --> when a word is rare \n",
        "\n",
        "Ohh which means **We are giving more importance to rare words**\n",
        "\n",
        "**But still TF-IDF does not take semantic meaning of words in consideration**\n",
        "\n",
        "    Okay Time to code Tf-Idf"
      ]
    },
    {
      "cell_type": "code",
      "metadata": {
        "id": "AKONITvK4IPL",
        "colab_type": "code",
        "colab": {}
      },
      "source": [
        "class Tf_Idf(object):\n",
        "    def __init__(self,corpus:list):\n",
        "        if not isinstance(corpus,list):\n",
        "            raise Exception(f\"corpus type should be a list of documents i.e strings not {type(corpus)}\")\n",
        "        self.corpus_len = len(corpus)\n",
        "        self.corpus = corpus\n",
        "        self.unique_words = set()\n",
        "        self.construct_corpus()\n",
        "        \n",
        "    def construct_corpus(self):\n",
        "        for document in self.corpus:\n",
        "            tokens = document.split(\" \")\n",
        "            for t in tokens:\n",
        "                self.unique_words.add(t.strip())\n",
        "                \n",
        "    def tf(self,word:str,document:str,verbose = False):\n",
        "        words = document.split(\" \")\n",
        "        words = [w.strip() for w in words]\n",
        "        word = word.strip()\n",
        "        \n",
        "        if not word in words:\n",
        "            return 0\n",
        "        \n",
        "        word_dict = dict.fromkeys(words,0)\n",
        "        \n",
        "        for w in words:\n",
        "            word_dict[w] += 1\n",
        "            \n",
        "        tf = word_dict[word] / len(words)\n",
        "        \n",
        "        if verbose:\n",
        "            print(f\"word provided : {word}\\nDocument provided : {document}\\ntf form : {tf}\")\n",
        "        return tf\n",
        "    \n",
        "    def idf(self,word):\n",
        "        word = word.strip()\n",
        "        total_docs = self.corpus_len\n",
        "        word_counter = 0\n",
        "        \n",
        "        for doc in self.corpus:\n",
        "            words = doc.split(\" \")\n",
        "            words = [w.strip() for w in words]\n",
        "            \n",
        "            if word in words:\n",
        "                word_counter +=1\n",
        "        \n",
        "        return np.log(total_docs / word_counter)\n",
        "        \n",
        "        \n",
        "                \n",
        "    def get_numeric_rep(self,document:str):\n",
        "        if not isinstance(document,str):\n",
        "            raise Exception(f\"document must be string not {type(document)}\")\n",
        "        \n",
        "        num_rep = dict.fromkeys(self.unique_words,0)\n",
        "        \n",
        "        for w in self.unique_words:\n",
        "            tf = self.tf(w,document)\n",
        "            idf = self.idf(w)\n",
        "            num_rep[w] = tf * idf\n",
        "            \n",
        "        return np.array(list(num_rep.values()))\n",
        "        "
      ],
      "execution_count": 0,
      "outputs": []
    },
    {
      "cell_type": "code",
      "metadata": {
        "id": "TNZyWFUZ4IPP",
        "colab_type": "code",
        "colab": {}
      },
      "source": [
        "tf_idf = Tf_Idf([docA,docB])"
      ],
      "execution_count": 0,
      "outputs": []
    },
    {
      "cell_type": "code",
      "metadata": {
        "id": "bP4PDIxp4IPS",
        "colab_type": "code",
        "colab": {},
        "outputId": "ac8d5424-9cd9-4cdd-89e7-c7b0fd10b82c"
      },
      "source": [
        "tf_idf.get_numeric_rep(docA)"
      ],
      "execution_count": 0,
      "outputs": [
        {
          "output_type": "execute_result",
          "data": {
            "text/plain": [
              "array([0.09902103, 0.        , 0.        , 0.09902103, 0.        ,\n",
              "       0.        , 0.        , 0.        , 0.        ])"
            ]
          },
          "metadata": {
            "tags": []
          },
          "execution_count": 17
        }
      ]
    },
    {
      "cell_type": "code",
      "metadata": {
        "id": "zoTSwEyu4IPW",
        "colab_type": "code",
        "colab": {},
        "outputId": "f81cbe0b-92b5-4c50-8689-a7542b348244"
      },
      "source": [
        "tf_idf.get_numeric_rep(docB)"
      ],
      "execution_count": 0,
      "outputs": [
        {
          "output_type": "execute_result",
          "data": {
            "text/plain": [
              "array([0.        , 0.        , 0.09902103, 0.        , 0.        ,\n",
              "       0.        , 0.        , 0.09902103, 0.        ])"
            ]
          },
          "metadata": {
            "tags": []
          },
          "execution_count": 18
        }
      ]
    },
    {
      "cell_type": "code",
      "metadata": {
        "id": "OP5GYKuU4IPZ",
        "colab_type": "code",
        "colab": {},
        "outputId": "d87003a6-fd6b-420f-d12b-5dcb3415156a"
      },
      "source": [
        "tf_idf.idf(\"the\") # idf of commom word"
      ],
      "execution_count": 0,
      "outputs": [
        {
          "output_type": "execute_result",
          "data": {
            "text/plain": [
              "0.0"
            ]
          },
          "metadata": {
            "tags": []
          },
          "execution_count": 19
        }
      ]
    },
    {
      "cell_type": "code",
      "metadata": {
        "id": "uZJMt-qN4IPd",
        "colab_type": "code",
        "colab": {},
        "outputId": "57d11260-1046-4c40-f0a8-f326ba628968"
      },
      "source": [
        "tf_idf.idf(\"cat\") # idf of rare word"
      ],
      "execution_count": 0,
      "outputs": [
        {
          "output_type": "execute_result",
          "data": {
            "text/plain": [
              "0.6931471805599453"
            ]
          },
          "metadata": {
            "tags": []
          },
          "execution_count": 20
        }
      ]
    },
    {
      "cell_type": "code",
      "metadata": {
        "id": "-V4aD90X4IPf",
        "colab_type": "code",
        "colab": {},
        "outputId": "a582d739-f4cb-4b70-a2bc-d4b5c6805c1b"
      },
      "source": [
        "print(docA)\n",
        "print(docB)\n",
        "pd.DataFrame(columns = tf_idf.unique_words,data = [tf_idf.get_numeric_rep(docA),tf_idf.get_numeric_rep(docB)])"
      ],
      "execution_count": 0,
      "outputs": [
        {
          "output_type": "stream",
          "text": [
            "the cat is sitting on my face\n",
            "the dog is sitting on my bed\n"
          ],
          "name": "stdout"
        },
        {
          "output_type": "execute_result",
          "data": {
            "text/html": [
              "<div>\n",
              "<style scoped>\n",
              "    .dataframe tbody tr th:only-of-type {\n",
              "        vertical-align: middle;\n",
              "    }\n",
              "\n",
              "    .dataframe tbody tr th {\n",
              "        vertical-align: top;\n",
              "    }\n",
              "\n",
              "    .dataframe thead th {\n",
              "        text-align: right;\n",
              "    }\n",
              "</style>\n",
              "<table border=\"1\" class=\"dataframe\">\n",
              "  <thead>\n",
              "    <tr style=\"text-align: right;\">\n",
              "      <th></th>\n",
              "      <th>face</th>\n",
              "      <th>my</th>\n",
              "      <th>bed</th>\n",
              "      <th>cat</th>\n",
              "      <th>is</th>\n",
              "      <th>the</th>\n",
              "      <th>sitting</th>\n",
              "      <th>dog</th>\n",
              "      <th>on</th>\n",
              "    </tr>\n",
              "  </thead>\n",
              "  <tbody>\n",
              "    <tr>\n",
              "      <th>0</th>\n",
              "      <td>0.099021</td>\n",
              "      <td>0.0</td>\n",
              "      <td>0.000000</td>\n",
              "      <td>0.099021</td>\n",
              "      <td>0.0</td>\n",
              "      <td>0.0</td>\n",
              "      <td>0.0</td>\n",
              "      <td>0.000000</td>\n",
              "      <td>0.0</td>\n",
              "    </tr>\n",
              "    <tr>\n",
              "      <th>1</th>\n",
              "      <td>0.000000</td>\n",
              "      <td>0.0</td>\n",
              "      <td>0.099021</td>\n",
              "      <td>0.000000</td>\n",
              "      <td>0.0</td>\n",
              "      <td>0.0</td>\n",
              "      <td>0.0</td>\n",
              "      <td>0.099021</td>\n",
              "      <td>0.0</td>\n",
              "    </tr>\n",
              "  </tbody>\n",
              "</table>\n",
              "</div>"
            ],
            "text/plain": [
              "       face   my       bed       cat   is  the  sitting       dog   on\n",
              "0  0.099021  0.0  0.000000  0.099021  0.0  0.0      0.0  0.000000  0.0\n",
              "1  0.000000  0.0  0.099021  0.000000  0.0  0.0      0.0  0.099021  0.0"
            ]
          },
          "metadata": {
            "tags": []
          },
          "execution_count": 21
        }
      ]
    },
    {
      "cell_type": "code",
      "metadata": {
        "id": "1L9d3aW94IPh",
        "colab_type": "code",
        "colab": {},
        "outputId": "14ab998f-f001-4b5a-d8ab-cb8eb581becf"
      },
      "source": [
        "docA = \"the cat sat on my face\"\n",
        "docB = \"the dog sat on my bed\"\n",
        "\n",
        "print(docA)\n",
        "print(docB)\n",
        "pd.DataFrame(columns = tf_idf.unique_words,data = [tf_idf.get_numeric_rep(docA),tf_idf.get_numeric_rep(docB)])"
      ],
      "execution_count": 0,
      "outputs": [
        {
          "output_type": "stream",
          "text": [
            "the cat sat on my face\n",
            "the dog sat on my bed\n"
          ],
          "name": "stdout"
        },
        {
          "output_type": "execute_result",
          "data": {
            "text/html": [
              "<div>\n",
              "<style scoped>\n",
              "    .dataframe tbody tr th:only-of-type {\n",
              "        vertical-align: middle;\n",
              "    }\n",
              "\n",
              "    .dataframe tbody tr th {\n",
              "        vertical-align: top;\n",
              "    }\n",
              "\n",
              "    .dataframe thead th {\n",
              "        text-align: right;\n",
              "    }\n",
              "</style>\n",
              "<table border=\"1\" class=\"dataframe\">\n",
              "  <thead>\n",
              "    <tr style=\"text-align: right;\">\n",
              "      <th></th>\n",
              "      <th>face</th>\n",
              "      <th>my</th>\n",
              "      <th>bed</th>\n",
              "      <th>cat</th>\n",
              "      <th>is</th>\n",
              "      <th>the</th>\n",
              "      <th>sitting</th>\n",
              "      <th>dog</th>\n",
              "      <th>on</th>\n",
              "    </tr>\n",
              "  </thead>\n",
              "  <tbody>\n",
              "    <tr>\n",
              "      <th>0</th>\n",
              "      <td>0.115525</td>\n",
              "      <td>0.0</td>\n",
              "      <td>0.000000</td>\n",
              "      <td>0.115525</td>\n",
              "      <td>0.0</td>\n",
              "      <td>0.0</td>\n",
              "      <td>0.0</td>\n",
              "      <td>0.000000</td>\n",
              "      <td>0.0</td>\n",
              "    </tr>\n",
              "    <tr>\n",
              "      <th>1</th>\n",
              "      <td>0.000000</td>\n",
              "      <td>0.0</td>\n",
              "      <td>0.115525</td>\n",
              "      <td>0.000000</td>\n",
              "      <td>0.0</td>\n",
              "      <td>0.0</td>\n",
              "      <td>0.0</td>\n",
              "      <td>0.115525</td>\n",
              "      <td>0.0</td>\n",
              "    </tr>\n",
              "  </tbody>\n",
              "</table>\n",
              "</div>"
            ],
            "text/plain": [
              "       face   my       bed       cat   is  the  sitting       dog   on\n",
              "0  0.115525  0.0  0.000000  0.115525  0.0  0.0      0.0  0.000000  0.0\n",
              "1  0.000000  0.0  0.115525  0.000000  0.0  0.0      0.0  0.115525  0.0"
            ]
          },
          "metadata": {
            "tags": []
          },
          "execution_count": 22
        }
      ]
    },
    {
      "cell_type": "markdown",
      "metadata": {
        "id": "Xxq6OYID4IPk",
        "colab_type": "text"
      },
      "source": [
        "**Observations**\n",
        "- We can clearly see the power of tf idf all the stop words i.e. words that are not important to separate the 2 sentences are just 0\n",
        "- This why tf-idf makes more sense, instead of just blunt count we are using probabilities\n",
        "\n",
        "---\n",
        "\n",
        "- **Notice that we have tried to make the class signature of both the approach same. It is generally a good practice to keep the structure of your code same when you are developing different methods for same task**\n",
        "\n",
        "- **By the way we don't need to implement TF-IDF or BOW from scratch, they are already there in sklearn and other ml tools. But to get a good understanding of this fundamentals we should do it.**"
      ]
    },
    {
      "cell_type": "code",
      "metadata": {
        "id": "dSChwX5R4IPk",
        "colab_type": "code",
        "colab": {}
      },
      "source": [
        ""
      ],
      "execution_count": 0,
      "outputs": []
    }
  ]
}